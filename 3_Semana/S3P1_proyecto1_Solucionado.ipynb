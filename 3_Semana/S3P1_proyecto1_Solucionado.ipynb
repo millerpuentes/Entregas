{
  "cells": [
    {
      "cell_type": "markdown",
      "metadata": {
        "id": "iYFZjOKT-W1-"
      },
      "source": [
        "![image info](https://raw.githubusercontent.com/davidzarruk/MIAD_ML_NLP_2023/main/images/banner_1.png)"
      ]
    },
    {
      "cell_type": "markdown",
      "metadata": {
        "id": "wrdwjx0a-W2B"
      },
      "source": [
        "# Proyecto 1 - Predicción de precios de vehículos usados\n",
        "\n",
        "En este proyecto podrán poner en práctica sus conocimientos sobre modelos predictivos basados en árboles y ensambles, y sobre la disponibilización de modelos. Para su desasrrollo tengan en cuenta las instrucciones dadas en la \"Guía del proyecto 1: Predicción de precios de vehículos usados\".\n",
        "\n",
        "**Entrega**: La entrega del proyecto deberán realizarla durante la semana 4. Sin embargo, es importante que avancen en la semana 3 en el modelado del problema y en parte del informe, tal y como se les indicó en la guía.\n",
        "\n",
        "Para hacer la entrega, deberán adjuntar el informe autocontenido en PDF a la actividad de entrega del proyecto que encontrarán en la semana 4, y subir el archivo de predicciones a la [competencia de Kaggle](https://www.kaggle.com/t/b8be43cf89c540bfaf3831f2c8506614)."
      ]
    },
    {
      "cell_type": "markdown",
      "metadata": {
        "id": "UbvHQu0h-W2B"
      },
      "source": [
        "## Datos para la predicción de precios de vehículos usados\n",
        "\n",
        "En este proyecto se usará el conjunto de datos de Car Listings de Kaggle, donde cada observación representa el precio de un automóvil teniendo en cuenta distintas variables como: año, marca, modelo, entre otras. El objetivo es predecir el precio del automóvil. Para más detalles puede visitar el siguiente enlace: [datos](https://www.kaggle.com/jpayne/852k-used-car-listings)."
      ]
    },
    {
      "cell_type": "markdown",
      "metadata": {
        "id": "1weMEs4S-W2C"
      },
      "source": [
        "### Ejemplo predicción conjunto de test para envío a Kaggle\n",
        "\n",
        "En esta sección encontrarán el formato en el que deben guardar los resultados de la predicción para que puedan subirlos a la competencia en Kaggle."
      ]
    },
    {
      "cell_type": "code",
      "execution_count": 1,
      "metadata": {
        "id": "6ev61Fsr-W2C"
      },
      "outputs": [],
      "source": [
        "import warnings\n",
        "warnings.filterwarnings('ignore')"
      ]
    },
    {
      "cell_type": "code",
      "execution_count": 2,
      "metadata": {
        "id": "Jt9eOQ6p-W2D"
      },
      "outputs": [],
      "source": [
        "# Importación librerías\n",
        "import pandas as pd\n",
        "import numpy as np"
      ]
    },
    {
      "cell_type": "code",
      "execution_count": 3,
      "metadata": {
        "id": "uocor4qS-W2D"
      },
      "outputs": [],
      "source": [
        "# Carga de datos de archivo .csv\n",
        "dataTraining = pd.read_csv('https://raw.githubusercontent.com/davidzarruk/MIAD_ML_NLP_2023/main/datasets/dataTrain_carListings.zip')\n",
        "dataTesting = pd.read_csv('https://raw.githubusercontent.com/davidzarruk/MIAD_ML_NLP_2023/main/datasets/dataTest_carListings.zip', index_col=0)"
      ]
    },
    {
      "cell_type": "code",
      "execution_count": 4,
      "metadata": {
        "colab": {
          "base_uri": "https://localhost:8080/",
          "height": 206
        },
        "id": "3kwDDl73-W2D",
        "outputId": "b27f33d8-e26c-41bc-87e5-7b45b7e85898"
      },
      "outputs": [
        {
          "output_type": "execute_result",
          "data": {
            "text/plain": [
              "   Price  Year  Mileage State       Make      Model\n",
              "0  34995  2017     9913    FL       Jeep   Wrangler\n",
              "1  37895  2015    20578    OH  Chevrolet   Tahoe4WD\n",
              "2  18430  2012    83716    TX        BMW      X5AWD\n",
              "3  24681  2014    28729    OH   Cadillac  SRXLuxury\n",
              "4  26998  2013    64032    CO       Jeep   Wrangler"
            ],
            "text/html": [
              "\n",
              "  <div id=\"df-049a2096-3bc3-4a29-a8ca-79f1e87952af\">\n",
              "    <div class=\"colab-df-container\">\n",
              "      <div>\n",
              "<style scoped>\n",
              "    .dataframe tbody tr th:only-of-type {\n",
              "        vertical-align: middle;\n",
              "    }\n",
              "\n",
              "    .dataframe tbody tr th {\n",
              "        vertical-align: top;\n",
              "    }\n",
              "\n",
              "    .dataframe thead th {\n",
              "        text-align: right;\n",
              "    }\n",
              "</style>\n",
              "<table border=\"1\" class=\"dataframe\">\n",
              "  <thead>\n",
              "    <tr style=\"text-align: right;\">\n",
              "      <th></th>\n",
              "      <th>Price</th>\n",
              "      <th>Year</th>\n",
              "      <th>Mileage</th>\n",
              "      <th>State</th>\n",
              "      <th>Make</th>\n",
              "      <th>Model</th>\n",
              "    </tr>\n",
              "  </thead>\n",
              "  <tbody>\n",
              "    <tr>\n",
              "      <th>0</th>\n",
              "      <td>34995</td>\n",
              "      <td>2017</td>\n",
              "      <td>9913</td>\n",
              "      <td>FL</td>\n",
              "      <td>Jeep</td>\n",
              "      <td>Wrangler</td>\n",
              "    </tr>\n",
              "    <tr>\n",
              "      <th>1</th>\n",
              "      <td>37895</td>\n",
              "      <td>2015</td>\n",
              "      <td>20578</td>\n",
              "      <td>OH</td>\n",
              "      <td>Chevrolet</td>\n",
              "      <td>Tahoe4WD</td>\n",
              "    </tr>\n",
              "    <tr>\n",
              "      <th>2</th>\n",
              "      <td>18430</td>\n",
              "      <td>2012</td>\n",
              "      <td>83716</td>\n",
              "      <td>TX</td>\n",
              "      <td>BMW</td>\n",
              "      <td>X5AWD</td>\n",
              "    </tr>\n",
              "    <tr>\n",
              "      <th>3</th>\n",
              "      <td>24681</td>\n",
              "      <td>2014</td>\n",
              "      <td>28729</td>\n",
              "      <td>OH</td>\n",
              "      <td>Cadillac</td>\n",
              "      <td>SRXLuxury</td>\n",
              "    </tr>\n",
              "    <tr>\n",
              "      <th>4</th>\n",
              "      <td>26998</td>\n",
              "      <td>2013</td>\n",
              "      <td>64032</td>\n",
              "      <td>CO</td>\n",
              "      <td>Jeep</td>\n",
              "      <td>Wrangler</td>\n",
              "    </tr>\n",
              "  </tbody>\n",
              "</table>\n",
              "</div>\n",
              "      <button class=\"colab-df-convert\" onclick=\"convertToInteractive('df-049a2096-3bc3-4a29-a8ca-79f1e87952af')\"\n",
              "              title=\"Convert this dataframe to an interactive table.\"\n",
              "              style=\"display:none;\">\n",
              "        \n",
              "  <svg xmlns=\"http://www.w3.org/2000/svg\" height=\"24px\"viewBox=\"0 0 24 24\"\n",
              "       width=\"24px\">\n",
              "    <path d=\"M0 0h24v24H0V0z\" fill=\"none\"/>\n",
              "    <path d=\"M18.56 5.44l.94 2.06.94-2.06 2.06-.94-2.06-.94-.94-2.06-.94 2.06-2.06.94zm-11 1L8.5 8.5l.94-2.06 2.06-.94-2.06-.94L8.5 2.5l-.94 2.06-2.06.94zm10 10l.94 2.06.94-2.06 2.06-.94-2.06-.94-.94-2.06-.94 2.06-2.06.94z\"/><path d=\"M17.41 7.96l-1.37-1.37c-.4-.4-.92-.59-1.43-.59-.52 0-1.04.2-1.43.59L10.3 9.45l-7.72 7.72c-.78.78-.78 2.05 0 2.83L4 21.41c.39.39.9.59 1.41.59.51 0 1.02-.2 1.41-.59l7.78-7.78 2.81-2.81c.8-.78.8-2.07 0-2.86zM5.41 20L4 18.59l7.72-7.72 1.47 1.35L5.41 20z\"/>\n",
              "  </svg>\n",
              "      </button>\n",
              "      \n",
              "  <style>\n",
              "    .colab-df-container {\n",
              "      display:flex;\n",
              "      flex-wrap:wrap;\n",
              "      gap: 12px;\n",
              "    }\n",
              "\n",
              "    .colab-df-convert {\n",
              "      background-color: #E8F0FE;\n",
              "      border: none;\n",
              "      border-radius: 50%;\n",
              "      cursor: pointer;\n",
              "      display: none;\n",
              "      fill: #1967D2;\n",
              "      height: 32px;\n",
              "      padding: 0 0 0 0;\n",
              "      width: 32px;\n",
              "    }\n",
              "\n",
              "    .colab-df-convert:hover {\n",
              "      background-color: #E2EBFA;\n",
              "      box-shadow: 0px 1px 2px rgba(60, 64, 67, 0.3), 0px 1px 3px 1px rgba(60, 64, 67, 0.15);\n",
              "      fill: #174EA6;\n",
              "    }\n",
              "\n",
              "    [theme=dark] .colab-df-convert {\n",
              "      background-color: #3B4455;\n",
              "      fill: #D2E3FC;\n",
              "    }\n",
              "\n",
              "    [theme=dark] .colab-df-convert:hover {\n",
              "      background-color: #434B5C;\n",
              "      box-shadow: 0px 1px 3px 1px rgba(0, 0, 0, 0.15);\n",
              "      filter: drop-shadow(0px 1px 2px rgba(0, 0, 0, 0.3));\n",
              "      fill: #FFFFFF;\n",
              "    }\n",
              "  </style>\n",
              "\n",
              "      <script>\n",
              "        const buttonEl =\n",
              "          document.querySelector('#df-049a2096-3bc3-4a29-a8ca-79f1e87952af button.colab-df-convert');\n",
              "        buttonEl.style.display =\n",
              "          google.colab.kernel.accessAllowed ? 'block' : 'none';\n",
              "\n",
              "        async function convertToInteractive(key) {\n",
              "          const element = document.querySelector('#df-049a2096-3bc3-4a29-a8ca-79f1e87952af');\n",
              "          const dataTable =\n",
              "            await google.colab.kernel.invokeFunction('convertToInteractive',\n",
              "                                                     [key], {});\n",
              "          if (!dataTable) return;\n",
              "\n",
              "          const docLinkHtml = 'Like what you see? Visit the ' +\n",
              "            '<a target=\"_blank\" href=https://colab.research.google.com/notebooks/data_table.ipynb>data table notebook</a>'\n",
              "            + ' to learn more about interactive tables.';\n",
              "          element.innerHTML = '';\n",
              "          dataTable['output_type'] = 'display_data';\n",
              "          await google.colab.output.renderOutput(dataTable, element);\n",
              "          const docLink = document.createElement('div');\n",
              "          docLink.innerHTML = docLinkHtml;\n",
              "          element.appendChild(docLink);\n",
              "        }\n",
              "      </script>\n",
              "    </div>\n",
              "  </div>\n",
              "  "
            ]
          },
          "metadata": {},
          "execution_count": 4
        }
      ],
      "source": [
        "# Visualización datos de entrenamiento\n",
        "dataTraining.head()"
      ]
    },
    {
      "cell_type": "code",
      "execution_count": 5,
      "metadata": {
        "colab": {
          "base_uri": "https://localhost:8080/"
        },
        "id": "wA08l1wTPw2V",
        "outputId": "e2cddc93-5730-4131-837b-e7cd2d3bd14a"
      },
      "outputs": [
        {
          "output_type": "execute_result",
          "data": {
            "text/plain": [
              "169"
            ]
          },
          "metadata": {},
          "execution_count": 5
        }
      ],
      "source": [
        "# Revisión de registros duplicado\n",
        "dataTraining.duplicated().sum()"
      ]
    },
    {
      "cell_type": "code",
      "execution_count": 6,
      "metadata": {
        "id": "bXFAVUfzPlAX"
      },
      "outputs": [],
      "source": [
        "# Eliminación de registros duplicado\n",
        "dataTraining.drop_duplicates(inplace=True)"
      ]
    },
    {
      "cell_type": "code",
      "execution_count": 7,
      "metadata": {
        "colab": {
          "base_uri": "https://localhost:8080/",
          "height": 237
        },
        "id": "ndeRCreA-W2D",
        "outputId": "ada02e72-1b5c-4bc4-9c12-7579602e983c"
      },
      "outputs": [
        {
          "output_type": "execute_result",
          "data": {
            "text/plain": [
              "    Year  Mileage State    Make        Model\n",
              "ID                                          \n",
              "0   2014    31909    MD  Nissan    MuranoAWD\n",
              "1   2017     5362    FL    Jeep     Wrangler\n",
              "2   2014    50300    OH    Ford  FlexLimited\n",
              "3   2004   132160    WA     BMW            5\n",
              "4   2015    25226    MA    Jeep        Grand"
            ],
            "text/html": [
              "\n",
              "  <div id=\"df-39238ddd-ce29-4b46-9582-82a662a2a061\">\n",
              "    <div class=\"colab-df-container\">\n",
              "      <div>\n",
              "<style scoped>\n",
              "    .dataframe tbody tr th:only-of-type {\n",
              "        vertical-align: middle;\n",
              "    }\n",
              "\n",
              "    .dataframe tbody tr th {\n",
              "        vertical-align: top;\n",
              "    }\n",
              "\n",
              "    .dataframe thead th {\n",
              "        text-align: right;\n",
              "    }\n",
              "</style>\n",
              "<table border=\"1\" class=\"dataframe\">\n",
              "  <thead>\n",
              "    <tr style=\"text-align: right;\">\n",
              "      <th></th>\n",
              "      <th>Year</th>\n",
              "      <th>Mileage</th>\n",
              "      <th>State</th>\n",
              "      <th>Make</th>\n",
              "      <th>Model</th>\n",
              "    </tr>\n",
              "    <tr>\n",
              "      <th>ID</th>\n",
              "      <th></th>\n",
              "      <th></th>\n",
              "      <th></th>\n",
              "      <th></th>\n",
              "      <th></th>\n",
              "    </tr>\n",
              "  </thead>\n",
              "  <tbody>\n",
              "    <tr>\n",
              "      <th>0</th>\n",
              "      <td>2014</td>\n",
              "      <td>31909</td>\n",
              "      <td>MD</td>\n",
              "      <td>Nissan</td>\n",
              "      <td>MuranoAWD</td>\n",
              "    </tr>\n",
              "    <tr>\n",
              "      <th>1</th>\n",
              "      <td>2017</td>\n",
              "      <td>5362</td>\n",
              "      <td>FL</td>\n",
              "      <td>Jeep</td>\n",
              "      <td>Wrangler</td>\n",
              "    </tr>\n",
              "    <tr>\n",
              "      <th>2</th>\n",
              "      <td>2014</td>\n",
              "      <td>50300</td>\n",
              "      <td>OH</td>\n",
              "      <td>Ford</td>\n",
              "      <td>FlexLimited</td>\n",
              "    </tr>\n",
              "    <tr>\n",
              "      <th>3</th>\n",
              "      <td>2004</td>\n",
              "      <td>132160</td>\n",
              "      <td>WA</td>\n",
              "      <td>BMW</td>\n",
              "      <td>5</td>\n",
              "    </tr>\n",
              "    <tr>\n",
              "      <th>4</th>\n",
              "      <td>2015</td>\n",
              "      <td>25226</td>\n",
              "      <td>MA</td>\n",
              "      <td>Jeep</td>\n",
              "      <td>Grand</td>\n",
              "    </tr>\n",
              "  </tbody>\n",
              "</table>\n",
              "</div>\n",
              "      <button class=\"colab-df-convert\" onclick=\"convertToInteractive('df-39238ddd-ce29-4b46-9582-82a662a2a061')\"\n",
              "              title=\"Convert this dataframe to an interactive table.\"\n",
              "              style=\"display:none;\">\n",
              "        \n",
              "  <svg xmlns=\"http://www.w3.org/2000/svg\" height=\"24px\"viewBox=\"0 0 24 24\"\n",
              "       width=\"24px\">\n",
              "    <path d=\"M0 0h24v24H0V0z\" fill=\"none\"/>\n",
              "    <path d=\"M18.56 5.44l.94 2.06.94-2.06 2.06-.94-2.06-.94-.94-2.06-.94 2.06-2.06.94zm-11 1L8.5 8.5l.94-2.06 2.06-.94-2.06-.94L8.5 2.5l-.94 2.06-2.06.94zm10 10l.94 2.06.94-2.06 2.06-.94-2.06-.94-.94-2.06-.94 2.06-2.06.94z\"/><path d=\"M17.41 7.96l-1.37-1.37c-.4-.4-.92-.59-1.43-.59-.52 0-1.04.2-1.43.59L10.3 9.45l-7.72 7.72c-.78.78-.78 2.05 0 2.83L4 21.41c.39.39.9.59 1.41.59.51 0 1.02-.2 1.41-.59l7.78-7.78 2.81-2.81c.8-.78.8-2.07 0-2.86zM5.41 20L4 18.59l7.72-7.72 1.47 1.35L5.41 20z\"/>\n",
              "  </svg>\n",
              "      </button>\n",
              "      \n",
              "  <style>\n",
              "    .colab-df-container {\n",
              "      display:flex;\n",
              "      flex-wrap:wrap;\n",
              "      gap: 12px;\n",
              "    }\n",
              "\n",
              "    .colab-df-convert {\n",
              "      background-color: #E8F0FE;\n",
              "      border: none;\n",
              "      border-radius: 50%;\n",
              "      cursor: pointer;\n",
              "      display: none;\n",
              "      fill: #1967D2;\n",
              "      height: 32px;\n",
              "      padding: 0 0 0 0;\n",
              "      width: 32px;\n",
              "    }\n",
              "\n",
              "    .colab-df-convert:hover {\n",
              "      background-color: #E2EBFA;\n",
              "      box-shadow: 0px 1px 2px rgba(60, 64, 67, 0.3), 0px 1px 3px 1px rgba(60, 64, 67, 0.15);\n",
              "      fill: #174EA6;\n",
              "    }\n",
              "\n",
              "    [theme=dark] .colab-df-convert {\n",
              "      background-color: #3B4455;\n",
              "      fill: #D2E3FC;\n",
              "    }\n",
              "\n",
              "    [theme=dark] .colab-df-convert:hover {\n",
              "      background-color: #434B5C;\n",
              "      box-shadow: 0px 1px 3px 1px rgba(0, 0, 0, 0.15);\n",
              "      filter: drop-shadow(0px 1px 2px rgba(0, 0, 0, 0.3));\n",
              "      fill: #FFFFFF;\n",
              "    }\n",
              "  </style>\n",
              "\n",
              "      <script>\n",
              "        const buttonEl =\n",
              "          document.querySelector('#df-39238ddd-ce29-4b46-9582-82a662a2a061 button.colab-df-convert');\n",
              "        buttonEl.style.display =\n",
              "          google.colab.kernel.accessAllowed ? 'block' : 'none';\n",
              "\n",
              "        async function convertToInteractive(key) {\n",
              "          const element = document.querySelector('#df-39238ddd-ce29-4b46-9582-82a662a2a061');\n",
              "          const dataTable =\n",
              "            await google.colab.kernel.invokeFunction('convertToInteractive',\n",
              "                                                     [key], {});\n",
              "          if (!dataTable) return;\n",
              "\n",
              "          const docLinkHtml = 'Like what you see? Visit the ' +\n",
              "            '<a target=\"_blank\" href=https://colab.research.google.com/notebooks/data_table.ipynb>data table notebook</a>'\n",
              "            + ' to learn more about interactive tables.';\n",
              "          element.innerHTML = '';\n",
              "          dataTable['output_type'] = 'display_data';\n",
              "          await google.colab.output.renderOutput(dataTable, element);\n",
              "          const docLink = document.createElement('div');\n",
              "          docLink.innerHTML = docLinkHtml;\n",
              "          element.appendChild(docLink);\n",
              "        }\n",
              "      </script>\n",
              "    </div>\n",
              "  </div>\n",
              "  "
            ]
          },
          "metadata": {},
          "execution_count": 7
        }
      ],
      "source": [
        "# Visualización datos de test\n",
        "dataTesting.head()"
      ]
    },
    {
      "cell_type": "code",
      "execution_count": 8,
      "metadata": {
        "id": "l8a9j2FM-W2E"
      },
      "outputs": [],
      "source": [
        "# Predicción del conjunto de test - acá se genera un número aleatorio como ejemplo\n",
        "np.random.seed(42)\n",
        "y_pred = pd.DataFrame(np.random.rand(dataTesting.shape[0]) * 75000 + 5000, index=dataTesting.index, columns=['Price'])"
      ]
    },
    {
      "cell_type": "code",
      "execution_count": 9,
      "metadata": {
        "colab": {
          "base_uri": "https://localhost:8080/",
          "height": 237
        },
        "id": "_G0U7cdK-W2E",
        "outputId": "4ca288d9-8506-4cbc-929e-344089dc57a2"
      },
      "outputs": [
        {
          "output_type": "execute_result",
          "data": {
            "text/plain": [
              "           Price\n",
              "ID              \n",
              "0   33090.508914\n",
              "1   76303.572981\n",
              "2   59899.545636\n",
              "3   49899.386315\n",
              "4   16701.398033"
            ],
            "text/html": [
              "\n",
              "  <div id=\"df-0ac6d5bc-5637-4025-a813-ccfe7e34ea0a\">\n",
              "    <div class=\"colab-df-container\">\n",
              "      <div>\n",
              "<style scoped>\n",
              "    .dataframe tbody tr th:only-of-type {\n",
              "        vertical-align: middle;\n",
              "    }\n",
              "\n",
              "    .dataframe tbody tr th {\n",
              "        vertical-align: top;\n",
              "    }\n",
              "\n",
              "    .dataframe thead th {\n",
              "        text-align: right;\n",
              "    }\n",
              "</style>\n",
              "<table border=\"1\" class=\"dataframe\">\n",
              "  <thead>\n",
              "    <tr style=\"text-align: right;\">\n",
              "      <th></th>\n",
              "      <th>Price</th>\n",
              "    </tr>\n",
              "    <tr>\n",
              "      <th>ID</th>\n",
              "      <th></th>\n",
              "    </tr>\n",
              "  </thead>\n",
              "  <tbody>\n",
              "    <tr>\n",
              "      <th>0</th>\n",
              "      <td>33090.508914</td>\n",
              "    </tr>\n",
              "    <tr>\n",
              "      <th>1</th>\n",
              "      <td>76303.572981</td>\n",
              "    </tr>\n",
              "    <tr>\n",
              "      <th>2</th>\n",
              "      <td>59899.545636</td>\n",
              "    </tr>\n",
              "    <tr>\n",
              "      <th>3</th>\n",
              "      <td>49899.386315</td>\n",
              "    </tr>\n",
              "    <tr>\n",
              "      <th>4</th>\n",
              "      <td>16701.398033</td>\n",
              "    </tr>\n",
              "  </tbody>\n",
              "</table>\n",
              "</div>\n",
              "      <button class=\"colab-df-convert\" onclick=\"convertToInteractive('df-0ac6d5bc-5637-4025-a813-ccfe7e34ea0a')\"\n",
              "              title=\"Convert this dataframe to an interactive table.\"\n",
              "              style=\"display:none;\">\n",
              "        \n",
              "  <svg xmlns=\"http://www.w3.org/2000/svg\" height=\"24px\"viewBox=\"0 0 24 24\"\n",
              "       width=\"24px\">\n",
              "    <path d=\"M0 0h24v24H0V0z\" fill=\"none\"/>\n",
              "    <path d=\"M18.56 5.44l.94 2.06.94-2.06 2.06-.94-2.06-.94-.94-2.06-.94 2.06-2.06.94zm-11 1L8.5 8.5l.94-2.06 2.06-.94-2.06-.94L8.5 2.5l-.94 2.06-2.06.94zm10 10l.94 2.06.94-2.06 2.06-.94-2.06-.94-.94-2.06-.94 2.06-2.06.94z\"/><path d=\"M17.41 7.96l-1.37-1.37c-.4-.4-.92-.59-1.43-.59-.52 0-1.04.2-1.43.59L10.3 9.45l-7.72 7.72c-.78.78-.78 2.05 0 2.83L4 21.41c.39.39.9.59 1.41.59.51 0 1.02-.2 1.41-.59l7.78-7.78 2.81-2.81c.8-.78.8-2.07 0-2.86zM5.41 20L4 18.59l7.72-7.72 1.47 1.35L5.41 20z\"/>\n",
              "  </svg>\n",
              "      </button>\n",
              "      \n",
              "  <style>\n",
              "    .colab-df-container {\n",
              "      display:flex;\n",
              "      flex-wrap:wrap;\n",
              "      gap: 12px;\n",
              "    }\n",
              "\n",
              "    .colab-df-convert {\n",
              "      background-color: #E8F0FE;\n",
              "      border: none;\n",
              "      border-radius: 50%;\n",
              "      cursor: pointer;\n",
              "      display: none;\n",
              "      fill: #1967D2;\n",
              "      height: 32px;\n",
              "      padding: 0 0 0 0;\n",
              "      width: 32px;\n",
              "    }\n",
              "\n",
              "    .colab-df-convert:hover {\n",
              "      background-color: #E2EBFA;\n",
              "      box-shadow: 0px 1px 2px rgba(60, 64, 67, 0.3), 0px 1px 3px 1px rgba(60, 64, 67, 0.15);\n",
              "      fill: #174EA6;\n",
              "    }\n",
              "\n",
              "    [theme=dark] .colab-df-convert {\n",
              "      background-color: #3B4455;\n",
              "      fill: #D2E3FC;\n",
              "    }\n",
              "\n",
              "    [theme=dark] .colab-df-convert:hover {\n",
              "      background-color: #434B5C;\n",
              "      box-shadow: 0px 1px 3px 1px rgba(0, 0, 0, 0.15);\n",
              "      filter: drop-shadow(0px 1px 2px rgba(0, 0, 0, 0.3));\n",
              "      fill: #FFFFFF;\n",
              "    }\n",
              "  </style>\n",
              "\n",
              "      <script>\n",
              "        const buttonEl =\n",
              "          document.querySelector('#df-0ac6d5bc-5637-4025-a813-ccfe7e34ea0a button.colab-df-convert');\n",
              "        buttonEl.style.display =\n",
              "          google.colab.kernel.accessAllowed ? 'block' : 'none';\n",
              "\n",
              "        async function convertToInteractive(key) {\n",
              "          const element = document.querySelector('#df-0ac6d5bc-5637-4025-a813-ccfe7e34ea0a');\n",
              "          const dataTable =\n",
              "            await google.colab.kernel.invokeFunction('convertToInteractive',\n",
              "                                                     [key], {});\n",
              "          if (!dataTable) return;\n",
              "\n",
              "          const docLinkHtml = 'Like what you see? Visit the ' +\n",
              "            '<a target=\"_blank\" href=https://colab.research.google.com/notebooks/data_table.ipynb>data table notebook</a>'\n",
              "            + ' to learn more about interactive tables.';\n",
              "          element.innerHTML = '';\n",
              "          dataTable['output_type'] = 'display_data';\n",
              "          await google.colab.output.renderOutput(dataTable, element);\n",
              "          const docLink = document.createElement('div');\n",
              "          docLink.innerHTML = docLinkHtml;\n",
              "          element.appendChild(docLink);\n",
              "        }\n",
              "      </script>\n",
              "    </div>\n",
              "  </div>\n",
              "  "
            ]
          },
          "metadata": {},
          "execution_count": 9
        }
      ],
      "source": [
        "# Guardar predicciones en formato exigido en la competencia de kaggle\n",
        "y_pred.to_csv('test_submission.csv', index_label='ID')\n",
        "y_pred.head()"
      ]
    },
    {
      "cell_type": "markdown",
      "metadata": {
        "id": "1sOjOLGs-1pd"
      },
      "source": [
        "## Preprocesamiento y revisión de la data"
      ]
    },
    {
      "cell_type": "code",
      "execution_count": 30,
      "metadata": {
        "colab": {
          "base_uri": "https://localhost:8080/"
        },
        "id": "OC7ILyUv-oQ2",
        "outputId": "063b5773-72fe-4fd1-b020-86d5ade02d08"
      },
      "outputs": [
        {
          "output_type": "stream",
          "name": "stdout",
          "text": [
            "Price      0\n",
            "Year       0\n",
            "Mileage    0\n",
            "State      0\n",
            "Make       0\n",
            "Model      0\n",
            "dtype: int64\n"
          ]
        }
      ],
      "source": [
        "# Revisión de datos Nan en todas la columnas\n",
        "print(dataTraining.isna().sum())"
      ]
    },
    {
      "cell_type": "markdown",
      "metadata": {
        "id": "mCG8A5mgFpYm"
      },
      "source": [
        "No se encuentran datos faltantes"
      ]
    },
    {
      "cell_type": "markdown",
      "source": [
        "Se verifica que las mismas categorías que están en el set de entrenamiento y testeo. En caso de que se encuentren solo en el de testeo se procede a liminarlas para mejorar el desempeño de la predicción:"
      ],
      "metadata": {
        "id": "egdGGoFKKmdL"
      }
    },
    {
      "cell_type": "code",
      "source": [
        "# Obtenemos todas las categorías únicas de la columna  del conjunto de entrenamiento\n",
        "train_categories = set(dataTraining['Make'].unique())\n",
        "\n",
        "# Obtenemos todas las categorías únicas de la columna del conjunto de prueba\n",
        "test_categories = set(dataTesting['Make'].unique())\n",
        "\n",
        "# Comparamos si todas las categorías del conjunto de entrenamiento están presentes en el conjunto de prueba\n",
        "if train_categories <= test_categories:\n",
        "    print(\"Todas las categorías del conjunto de entrenamiento están presentes en el conjunto de prueba\")\n",
        "else:\n",
        "    # Obtenemos las categorías que están en el conjunto de entrenamiento pero no en el conjunto de prueba\n",
        "    missing_categories = train_categories - test_categories\n",
        "    print(\"Las siguientes categorías del conjunto de entrenamiento no están presentes en el conjunto de prueba:\")\n",
        "    print(missing_categories)"
      ],
      "metadata": {
        "colab": {
          "base_uri": "https://localhost:8080/"
        },
        "id": "qvsnQeiKK_BQ",
        "outputId": "9b25e77f-81e3-44b3-f8fd-51a1d0474f39"
      },
      "execution_count": 31,
      "outputs": [
        {
          "output_type": "stream",
          "name": "stdout",
          "text": [
            "Todas las categorías del conjunto de entrenamiento están presentes en el conjunto de prueba\n"
          ]
        }
      ]
    },
    {
      "cell_type": "code",
      "source": [
        "# Obtenemos todas las categorías únicas de la columna del conjunto de entrenamiento\n",
        "train_categories = set(dataTraining['Make'].unique())\n",
        "\n",
        "# Obtenemos todas las categorías únicas de la columna del conjunto de prueba\n",
        "test_categories = set(dataTesting['Make'].unique())\n",
        "\n",
        "# Comparamos si todas las categorías del conjunto de prueba están presentes en el conjunto de entrenamiento\n",
        "if test_categories <= train_categories:\n",
        "    print(\"Todas las categorías del conjunto de prueba están presentes en el conjunto de entrenamiento\")\n",
        "else:\n",
        "    # Obtenemos las categorías que están en el conjunto de prueba pero no en el conjunto de entrenamiento\n",
        "    missing_categories = test_categories - train_categories\n",
        "    print(\"Las siguientes categorías del conjunto de prueba no están presentes en el conjunto de entrenamiento:\")\n",
        "    print(missing_categories)"
      ],
      "metadata": {
        "colab": {
          "base_uri": "https://localhost:8080/"
        },
        "id": "73efR-MKLBTJ",
        "outputId": "113cecfc-8c49-4cbe-83b9-441ec15c3348"
      },
      "execution_count": 32,
      "outputs": [
        {
          "output_type": "stream",
          "name": "stdout",
          "text": [
            "Todas las categorías del conjunto de prueba están presentes en el conjunto de entrenamiento\n"
          ]
        }
      ]
    },
    {
      "cell_type": "markdown",
      "source": [
        "Se realiza el barrido por las columnas State, Make y Model. Se identifica que solo en la columna Make se encuentra una categoria que no está en el de testeo y se llama \"Freightliner\", por ello se procede a borrarla."
      ],
      "metadata": {
        "id": "ZZ3fEH5ELNGC"
      }
    },
    {
      "cell_type": "code",
      "source": [
        "dataTraining = dataTraining.loc[dataTraining['Make'] != 'Freightliner']"
      ],
      "metadata": {
        "id": "2hxiGDtXLlMd"
      },
      "execution_count": 33,
      "outputs": []
    },
    {
      "cell_type": "code",
      "execution_count": 34,
      "metadata": {
        "colab": {
          "base_uri": "https://localhost:8080/"
        },
        "id": "xcxHjCwFFWZ9",
        "outputId": "c571f23c-8364-48c5-bb53-6a58a3c9a747"
      },
      "outputs": [
        {
          "output_type": "stream",
          "name": "stdout",
          "text": [
            "las dimensiones del set de entrenamiento son:  (399824, 6)\n",
            "las dimensiones del set de testeo son:  (100000, 5)\n"
          ]
        }
      ],
      "source": [
        "# Revisando las dimensiones de los set de datos\n",
        "print(\"las dimensiones del set de entrenamiento son: \",dataTraining.shape)\n",
        "print(\"las dimensiones del set de testeo son: \",dataTesting.shape)"
      ]
    },
    {
      "cell_type": "code",
      "execution_count": 35,
      "metadata": {
        "colab": {
          "base_uri": "https://localhost:8080/"
        },
        "id": "dT17-cy__pMa",
        "outputId": "804a58ed-b3b8-449a-bc64-d0f34a205b47"
      },
      "outputs": [
        {
          "output_type": "execute_result",
          "data": {
            "text/plain": [
              "Price       int64\n",
              "Year        int64\n",
              "Mileage     int64\n",
              "State      object\n",
              "Make       object\n",
              "Model      object\n",
              "dtype: object"
            ]
          },
          "metadata": {},
          "execution_count": 35
        }
      ],
      "source": [
        "# Tipo de datos\n",
        "dataTraining.dtypes"
      ]
    },
    {
      "cell_type": "markdown",
      "source": [
        "Se tienen 3 variables numéricas y 3 categóricas"
      ],
      "metadata": {
        "id": "e03IGSd-0ekx"
      }
    },
    {
      "cell_type": "code",
      "execution_count": 36,
      "metadata": {
        "colab": {
          "base_uri": "https://localhost:8080/"
        },
        "id": "NdJoOhQ_ALYT",
        "outputId": "81baf3ba-698a-4d79-b6ba-174bf87fc87c"
      },
      "outputs": [
        {
          "output_type": "execute_result",
          "data": {
            "text/plain": [
              " TX    45914\n",
              " CA    36512\n",
              " FL    33712\n",
              " GA    18180\n",
              " NC    17928\n",
              " IL    16788\n",
              " VA    15893\n",
              " PA    13034\n",
              " NY    12445\n",
              " NJ    12129\n",
              " OH    11364\n",
              " WA    10898\n",
              " CO    10870\n",
              " AZ    10747\n",
              " TN     9273\n",
              " MA     8586\n",
              " MD     8243\n",
              " MO     8029\n",
              " IN     7849\n",
              " KY     6688\n",
              " AL     6282\n",
              " WI     5612\n",
              " MN     5414\n",
              " MI     5326\n",
              " OK     5096\n",
              " CT     4942\n",
              " OR     4907\n",
              " SC     4814\n",
              " UT     4795\n",
              " LA     3847\n",
              " KS     3704\n",
              " NV     3332\n",
              " AR     3125\n",
              " MS     3043\n",
              " NH     2744\n",
              " NE     2522\n",
              " IA     2325\n",
              " NM     2280\n",
              " ID     1736\n",
              " DE     1221\n",
              " HI     1180\n",
              " MT      997\n",
              " ME      965\n",
              " RI      833\n",
              " AK      813\n",
              " ND      681\n",
              " WV      666\n",
              " SD      620\n",
              " VT      579\n",
              " WY      335\n",
              " DC        6\n",
              "Name: State, dtype: int64"
            ]
          },
          "metadata": {},
          "execution_count": 36
        }
      ],
      "source": [
        "# Revisión de clases en la variable State\n",
        "dataTraining.State.value_counts()"
      ]
    },
    {
      "cell_type": "code",
      "source": [
        "dataTraining.State.unique()"
      ],
      "metadata": {
        "colab": {
          "base_uri": "https://localhost:8080/"
        },
        "id": "ijlo4GJY0mID",
        "outputId": "57e93c5f-2be0-498d-b57e-37f11fc87de1"
      },
      "execution_count": 37,
      "outputs": [
        {
          "output_type": "execute_result",
          "data": {
            "text/plain": [
              "array([' FL', ' OH', ' TX', ' CO', ' ME', ' WA', ' CT', ' CA', ' LA',\n",
              "       ' NY', ' PA', ' SC', ' ND', ' NC', ' GA', ' AZ', ' TN', ' KY',\n",
              "       ' NJ', ' UT', ' IA', ' AL', ' NE', ' IL', ' OK', ' MD', ' NV',\n",
              "       ' WV', ' MI', ' VA', ' WI', ' MA', ' OR', ' IN', ' NM', ' MO',\n",
              "       ' HI', ' KS', ' AR', ' MN', ' MS', ' MT', ' AK', ' VT', ' SD',\n",
              "       ' NH', ' DE', ' ID', ' RI', ' WY', ' DC'], dtype=object)"
            ]
          },
          "metadata": {},
          "execution_count": 37
        }
      ]
    },
    {
      "cell_type": "code",
      "execution_count": 38,
      "metadata": {
        "colab": {
          "base_uri": "https://localhost:8080/"
        },
        "id": "mxf0IwExAymy",
        "outputId": "32db3deb-b090-41ec-8535-16c9c238e262"
      },
      "outputs": [
        {
          "output_type": "execute_result",
          "data": {
            "text/plain": [
              "Ford             62837\n",
              "Chevrolet        58354\n",
              "Toyota           45903\n",
              "Honda            33188\n",
              "Jeep             24366\n",
              "GMC              20834\n",
              "Kia              16341\n",
              "Dodge            16158\n",
              "Hyundai          15054\n",
              "Lexus            13663\n",
              "BMW              12326\n",
              "Volkswagen       11110\n",
              "Nissan           10569\n",
              "Chrysler          9045\n",
              "Mercedes-Benz     7570\n",
              "Subaru            6791\n",
              "Cadillac          5414\n",
              "Buick             4841\n",
              "Ram               3607\n",
              "MINI              2766\n",
              "Land              2711\n",
              "INFINITI          2406\n",
              "Acura             2399\n",
              "Mazda             2332\n",
              "Lincoln           1786\n",
              "Volvo             1710\n",
              "Audi              1423\n",
              "Mitsubishi        1271\n",
              "Porsche            980\n",
              "Scion              651\n",
              "Jaguar             324\n",
              "Pontiac            308\n",
              "FIAT               272\n",
              "Mercury            271\n",
              "Tesla              148\n",
              "Bentley             57\n",
              "Suzuki              38\n",
              "Name: Make, dtype: int64"
            ]
          },
          "metadata": {},
          "execution_count": 38
        }
      ],
      "source": [
        "# Revisión de clases en la variable Make\n",
        "dataTraining.Make.value_counts()"
      ]
    },
    {
      "cell_type": "code",
      "source": [
        "dataTraining.Make.unique()"
      ],
      "metadata": {
        "colab": {
          "base_uri": "https://localhost:8080/"
        },
        "id": "-Q_PZ-9505aD",
        "outputId": "17581779-f64e-4c26-d1c5-f03a8af5fea9"
      },
      "execution_count": 39,
      "outputs": [
        {
          "output_type": "execute_result",
          "data": {
            "text/plain": [
              "array(['Jeep', 'Chevrolet', 'BMW', 'Cadillac', 'Mercedes-Benz', 'Toyota',\n",
              "       'Buick', 'Dodge', 'Volkswagen', 'GMC', 'Ford', 'Hyundai',\n",
              "       'Mitsubishi', 'Honda', 'Nissan', 'Mazda', 'Volvo', 'Kia', 'Subaru',\n",
              "       'Chrysler', 'INFINITI', 'Land', 'Porsche', 'Lexus', 'MINI',\n",
              "       'Lincoln', 'Audi', 'Ram', 'Mercury', 'Tesla', 'FIAT', 'Acura',\n",
              "       'Scion', 'Pontiac', 'Jaguar', 'Bentley', 'Suzuki'], dtype=object)"
            ]
          },
          "metadata": {},
          "execution_count": 39
        }
      ]
    },
    {
      "cell_type": "code",
      "execution_count": 40,
      "metadata": {
        "colab": {
          "base_uri": "https://localhost:8080/"
        },
        "id": "W9EZAg1NBQ-e",
        "outputId": "4f660c19-c217-4264-dbbc-9cfd7536717d"
      },
      "outputs": [
        {
          "output_type": "execute_result",
          "data": {
            "text/plain": [
              "Silverado          18077\n",
              "Grand              12343\n",
              "Sierra              8409\n",
              "Accord              7357\n",
              "F-1504WD            6684\n",
              "                   ...  \n",
              "PathfinderSE          53\n",
              "Galant4dr             53\n",
              "SLK-ClassSLK350       52\n",
              "Monte                 48\n",
              "RX-84dr               48\n",
              "Name: Model, Length: 525, dtype: int64"
            ]
          },
          "metadata": {},
          "execution_count": 40
        }
      ],
      "source": [
        "# Revisión de clases en la variable Model\n",
        "dataTraining.Model.value_counts()"
      ]
    },
    {
      "cell_type": "code",
      "source": [
        "dataTraining.Model.unique()"
      ],
      "metadata": {
        "colab": {
          "base_uri": "https://localhost:8080/"
        },
        "id": "QbToMGp008fD",
        "outputId": "1587e534-9eb6-4185-fc57-24fcdd0ef73a"
      },
      "execution_count": 41,
      "outputs": [
        {
          "output_type": "execute_result",
          "data": {
            "text/plain": [
              "array(['Wrangler', 'Tahoe4WD', 'X5AWD', 'SRXLuxury', '3', 'C-ClassC300',\n",
              "       'CamryL', 'TacomaPreRunner', 'LaCrosse4dr', 'ChargerSXT',\n",
              "       'CamryLE', 'Jetta', 'AcadiaFWD', 'EscapeSE', 'SonataLimited',\n",
              "       'Santa', 'Outlander', 'CruzeSedan', 'Civic', 'CorollaL', '350Z2dr',\n",
              "       'EdgeSEL', 'F-1502WD', 'FocusSE', 'PatriotSport', 'Accord',\n",
              "       'MustangGT', 'FusionHybrid', 'ColoradoCrew', 'Wrangler4WD',\n",
              "       'CR-VEX-L', 'CTS', 'CherokeeLimited', 'Yukon', 'Elantra', 'New',\n",
              "       'CorollaLE', 'Canyon4WD', 'Golf', 'Sonata4dr', 'Elantra4dr',\n",
              "       'PatriotLatitude', 'Mazda35dr', 'Tacoma2WD', 'Corolla4dr',\n",
              "       'Silverado', 'TerrainFWD', 'EscapeFWD', 'Grand', 'RAV4FWD',\n",
              "       'Liberty4WD', 'FocusTitanium', 'DurangoAWD', 'S60T5', 'CivicLX',\n",
              "       'MuranoAWD', 'ForteEX', 'TraverseAWD', 'CamaroConvertible',\n",
              "       'Sportage2WD', 'Pathfinder4WD', 'Highlander4dr', 'WRXSTI', 'Ram',\n",
              "       'F-150XLT', 'SiennaXLE', 'LaCrosseFWD', 'RogueFWD', 'CamaroCoupe',\n",
              "       'JourneySXT', 'AccordEX-L', 'Escape4WD', 'OptimaEX', 'FusionSE',\n",
              "       '5', 'F-150SuperCrew', '200Limited', 'Malibu', 'CompassSport',\n",
              "       'G37', 'CanyonCrew', 'Malibu1LT', 'MustangPremium', 'MustangBase',\n",
              "       'Sierra', 'FlexLimited', 'Tahoe2WD', 'Transit', 'Outback2.5i',\n",
              "       'TucsonLimited', 'Rover', 'CayenneAWD', 'MalibuLT', 'TucsonFWD',\n",
              "       'F-150FX2', 'Camaro2dr', 'Colorado4WD', 'SonataSE', 'ESES',\n",
              "       'EnclavePremium', 'CR-VEX', 'F-150STX', 'Impreza', 'EquinoxFWD',\n",
              "       'Cooper', 'Super', 'Passat4dr', '911', 'CivicEX', 'CamrySE',\n",
              "       'Highlander4WD', 'Corvette2dr', '200S', 'PilotLX', 'SorentoEX',\n",
              "       'RioLX', 'ExplorerXLT', 'CorvetteCoupe', 'EnclaveLeather',\n",
              "       'Avalanche4WD', 'TacomaBase', 'Versa5dr', 'MKXFWD',\n",
              "       'SL-ClassSL500', 'VeracruzFWD', 'CorollaS', 'PriusTwo', 'CR-V2WD',\n",
              "       'Lucerne4dr', '4Runner4dr', 'PilotTouring', 'CR-VLX',\n",
              "       'CompassLatitude', 'Altima4dr', 'OptimaLX', 'Focus5dr',\n",
              "       'Charger4dr', 'AcadiaAWD', 'JourneyFWD', '7', 'RX', 'MalibuLS',\n",
              "       'LSLS', 'SportageLX', 'Yukon4WD', 'SorentoLX', 'TiguanSEL',\n",
              "       'Camry4dr', 'F-1504WD', 'PriusBase', 'AccordLX', 'Q7quattro',\n",
              "       'ExplorerLimited', '4RunnerSR5', 'OdysseyEX-L', 'C-ClassC',\n",
              "       'CX-9FWD', 'JourneyAWD', 'Sorento2WD', 'F-250Lariat', 'Prius',\n",
              "       'TahoeLT', '25004WD', 'Escalade4dr', 'GTI4dr', '4RunnerRWD',\n",
              "       'FX35AWD', 'XC90T6', 'Taurus4dr', 'AvalonXLE', '300300S', 'G35',\n",
              "       'F-150Platinum', 'TerrainAWD', 'GXGX', 'MKXAWD', 'Town',\n",
              "       'CamryXLE', 'VeracruzAWD', 'FusionS', 'Challenger2dr', 'Tundra',\n",
              "       'Navigator4WD', 'Legacy3.6R', 'GS', 'E-ClassE350', 'Suburban2WD',\n",
              "       'A44dr', 'RegalTurbo', 'Outback3.6R', '4Runner4WD', 'Legacy2.5i',\n",
              "       '1', 'Yukon2WD', 'Explorer', 'PilotEX-L', '200LX', 'M-ClassML350',\n",
              "       'RAV4XLE', 'WranglerSport', 'Model', 'FJ', 'Titan', 'Titan4WD',\n",
              "       'FlexSEL', 'OdysseyTouring', 'SorentoSX', 'RAV4Base', 'OdysseyEX',\n",
              "       'Explorer4WD', 'Mustang2dr', 'EdgeLimited', 'FusionSEL',\n",
              "       'Yukon4dr', 'Touareg4dr', 'Matrix5dr', 'CTCT', 'CherokeeSport',\n",
              "       '6', 'Maxima4dr', 'Frontier4WD', 'PriusThree', 'F-350XL', '500Pop',\n",
              "       'RDXAWD', 'Tacoma4WD', 'Optima4dr', 'Q5quattro', 'X3xDrive28i',\n",
              "       'RDXFWD', 'X5xDrive35i', 'Malibu4dr', 'ExpeditionXLT', 'Ranger2WD',\n",
              "       'Patriot4WD', 'Quest4dr', 'TaurusSE', 'PathfinderS', 'Murano2WD',\n",
              "       'LS', 'SiennaLimited', 'ES', 'SiennaLE', 'F-150Lariat', 'Titan2WD',\n",
              "       'Durango2WD', 'Tahoe4dr', 'Focus4dr', 'YarisBase', 'TaurusLimited',\n",
              "       'RAV44WD', 'C-Class4dr', 'Soul+', 'TundraBase', 'Expedition',\n",
              "       'ImpalaLT', 'SedonaLX', 'Sequoia4WD', 'ElantraLimited', '15002WD',\n",
              "       'Suburban4WD', 'FiestaSE', '15004WD', 'TundraSR5', 'Camry',\n",
              "       'RAV4Limited', 'RangerSuperCab', 'MDXAWD', 'RAV4LE',\n",
              "       'ChallengerR/T', 'FlexSE', 'ForteLX', 'TraverseFWD',\n",
              "       'LibertySport', 'ISIS', 'Impala4dr', 'Tundra4WD', 'F-250XLT',\n",
              "       'RXRX', 'Armada2WD', 'Frontier', 'WranglerRubicon', 'EquinoxAWD',\n",
              "       'PilotEX', 'TiguanS', 'EscaladeAWD', 'DTS4dr', 'Pilot2WD',\n",
              "       'Express', 'PacificaLimited', 'CanyonExtended', 'MX5', 'EscapeS',\n",
              "       'IS', 'C-ClassC350', 'Compass4WD', 'SportageEX', 'Legacy',\n",
              "       'E-ClassE', 'Dakota4WD', '300300C', 'Forte', 'SportageAWD',\n",
              "       'TaurusSEL', 'Xterra4WD', 'GSGS', 'Explorer4dr', 'F-150XL',\n",
              "       'SportageSX', 'xB5dr', 'TundraLimited', 'CruzeLT', 'Wrangler2dr',\n",
              "       'HighlanderFWD', 'Sprinter', 'Highlander', 'Prius5dr', 'CX-9Grand',\n",
              "       'CTS4dr', 'Econoline', 'AccordEX', 'RAV4Sport', '35004WD',\n",
              "       'ChargerSE', 'OdysseyLX', 'TucsonAWD', 'CX-7FWD', 'AccordLX-S',\n",
              "       'Navigator4dr', 'EscapeXLT', 'TiguanSE', 'Cayman2dr', 'TaurusSHO',\n",
              "       'F-150FX4', 'Ranger4WD', 'OptimaSX', 'SequoiaSR5', 'G64dr',\n",
              "       'HighlanderLimited', 'ExplorerFWD', 'F-350King', 'PriusFive',\n",
              "       'Yaris4dr', 'PatriotLimited', 'Lancer4dr', 'HighlanderSE',\n",
              "       'CompassLimited', 'S2000Manual', 'F-250King', 'Forester2.5X',\n",
              "       'Fusion4dr', 'Frontier2WD', 'FocusST', 'Pathfinder2WD',\n",
              "       'Sentra4dr', 'XF4dr', 'F-250XL', 'PacificaTouring',\n",
              "       'MustangDeluxe', 'Caliber4dr', 'GTI2dr', 'Mazda34dr', 'FocusS',\n",
              "       'Sienna5dr', 'CR-V4WD', 'CX-9Touring', 'Mazda64dr', 'Forester4dr',\n",
              "       '1500Tradesman', 'MDX4WD', 'Escalade', 'TL4dr', 'CX-9AWD',\n",
              "       'Canyon2WD', 'A64dr', 'A8', 'Armada4WD', 'Impreza2.0i', 'GX',\n",
              "       'QX564WD', 'CC4dr', 'MKZ4dr', 'Yaris', 'FitSport', 'Regal4dr',\n",
              "       'Tundra2WD', 'X3AWD', 'SonicSedan', 'Cobalt4dr', 'RidgelineRTL',\n",
              "       'CivicSi', 'AvalonLimited', 'XC90FWD', 'Outlander2WD', 'RAV44dr',\n",
              "       'ColoradoExtended', 'ExpeditionLimited', '3004dr', '200Touring',\n",
              "       'SC', 'X1xDrive28i', 'SonicHatch', 'GLI4dr', 'PilotSE', 'Savana',\n",
              "       'RegalPremium', 'CR-VSE', 'RegalGS', 'XC90AWD', 'EdgeSport',\n",
              "       'PriusFour', 'SiennaSE', '1500Laramie', '300Base', 'Pilot4WD',\n",
              "       'A34dr', 'HighlanderBase', 'Expedition4WD', 'STS4dr', 'SoulBase',\n",
              "       'Xterra2WD', 'CT', 'tC2dr', 'Tiguan2WD', 'CR-ZEX', 'MustangShelby',\n",
              "       'C702dr', 'WranglerX', 'WranglerSahara', 'DurangoSXT',\n",
              "       'Sequoia4dr', 'Outlander4WD', 'Expedition2WD', 'Navigator',\n",
              "       '9112dr', 'Vibe4dr', 'F-150King', '300Limited', 'XC60T6',\n",
              "       'CivicEX-L', 'Avalanche2WD', 'F-350XLT', 'ExplorerBase', 'MuranoS',\n",
              "       'LXLX', 'EdgeSE', 'ImpalaLS', 'Land', 'E-ClassE320', 'Milan4dr',\n",
              "       'Boxster2dr', 'RAV4', 'Eos2dr', 'SedonaEX', 'xD5dr', 'Colorado2WD',\n",
              "       'Monte', 'Escape4dr', 'LX', 'FiestaS', 'F-350Lariat', 'Galant4dr',\n",
              "       'TT2dr', 'Xterra4dr', 'SequoiaLimited', '4RunnerLimited',\n",
              "       'Genesis', 'Suburban4dr', 'EnclaveConvenience', 'LaCrosseAWD',\n",
              "       'Versa4dr', 'Cobalt2dr', 'XC60FWD', 'F-150Limited', 'Dakota2WD',\n",
              "       'S44dr', '4Runner2WD', 'Sedona4dr', 'RidgelineSport',\n",
              "       'TSXAutomatic', 'ImprezaSport', 'SLK-ClassSLK350', 'Accent4dr',\n",
              "       'CorvetteConvertible', 'Avalon4dr', 'Passat', '25002WD',\n",
              "       'ExplorerEddie', 'LibertyLimited', 'CTS-V', '4RunnerTrail',\n",
              "       'Eclipse3dr', 'Azera4dr', 'TahoeLS', 'Continental', 'XJ4dr',\n",
              "       'ForteSX', 'SequoiaPlatinum', 'FocusSEL', 'Durango4dr',\n",
              "       'CamryBase', 'XC704dr', 'S804dr', 'Element4WD', 'YarisLE',\n",
              "       'WRXBase', 'TLAutomatic', 'AvalonTouring', 'XK2dr', 'PT',\n",
              "       'PathfinderSE', '300Touring', 'Navigator2WD', 'XC60AWD',\n",
              "       'EscapeLimited', 'WRXLimited', 'AccordSE', 'QX562WD',\n",
              "       'Escalade2WD', 'EscapeLImited', 'PriusOne', 'Element2WD',\n",
              "       'Excursion137\"', 'WRXPremium', 'RX-84dr'], dtype=object)"
            ]
          },
          "metadata": {},
          "execution_count": 41
        }
      ]
    },
    {
      "cell_type": "code",
      "source": [
        "dataTraining.describe(include='all').T"
      ],
      "metadata": {
        "colab": {
          "base_uri": "https://localhost:8080/",
          "height": 0
        },
        "id": "XX7Vd6qY1o7E",
        "outputId": "3657c44b-edf6-45fb-b469-177e5c3c3fda"
      },
      "execution_count": 42,
      "outputs": [
        {
          "output_type": "execute_result",
          "data": {
            "text/plain": [
              "            count unique        top   freq          mean           std  \\\n",
              "Price    399824.0    NaN        NaN    NaN  21143.909858  10751.995781   \n",
              "Year     399824.0    NaN        NaN    NaN   2013.196574      3.292087   \n",
              "Mileage  399824.0    NaN        NaN    NaN  55093.119805  40876.008607   \n",
              "State      399824     51         TX  45914           NaN           NaN   \n",
              "Make       399824     37       Ford  62837           NaN           NaN   \n",
              "Model      399824    525  Silverado  18077           NaN           NaN   \n",
              "\n",
              "            min       25%      50%       75%        max  \n",
              "Price    5001.0   13499.0  18449.0   26999.0    79999.0  \n",
              "Year     1997.0    2012.0   2014.0    2016.0     2018.0  \n",
              "Mileage     5.0  25864.75  42970.0  77454.25  2457832.0  \n",
              "State       NaN       NaN      NaN       NaN        NaN  \n",
              "Make        NaN       NaN      NaN       NaN        NaN  \n",
              "Model       NaN       NaN      NaN       NaN        NaN  "
            ],
            "text/html": [
              "\n",
              "  <div id=\"df-d35c88ed-8e1b-4a26-8fcf-dde437171588\">\n",
              "    <div class=\"colab-df-container\">\n",
              "      <div>\n",
              "<style scoped>\n",
              "    .dataframe tbody tr th:only-of-type {\n",
              "        vertical-align: middle;\n",
              "    }\n",
              "\n",
              "    .dataframe tbody tr th {\n",
              "        vertical-align: top;\n",
              "    }\n",
              "\n",
              "    .dataframe thead th {\n",
              "        text-align: right;\n",
              "    }\n",
              "</style>\n",
              "<table border=\"1\" class=\"dataframe\">\n",
              "  <thead>\n",
              "    <tr style=\"text-align: right;\">\n",
              "      <th></th>\n",
              "      <th>count</th>\n",
              "      <th>unique</th>\n",
              "      <th>top</th>\n",
              "      <th>freq</th>\n",
              "      <th>mean</th>\n",
              "      <th>std</th>\n",
              "      <th>min</th>\n",
              "      <th>25%</th>\n",
              "      <th>50%</th>\n",
              "      <th>75%</th>\n",
              "      <th>max</th>\n",
              "    </tr>\n",
              "  </thead>\n",
              "  <tbody>\n",
              "    <tr>\n",
              "      <th>Price</th>\n",
              "      <td>399824.0</td>\n",
              "      <td>NaN</td>\n",
              "      <td>NaN</td>\n",
              "      <td>NaN</td>\n",
              "      <td>21143.909858</td>\n",
              "      <td>10751.995781</td>\n",
              "      <td>5001.0</td>\n",
              "      <td>13499.0</td>\n",
              "      <td>18449.0</td>\n",
              "      <td>26999.0</td>\n",
              "      <td>79999.0</td>\n",
              "    </tr>\n",
              "    <tr>\n",
              "      <th>Year</th>\n",
              "      <td>399824.0</td>\n",
              "      <td>NaN</td>\n",
              "      <td>NaN</td>\n",
              "      <td>NaN</td>\n",
              "      <td>2013.196574</td>\n",
              "      <td>3.292087</td>\n",
              "      <td>1997.0</td>\n",
              "      <td>2012.0</td>\n",
              "      <td>2014.0</td>\n",
              "      <td>2016.0</td>\n",
              "      <td>2018.0</td>\n",
              "    </tr>\n",
              "    <tr>\n",
              "      <th>Mileage</th>\n",
              "      <td>399824.0</td>\n",
              "      <td>NaN</td>\n",
              "      <td>NaN</td>\n",
              "      <td>NaN</td>\n",
              "      <td>55093.119805</td>\n",
              "      <td>40876.008607</td>\n",
              "      <td>5.0</td>\n",
              "      <td>25864.75</td>\n",
              "      <td>42970.0</td>\n",
              "      <td>77454.25</td>\n",
              "      <td>2457832.0</td>\n",
              "    </tr>\n",
              "    <tr>\n",
              "      <th>State</th>\n",
              "      <td>399824</td>\n",
              "      <td>51</td>\n",
              "      <td>TX</td>\n",
              "      <td>45914</td>\n",
              "      <td>NaN</td>\n",
              "      <td>NaN</td>\n",
              "      <td>NaN</td>\n",
              "      <td>NaN</td>\n",
              "      <td>NaN</td>\n",
              "      <td>NaN</td>\n",
              "      <td>NaN</td>\n",
              "    </tr>\n",
              "    <tr>\n",
              "      <th>Make</th>\n",
              "      <td>399824</td>\n",
              "      <td>37</td>\n",
              "      <td>Ford</td>\n",
              "      <td>62837</td>\n",
              "      <td>NaN</td>\n",
              "      <td>NaN</td>\n",
              "      <td>NaN</td>\n",
              "      <td>NaN</td>\n",
              "      <td>NaN</td>\n",
              "      <td>NaN</td>\n",
              "      <td>NaN</td>\n",
              "    </tr>\n",
              "    <tr>\n",
              "      <th>Model</th>\n",
              "      <td>399824</td>\n",
              "      <td>525</td>\n",
              "      <td>Silverado</td>\n",
              "      <td>18077</td>\n",
              "      <td>NaN</td>\n",
              "      <td>NaN</td>\n",
              "      <td>NaN</td>\n",
              "      <td>NaN</td>\n",
              "      <td>NaN</td>\n",
              "      <td>NaN</td>\n",
              "      <td>NaN</td>\n",
              "    </tr>\n",
              "  </tbody>\n",
              "</table>\n",
              "</div>\n",
              "      <button class=\"colab-df-convert\" onclick=\"convertToInteractive('df-d35c88ed-8e1b-4a26-8fcf-dde437171588')\"\n",
              "              title=\"Convert this dataframe to an interactive table.\"\n",
              "              style=\"display:none;\">\n",
              "        \n",
              "  <svg xmlns=\"http://www.w3.org/2000/svg\" height=\"24px\"viewBox=\"0 0 24 24\"\n",
              "       width=\"24px\">\n",
              "    <path d=\"M0 0h24v24H0V0z\" fill=\"none\"/>\n",
              "    <path d=\"M18.56 5.44l.94 2.06.94-2.06 2.06-.94-2.06-.94-.94-2.06-.94 2.06-2.06.94zm-11 1L8.5 8.5l.94-2.06 2.06-.94-2.06-.94L8.5 2.5l-.94 2.06-2.06.94zm10 10l.94 2.06.94-2.06 2.06-.94-2.06-.94-.94-2.06-.94 2.06-2.06.94z\"/><path d=\"M17.41 7.96l-1.37-1.37c-.4-.4-.92-.59-1.43-.59-.52 0-1.04.2-1.43.59L10.3 9.45l-7.72 7.72c-.78.78-.78 2.05 0 2.83L4 21.41c.39.39.9.59 1.41.59.51 0 1.02-.2 1.41-.59l7.78-7.78 2.81-2.81c.8-.78.8-2.07 0-2.86zM5.41 20L4 18.59l7.72-7.72 1.47 1.35L5.41 20z\"/>\n",
              "  </svg>\n",
              "      </button>\n",
              "      \n",
              "  <style>\n",
              "    .colab-df-container {\n",
              "      display:flex;\n",
              "      flex-wrap:wrap;\n",
              "      gap: 12px;\n",
              "    }\n",
              "\n",
              "    .colab-df-convert {\n",
              "      background-color: #E8F0FE;\n",
              "      border: none;\n",
              "      border-radius: 50%;\n",
              "      cursor: pointer;\n",
              "      display: none;\n",
              "      fill: #1967D2;\n",
              "      height: 32px;\n",
              "      padding: 0 0 0 0;\n",
              "      width: 32px;\n",
              "    }\n",
              "\n",
              "    .colab-df-convert:hover {\n",
              "      background-color: #E2EBFA;\n",
              "      box-shadow: 0px 1px 2px rgba(60, 64, 67, 0.3), 0px 1px 3px 1px rgba(60, 64, 67, 0.15);\n",
              "      fill: #174EA6;\n",
              "    }\n",
              "\n",
              "    [theme=dark] .colab-df-convert {\n",
              "      background-color: #3B4455;\n",
              "      fill: #D2E3FC;\n",
              "    }\n",
              "\n",
              "    [theme=dark] .colab-df-convert:hover {\n",
              "      background-color: #434B5C;\n",
              "      box-shadow: 0px 1px 3px 1px rgba(0, 0, 0, 0.15);\n",
              "      filter: drop-shadow(0px 1px 2px rgba(0, 0, 0, 0.3));\n",
              "      fill: #FFFFFF;\n",
              "    }\n",
              "  </style>\n",
              "\n",
              "      <script>\n",
              "        const buttonEl =\n",
              "          document.querySelector('#df-d35c88ed-8e1b-4a26-8fcf-dde437171588 button.colab-df-convert');\n",
              "        buttonEl.style.display =\n",
              "          google.colab.kernel.accessAllowed ? 'block' : 'none';\n",
              "\n",
              "        async function convertToInteractive(key) {\n",
              "          const element = document.querySelector('#df-d35c88ed-8e1b-4a26-8fcf-dde437171588');\n",
              "          const dataTable =\n",
              "            await google.colab.kernel.invokeFunction('convertToInteractive',\n",
              "                                                     [key], {});\n",
              "          if (!dataTable) return;\n",
              "\n",
              "          const docLinkHtml = 'Like what you see? Visit the ' +\n",
              "            '<a target=\"_blank\" href=https://colab.research.google.com/notebooks/data_table.ipynb>data table notebook</a>'\n",
              "            + ' to learn more about interactive tables.';\n",
              "          element.innerHTML = '';\n",
              "          dataTable['output_type'] = 'display_data';\n",
              "          await google.colab.output.renderOutput(dataTable, element);\n",
              "          const docLink = document.createElement('div');\n",
              "          docLink.innerHTML = docLinkHtml;\n",
              "          element.appendChild(docLink);\n",
              "        }\n",
              "      </script>\n",
              "    </div>\n",
              "  </div>\n",
              "  "
            ]
          },
          "metadata": {},
          "execution_count": 42
        }
      ]
    },
    {
      "cell_type": "markdown",
      "metadata": {
        "id": "ze5T2VfcBzAR"
      },
      "source": [
        "Como se evidencian muchas clases para cada variable categórica (State, Make y Model), se procede a codificarlas con números. En especial la variable Model presenta 525 modelos de carros diferentes."
      ]
    },
    {
      "cell_type": "code",
      "source": [
        "# Importar librerías necesarias\n",
        "import pandas as pd\n",
        "from sklearn.preprocessing import LabelEncoder\n",
        "\n",
        "# Crear copias de los conjuntos de datos originales\n",
        "dataTraining_copy = dataTraining.copy()\n",
        "dataTesting_copy = dataTesting.copy()\n",
        "\n",
        "# Crear objetos transformadores\n",
        "le_state = LabelEncoder()\n",
        "le_make = LabelEncoder()\n",
        "le_model = LabelEncoder()\n",
        "\n",
        "# Ajustar transformadores en datos combinados\n",
        "le_state.fit(dataTraining_copy['State'])\n",
        "le_make.fit(dataTraining_copy['Make'])\n",
        "le_model.fit(dataTraining_copy['Model'])\n",
        "\n",
        "# Transformar variables categóricas en variables numéricas\n",
        "dataTraining_copy['State_cod'] = le_state.transform(dataTraining_copy['State'])\n",
        "dataTraining_copy['Make_cod'] = le_make.transform(dataTraining_copy['Make'])\n",
        "dataTraining_copy['Model_cod'] = le_model.transform(dataTraining_copy['Model'])\n",
        "\n",
        "# Eliminar variables categóricas originales\n",
        "#dataTraining_copy.drop(['State', 'Make', 'Model'], axis=1, inplace=True)\n",
        "\n",
        "# Transformar variables categóricas en variables numéricas en el conjunto de prueba\n",
        "dataTesting_copy['State_cod'] = le_state.transform(dataTesting_copy['State'])\n",
        "dataTesting_copy['Make_cod'] = le_make.transform(dataTesting_copy['Make'])\n",
        "dataTesting_copy['Model_cod'] = le_model.transform(dataTesting_copy['Model'])\n",
        "\n",
        "# Eliminar variables categóricas originales del conjunto de prueba\n",
        "dataTesting_copy.drop(['State', 'Make', 'Model'], axis=1, inplace=True)"
      ],
      "metadata": {
        "id": "psrGKyeD3MQE"
      },
      "execution_count": 43,
      "outputs": []
    },
    {
      "cell_type": "code",
      "source": [
        "dataTraining_copy"
      ],
      "metadata": {
        "colab": {
          "base_uri": "https://localhost:8080/",
          "height": 0
        },
        "id": "7_g7PD_BOFpR",
        "outputId": "4e09e775-cbf6-4b3f-b62c-16cca929b8e1"
      },
      "execution_count": 44,
      "outputs": [
        {
          "output_type": "execute_result",
          "data": {
            "text/plain": [
              "        Price  Year  Mileage State        Make           Model  State_cod  \\\n",
              "0       34995  2017     9913    FL        Jeep        Wrangler          9   \n",
              "1       37895  2015    20578    OH   Chevrolet        Tahoe4WD         35   \n",
              "2       18430  2012    83716    TX         BMW           X5AWD         43   \n",
              "3       24681  2014    28729    OH    Cadillac       SRXLuxury         35   \n",
              "4       26998  2013    64032    CO        Jeep        Wrangler          5   \n",
              "...       ...   ...      ...   ...         ...             ...        ...   \n",
              "399995  29900  2015    25287    TX       Lexus            RXRX         43   \n",
              "399996  17688  2015    17677    MI   Chevrolet      EquinoxFWD         22   \n",
              "399997  24907  2014    66688    NC       Buick  EnclaveLeather         27   \n",
              "399998  11498  2014    37872    IN  Volkswagen           Jetta         15   \n",
              "399999  16900  2014    78606    CO      Nissan     PathfinderS          5   \n",
              "\n",
              "        Make_cod  Model_cod  \n",
              "0             16        489  \n",
              "1              6        448  \n",
              "2              2        499  \n",
              "3              5        398  \n",
              "4             16        489  \n",
              "...          ...        ...  \n",
              "399995        19        377  \n",
              "399996         6        158  \n",
              "399997         4        154  \n",
              "399998        35        264  \n",
              "399999        26        338  \n",
              "\n",
              "[399824 rows x 9 columns]"
            ],
            "text/html": [
              "\n",
              "  <div id=\"df-5cab100e-5ac9-4d2b-8c69-db3737a35bf8\">\n",
              "    <div class=\"colab-df-container\">\n",
              "      <div>\n",
              "<style scoped>\n",
              "    .dataframe tbody tr th:only-of-type {\n",
              "        vertical-align: middle;\n",
              "    }\n",
              "\n",
              "    .dataframe tbody tr th {\n",
              "        vertical-align: top;\n",
              "    }\n",
              "\n",
              "    .dataframe thead th {\n",
              "        text-align: right;\n",
              "    }\n",
              "</style>\n",
              "<table border=\"1\" class=\"dataframe\">\n",
              "  <thead>\n",
              "    <tr style=\"text-align: right;\">\n",
              "      <th></th>\n",
              "      <th>Price</th>\n",
              "      <th>Year</th>\n",
              "      <th>Mileage</th>\n",
              "      <th>State</th>\n",
              "      <th>Make</th>\n",
              "      <th>Model</th>\n",
              "      <th>State_cod</th>\n",
              "      <th>Make_cod</th>\n",
              "      <th>Model_cod</th>\n",
              "    </tr>\n",
              "  </thead>\n",
              "  <tbody>\n",
              "    <tr>\n",
              "      <th>0</th>\n",
              "      <td>34995</td>\n",
              "      <td>2017</td>\n",
              "      <td>9913</td>\n",
              "      <td>FL</td>\n",
              "      <td>Jeep</td>\n",
              "      <td>Wrangler</td>\n",
              "      <td>9</td>\n",
              "      <td>16</td>\n",
              "      <td>489</td>\n",
              "    </tr>\n",
              "    <tr>\n",
              "      <th>1</th>\n",
              "      <td>37895</td>\n",
              "      <td>2015</td>\n",
              "      <td>20578</td>\n",
              "      <td>OH</td>\n",
              "      <td>Chevrolet</td>\n",
              "      <td>Tahoe4WD</td>\n",
              "      <td>35</td>\n",
              "      <td>6</td>\n",
              "      <td>448</td>\n",
              "    </tr>\n",
              "    <tr>\n",
              "      <th>2</th>\n",
              "      <td>18430</td>\n",
              "      <td>2012</td>\n",
              "      <td>83716</td>\n",
              "      <td>TX</td>\n",
              "      <td>BMW</td>\n",
              "      <td>X5AWD</td>\n",
              "      <td>43</td>\n",
              "      <td>2</td>\n",
              "      <td>499</td>\n",
              "    </tr>\n",
              "    <tr>\n",
              "      <th>3</th>\n",
              "      <td>24681</td>\n",
              "      <td>2014</td>\n",
              "      <td>28729</td>\n",
              "      <td>OH</td>\n",
              "      <td>Cadillac</td>\n",
              "      <td>SRXLuxury</td>\n",
              "      <td>35</td>\n",
              "      <td>5</td>\n",
              "      <td>398</td>\n",
              "    </tr>\n",
              "    <tr>\n",
              "      <th>4</th>\n",
              "      <td>26998</td>\n",
              "      <td>2013</td>\n",
              "      <td>64032</td>\n",
              "      <td>CO</td>\n",
              "      <td>Jeep</td>\n",
              "      <td>Wrangler</td>\n",
              "      <td>5</td>\n",
              "      <td>16</td>\n",
              "      <td>489</td>\n",
              "    </tr>\n",
              "    <tr>\n",
              "      <th>...</th>\n",
              "      <td>...</td>\n",
              "      <td>...</td>\n",
              "      <td>...</td>\n",
              "      <td>...</td>\n",
              "      <td>...</td>\n",
              "      <td>...</td>\n",
              "      <td>...</td>\n",
              "      <td>...</td>\n",
              "      <td>...</td>\n",
              "    </tr>\n",
              "    <tr>\n",
              "      <th>399995</th>\n",
              "      <td>29900</td>\n",
              "      <td>2015</td>\n",
              "      <td>25287</td>\n",
              "      <td>TX</td>\n",
              "      <td>Lexus</td>\n",
              "      <td>RXRX</td>\n",
              "      <td>43</td>\n",
              "      <td>19</td>\n",
              "      <td>377</td>\n",
              "    </tr>\n",
              "    <tr>\n",
              "      <th>399996</th>\n",
              "      <td>17688</td>\n",
              "      <td>2015</td>\n",
              "      <td>17677</td>\n",
              "      <td>MI</td>\n",
              "      <td>Chevrolet</td>\n",
              "      <td>EquinoxFWD</td>\n",
              "      <td>22</td>\n",
              "      <td>6</td>\n",
              "      <td>158</td>\n",
              "    </tr>\n",
              "    <tr>\n",
              "      <th>399997</th>\n",
              "      <td>24907</td>\n",
              "      <td>2014</td>\n",
              "      <td>66688</td>\n",
              "      <td>NC</td>\n",
              "      <td>Buick</td>\n",
              "      <td>EnclaveLeather</td>\n",
              "      <td>27</td>\n",
              "      <td>4</td>\n",
              "      <td>154</td>\n",
              "    </tr>\n",
              "    <tr>\n",
              "      <th>399998</th>\n",
              "      <td>11498</td>\n",
              "      <td>2014</td>\n",
              "      <td>37872</td>\n",
              "      <td>IN</td>\n",
              "      <td>Volkswagen</td>\n",
              "      <td>Jetta</td>\n",
              "      <td>15</td>\n",
              "      <td>35</td>\n",
              "      <td>264</td>\n",
              "    </tr>\n",
              "    <tr>\n",
              "      <th>399999</th>\n",
              "      <td>16900</td>\n",
              "      <td>2014</td>\n",
              "      <td>78606</td>\n",
              "      <td>CO</td>\n",
              "      <td>Nissan</td>\n",
              "      <td>PathfinderS</td>\n",
              "      <td>5</td>\n",
              "      <td>26</td>\n",
              "      <td>338</td>\n",
              "    </tr>\n",
              "  </tbody>\n",
              "</table>\n",
              "<p>399824 rows × 9 columns</p>\n",
              "</div>\n",
              "      <button class=\"colab-df-convert\" onclick=\"convertToInteractive('df-5cab100e-5ac9-4d2b-8c69-db3737a35bf8')\"\n",
              "              title=\"Convert this dataframe to an interactive table.\"\n",
              "              style=\"display:none;\">\n",
              "        \n",
              "  <svg xmlns=\"http://www.w3.org/2000/svg\" height=\"24px\"viewBox=\"0 0 24 24\"\n",
              "       width=\"24px\">\n",
              "    <path d=\"M0 0h24v24H0V0z\" fill=\"none\"/>\n",
              "    <path d=\"M18.56 5.44l.94 2.06.94-2.06 2.06-.94-2.06-.94-.94-2.06-.94 2.06-2.06.94zm-11 1L8.5 8.5l.94-2.06 2.06-.94-2.06-.94L8.5 2.5l-.94 2.06-2.06.94zm10 10l.94 2.06.94-2.06 2.06-.94-2.06-.94-.94-2.06-.94 2.06-2.06.94z\"/><path d=\"M17.41 7.96l-1.37-1.37c-.4-.4-.92-.59-1.43-.59-.52 0-1.04.2-1.43.59L10.3 9.45l-7.72 7.72c-.78.78-.78 2.05 0 2.83L4 21.41c.39.39.9.59 1.41.59.51 0 1.02-.2 1.41-.59l7.78-7.78 2.81-2.81c.8-.78.8-2.07 0-2.86zM5.41 20L4 18.59l7.72-7.72 1.47 1.35L5.41 20z\"/>\n",
              "  </svg>\n",
              "      </button>\n",
              "      \n",
              "  <style>\n",
              "    .colab-df-container {\n",
              "      display:flex;\n",
              "      flex-wrap:wrap;\n",
              "      gap: 12px;\n",
              "    }\n",
              "\n",
              "    .colab-df-convert {\n",
              "      background-color: #E8F0FE;\n",
              "      border: none;\n",
              "      border-radius: 50%;\n",
              "      cursor: pointer;\n",
              "      display: none;\n",
              "      fill: #1967D2;\n",
              "      height: 32px;\n",
              "      padding: 0 0 0 0;\n",
              "      width: 32px;\n",
              "    }\n",
              "\n",
              "    .colab-df-convert:hover {\n",
              "      background-color: #E2EBFA;\n",
              "      box-shadow: 0px 1px 2px rgba(60, 64, 67, 0.3), 0px 1px 3px 1px rgba(60, 64, 67, 0.15);\n",
              "      fill: #174EA6;\n",
              "    }\n",
              "\n",
              "    [theme=dark] .colab-df-convert {\n",
              "      background-color: #3B4455;\n",
              "      fill: #D2E3FC;\n",
              "    }\n",
              "\n",
              "    [theme=dark] .colab-df-convert:hover {\n",
              "      background-color: #434B5C;\n",
              "      box-shadow: 0px 1px 3px 1px rgba(0, 0, 0, 0.15);\n",
              "      filter: drop-shadow(0px 1px 2px rgba(0, 0, 0, 0.3));\n",
              "      fill: #FFFFFF;\n",
              "    }\n",
              "  </style>\n",
              "\n",
              "      <script>\n",
              "        const buttonEl =\n",
              "          document.querySelector('#df-5cab100e-5ac9-4d2b-8c69-db3737a35bf8 button.colab-df-convert');\n",
              "        buttonEl.style.display =\n",
              "          google.colab.kernel.accessAllowed ? 'block' : 'none';\n",
              "\n",
              "        async function convertToInteractive(key) {\n",
              "          const element = document.querySelector('#df-5cab100e-5ac9-4d2b-8c69-db3737a35bf8');\n",
              "          const dataTable =\n",
              "            await google.colab.kernel.invokeFunction('convertToInteractive',\n",
              "                                                     [key], {});\n",
              "          if (!dataTable) return;\n",
              "\n",
              "          const docLinkHtml = 'Like what you see? Visit the ' +\n",
              "            '<a target=\"_blank\" href=https://colab.research.google.com/notebooks/data_table.ipynb>data table notebook</a>'\n",
              "            + ' to learn more about interactive tables.';\n",
              "          element.innerHTML = '';\n",
              "          dataTable['output_type'] = 'display_data';\n",
              "          await google.colab.output.renderOutput(dataTable, element);\n",
              "          const docLink = document.createElement('div');\n",
              "          docLink.innerHTML = docLinkHtml;\n",
              "          element.appendChild(docLink);\n",
              "        }\n",
              "      </script>\n",
              "    </div>\n",
              "  </div>\n",
              "  "
            ]
          },
          "metadata": {},
          "execution_count": 44
        }
      ]
    },
    {
      "cell_type": "code",
      "source": [
        "# Se crean los diccionarios que se emplearán para el API\n",
        "diccionario_state= dict(zip(dataTraining_copy['State'], dataTraining_copy['State_cod']))\n",
        "diccionario_Make = dict(zip(dataTraining_copy['Make'], dataTraining_copy['Make_cod']))\n",
        "diccionario_Model = dict(zip(dataTraining_copy['Model'], dataTraining_copy['Model_cod']))\n",
        "\n",
        "# Eliminar variables categóricas originales\n",
        "dataTraining_copy.drop(['State', 'Make', 'Model'], axis=1, inplace=True)\n",
        "dataTraining_copy.head(5)"
      ],
      "metadata": {
        "colab": {
          "base_uri": "https://localhost:8080/",
          "height": 0
        },
        "id": "wi6X-oFgOEty",
        "outputId": "27bda7a7-4e44-4679-b5e1-bdbb4ea0c1b1"
      },
      "execution_count": 45,
      "outputs": [
        {
          "output_type": "execute_result",
          "data": {
            "text/plain": [
              "   Price  Year  Mileage  State_cod  Make_cod  Model_cod\n",
              "0  34995  2017     9913          9        16        489\n",
              "1  37895  2015    20578         35         6        448\n",
              "2  18430  2012    83716         43         2        499\n",
              "3  24681  2014    28729         35         5        398\n",
              "4  26998  2013    64032          5        16        489"
            ],
            "text/html": [
              "\n",
              "  <div id=\"df-418c5bbd-a304-4ea1-ade8-ae10a3cca10c\">\n",
              "    <div class=\"colab-df-container\">\n",
              "      <div>\n",
              "<style scoped>\n",
              "    .dataframe tbody tr th:only-of-type {\n",
              "        vertical-align: middle;\n",
              "    }\n",
              "\n",
              "    .dataframe tbody tr th {\n",
              "        vertical-align: top;\n",
              "    }\n",
              "\n",
              "    .dataframe thead th {\n",
              "        text-align: right;\n",
              "    }\n",
              "</style>\n",
              "<table border=\"1\" class=\"dataframe\">\n",
              "  <thead>\n",
              "    <tr style=\"text-align: right;\">\n",
              "      <th></th>\n",
              "      <th>Price</th>\n",
              "      <th>Year</th>\n",
              "      <th>Mileage</th>\n",
              "      <th>State_cod</th>\n",
              "      <th>Make_cod</th>\n",
              "      <th>Model_cod</th>\n",
              "    </tr>\n",
              "  </thead>\n",
              "  <tbody>\n",
              "    <tr>\n",
              "      <th>0</th>\n",
              "      <td>34995</td>\n",
              "      <td>2017</td>\n",
              "      <td>9913</td>\n",
              "      <td>9</td>\n",
              "      <td>16</td>\n",
              "      <td>489</td>\n",
              "    </tr>\n",
              "    <tr>\n",
              "      <th>1</th>\n",
              "      <td>37895</td>\n",
              "      <td>2015</td>\n",
              "      <td>20578</td>\n",
              "      <td>35</td>\n",
              "      <td>6</td>\n",
              "      <td>448</td>\n",
              "    </tr>\n",
              "    <tr>\n",
              "      <th>2</th>\n",
              "      <td>18430</td>\n",
              "      <td>2012</td>\n",
              "      <td>83716</td>\n",
              "      <td>43</td>\n",
              "      <td>2</td>\n",
              "      <td>499</td>\n",
              "    </tr>\n",
              "    <tr>\n",
              "      <th>3</th>\n",
              "      <td>24681</td>\n",
              "      <td>2014</td>\n",
              "      <td>28729</td>\n",
              "      <td>35</td>\n",
              "      <td>5</td>\n",
              "      <td>398</td>\n",
              "    </tr>\n",
              "    <tr>\n",
              "      <th>4</th>\n",
              "      <td>26998</td>\n",
              "      <td>2013</td>\n",
              "      <td>64032</td>\n",
              "      <td>5</td>\n",
              "      <td>16</td>\n",
              "      <td>489</td>\n",
              "    </tr>\n",
              "  </tbody>\n",
              "</table>\n",
              "</div>\n",
              "      <button class=\"colab-df-convert\" onclick=\"convertToInteractive('df-418c5bbd-a304-4ea1-ade8-ae10a3cca10c')\"\n",
              "              title=\"Convert this dataframe to an interactive table.\"\n",
              "              style=\"display:none;\">\n",
              "        \n",
              "  <svg xmlns=\"http://www.w3.org/2000/svg\" height=\"24px\"viewBox=\"0 0 24 24\"\n",
              "       width=\"24px\">\n",
              "    <path d=\"M0 0h24v24H0V0z\" fill=\"none\"/>\n",
              "    <path d=\"M18.56 5.44l.94 2.06.94-2.06 2.06-.94-2.06-.94-.94-2.06-.94 2.06-2.06.94zm-11 1L8.5 8.5l.94-2.06 2.06-.94-2.06-.94L8.5 2.5l-.94 2.06-2.06.94zm10 10l.94 2.06.94-2.06 2.06-.94-2.06-.94-.94-2.06-.94 2.06-2.06.94z\"/><path d=\"M17.41 7.96l-1.37-1.37c-.4-.4-.92-.59-1.43-.59-.52 0-1.04.2-1.43.59L10.3 9.45l-7.72 7.72c-.78.78-.78 2.05 0 2.83L4 21.41c.39.39.9.59 1.41.59.51 0 1.02-.2 1.41-.59l7.78-7.78 2.81-2.81c.8-.78.8-2.07 0-2.86zM5.41 20L4 18.59l7.72-7.72 1.47 1.35L5.41 20z\"/>\n",
              "  </svg>\n",
              "      </button>\n",
              "      \n",
              "  <style>\n",
              "    .colab-df-container {\n",
              "      display:flex;\n",
              "      flex-wrap:wrap;\n",
              "      gap: 12px;\n",
              "    }\n",
              "\n",
              "    .colab-df-convert {\n",
              "      background-color: #E8F0FE;\n",
              "      border: none;\n",
              "      border-radius: 50%;\n",
              "      cursor: pointer;\n",
              "      display: none;\n",
              "      fill: #1967D2;\n",
              "      height: 32px;\n",
              "      padding: 0 0 0 0;\n",
              "      width: 32px;\n",
              "    }\n",
              "\n",
              "    .colab-df-convert:hover {\n",
              "      background-color: #E2EBFA;\n",
              "      box-shadow: 0px 1px 2px rgba(60, 64, 67, 0.3), 0px 1px 3px 1px rgba(60, 64, 67, 0.15);\n",
              "      fill: #174EA6;\n",
              "    }\n",
              "\n",
              "    [theme=dark] .colab-df-convert {\n",
              "      background-color: #3B4455;\n",
              "      fill: #D2E3FC;\n",
              "    }\n",
              "\n",
              "    [theme=dark] .colab-df-convert:hover {\n",
              "      background-color: #434B5C;\n",
              "      box-shadow: 0px 1px 3px 1px rgba(0, 0, 0, 0.15);\n",
              "      filter: drop-shadow(0px 1px 2px rgba(0, 0, 0, 0.3));\n",
              "      fill: #FFFFFF;\n",
              "    }\n",
              "  </style>\n",
              "\n",
              "      <script>\n",
              "        const buttonEl =\n",
              "          document.querySelector('#df-418c5bbd-a304-4ea1-ade8-ae10a3cca10c button.colab-df-convert');\n",
              "        buttonEl.style.display =\n",
              "          google.colab.kernel.accessAllowed ? 'block' : 'none';\n",
              "\n",
              "        async function convertToInteractive(key) {\n",
              "          const element = document.querySelector('#df-418c5bbd-a304-4ea1-ade8-ae10a3cca10c');\n",
              "          const dataTable =\n",
              "            await google.colab.kernel.invokeFunction('convertToInteractive',\n",
              "                                                     [key], {});\n",
              "          if (!dataTable) return;\n",
              "\n",
              "          const docLinkHtml = 'Like what you see? Visit the ' +\n",
              "            '<a target=\"_blank\" href=https://colab.research.google.com/notebooks/data_table.ipynb>data table notebook</a>'\n",
              "            + ' to learn more about interactive tables.';\n",
              "          element.innerHTML = '';\n",
              "          dataTable['output_type'] = 'display_data';\n",
              "          await google.colab.output.renderOutput(dataTable, element);\n",
              "          const docLink = document.createElement('div');\n",
              "          docLink.innerHTML = docLinkHtml;\n",
              "          element.appendChild(docLink);\n",
              "        }\n",
              "      </script>\n",
              "    </div>\n",
              "  </div>\n",
              "  "
            ]
          },
          "metadata": {},
          "execution_count": 45
        }
      ]
    },
    {
      "cell_type": "code",
      "source": [
        "diccionario_Model.get('Wrangler')"
      ],
      "metadata": {
        "colab": {
          "base_uri": "https://localhost:8080/"
        },
        "id": "zg4xdlOXOdWo",
        "outputId": "8ef4531c-0efc-48b4-fa5c-43b548294c43"
      },
      "execution_count": 46,
      "outputs": [
        {
          "output_type": "execute_result",
          "data": {
            "text/plain": [
              "489"
            ]
          },
          "metadata": {},
          "execution_count": 46
        }
      ]
    },
    {
      "cell_type": "code",
      "execution_count": 47,
      "metadata": {
        "colab": {
          "base_uri": "https://localhost:8080/",
          "height": 0
        },
        "id": "fXGy8O3u_KIQ",
        "outputId": "b0c999af-2d58-41f4-f697-8df310b04f22"
      },
      "outputs": [
        {
          "output_type": "display_data",
          "data": {
            "text/plain": [
              "<Figure size 500x500 with 2 Axes>"
            ],
            "image/png": "[encoded data removed]"
          },
          "metadata": {}
        }
      ],
      "source": [
        "import matplotlib.pyplot as plt\n",
        "import seaborn as sns\n",
        "# Se realiza la matriz de correlación\n",
        "corr = dataTraining_copy.corr(method='pearson')\n",
        "plt.figure(figsize=(5,5))\n",
        "sns.heatmap(corr, cmap='Blues', annot=True)\n",
        "plt.show()"
      ]
    },
    {
      "cell_type": "markdown",
      "source": [
        "Se observa una correlación postiva entre el precio y el año, puesto que a medida que el carro sea un año mayor estaría más nuevo y por eso incrementa su valor. También se observa correlación negativa entre el kilometraje y el precio (-0.47) lo cual es de esperarse puesto que a mayor número de distancia recorrida por el vehículo, su valor disminuye considerablemente.\n",
        "\n",
        "Ahora, para poder proceder al entrenamiento de los modelos se realiza la división del set de entrenamiento en Train y Test para evaluar el desempeño."
      ],
      "metadata": {
        "id": "mR-aUzIj-O8K"
      }
    },
    {
      "cell_type": "code",
      "execution_count": 48,
      "metadata": {
        "id": "F10QItANEDEw"
      },
      "outputs": [],
      "source": [
        "from sklearn.model_selection import train_test_split\n",
        "\n",
        "y = dataTraining_copy['Price']\n",
        "X = dataTraining_copy.drop(['Price'], axis=1)\n",
        "\n",
        "# Separación de datos en set de entrenamiento y test\n",
        "X_train, X_test, y_train, y_test = train_test_split(X, y, test_size=0.20, random_state=42)"
      ]
    },
    {
      "cell_type": "markdown",
      "source": [
        "# Selección de los modelos iniciales"
      ],
      "metadata": {
        "id": "WcdLAaxK_j0u"
      }
    },
    {
      "cell_type": "markdown",
      "source": [
        "Se plantea modelar un Random Forest y un modelo XGBoost para predecir el precio del vehículo. A partir de los resultados obtenido para sus métricas de desempeño, se procede a optimizar los hiperparámetros del modelo escogido."
      ],
      "metadata": {
        "id": "yWEejNCN_q9W"
      }
    },
    {
      "cell_type": "markdown",
      "metadata": {
        "id": "TmBtTKN3Tqz0"
      },
      "source": [
        "## Random Forest Regressor - Sin optimizar"
      ]
    },
    {
      "cell_type": "code",
      "execution_count": 49,
      "metadata": {
        "id": "Cn0380xRTpyy",
        "colab": {
          "base_uri": "https://localhost:8080/"
        },
        "outputId": "ebaeafd4-9edf-444d-ed74-2fac6044cebc"
      },
      "outputs": [
        {
          "output_type": "stream",
          "name": "stdout",
          "text": [
            "\n",
            "Resultados en conjunto de train:\n",
            "MSE: 2012935.052033494\n",
            "RMSE: 1418.7794233190352\n",
            "MAE: 878.7215925965083\n",
            "r2 score: 0.9826147109164927\n",
            "\n",
            "Resultados en conjunto de test:\n",
            "MSE: 14029755.973425226\n",
            "RMSE: 3745.6315853838623\n",
            "MAE: 2356.9656582235484\n",
            "r2 score: 0.8778837492517106\n"
          ]
        }
      ],
      "source": [
        "from sklearn.ensemble import RandomForestRegressor\n",
        "from sklearn.metrics import mean_squared_error, mean_absolute_error, r2_score\n",
        "\n",
        "# Se crea la instancia del modelo RandomForestRegressor\n",
        "rf_reg = RandomForestRegressor(random_state=123)\n",
        "\n",
        "# Se ajusta el modelo con los datos de entrenamiento \n",
        "rf_reg.fit(X_train, y_train)\n",
        "\n",
        "# Realizar predicciones con los datos de entrenamiento y testeo\n",
        "y_pred_train_rf = rf_reg.predict(X_train)\n",
        "y_pred_test_rf = rf_reg.predict(X_test)\n",
        "\n",
        "# Calcular el MSE, RMSE, MAE y r2 para el set de entrenamiento\n",
        "mse_train_rf = mean_squared_error(y_train, y_pred_train_rf)\n",
        "rmse_train_rf = np.sqrt(mse_train_rf)\n",
        "mae_train_rf = mean_absolute_error(y_train, y_pred_train_rf)\n",
        "r2_train_rf = r2_score(y_train, y_pred_train_rf)\n",
        "\n",
        "mse_test_rf = mean_squared_error(y_test, y_pred_test_rf)\n",
        "rmse_test_rf = np.sqrt(mse_test_rf)\n",
        "mae_test_rf = mean_absolute_error(y_test, y_pred_test_rf)\n",
        "r2_test_rf = r2_score(y_test, y_pred_test_rf)\n",
        "\n",
        "print('\\nResultados en conjunto de train:')\n",
        "print(\"MSE:\", mse_train_rf)\n",
        "print(\"RMSE:\", rmse_train_rf)\n",
        "print(\"MAE:\", mae_train_rf)\n",
        "print(\"r2 score:\", r2_train_rf)\n",
        "\n",
        "print('\\nResultados en conjunto de test:')\n",
        "print(\"MSE:\", mse_test_rf)\n",
        "print(\"RMSE:\", rmse_test_rf)\n",
        "print(\"MAE:\", mae_test_rf)\n",
        "print(\"r2 score:\", r2_test_rf)"
      ]
    },
    {
      "cell_type": "markdown",
      "source": [
        "Se revisa la importancia de las variables según este modelo"
      ],
      "metadata": {
        "id": "yGr6CNUoAW8w"
      }
    },
    {
      "cell_type": "code",
      "execution_count": 50,
      "metadata": {
        "id": "nQH-lpjfo5of",
        "colab": {
          "base_uri": "https://localhost:8080/",
          "height": 527
        },
        "outputId": "534f8d97-312e-4b24-f94d-0f5db4cef012"
      },
      "outputs": [
        {
          "output_type": "display_data",
          "data": {
            "text/plain": [
              "<Figure size 1000x500 with 1 Axes>"
            ],
            "image/png": "[encoded data removed]"
          },
          "metadata": {}
        }
      ],
      "source": [
        "import matplotlib.pyplot as plt\n",
        "# Obtener la importancia de las variables\n",
        "importances = rf_reg.feature_importances_\n",
        "\n",
        "# Ordenar las importancias de mayor a menor\n",
        "sorted_idx = importances.argsort()[::-1]\n",
        "\n",
        "# Obtener el nombre de las variables\n",
        "feature_names = X_train.columns\n",
        "\n",
        "# Mostrar las importancias de las variables en un gráfico de barras\n",
        "plt.figure(figsize=(10, 5))\n",
        "plt.title(\"Importancia de las variables\")\n",
        "plt.bar(range(X_train.shape[1]), importances[sorted_idx])\n",
        "plt.xticks(range(X_train.shape[1]), feature_names[sorted_idx], rotation=90)\n",
        "plt.show()"
      ]
    },
    {
      "cell_type": "markdown",
      "metadata": {
        "id": "_ZXP79uVPbkq"
      },
      "source": [
        "## XGBoost - Sin optimizar"
      ]
    },
    {
      "cell_type": "code",
      "execution_count": 51,
      "metadata": {
        "colab": {
          "base_uri": "https://localhost:8080/"
        },
        "id": "lF4oxzYIEB7y",
        "outputId": "c3131ba3-e837-44e4-a31f-02ab22e2f85e"
      },
      "outputs": [
        {
          "output_type": "stream",
          "name": "stdout",
          "text": [
            "\n",
            "Resultados en conjunto de train:\n",
            "MSE: 12885698.413784523\n",
            "RMSE: 3589.6655016567383\n",
            "MAE: 2369.82630622413\n",
            "r2 score: 0.8887089815738336\n",
            "\n",
            "Resultados en conjunto de test:\n",
            "MSE: 13351433.566076038\n",
            "RMSE: 3653.961352570117\n",
            "MAE: 2413.2563399575884\n",
            "r2 score: 0.8837879281512538\n"
          ]
        }
      ],
      "source": [
        "import xgboost as xgb\n",
        "from sklearn.metrics import mean_squared_error, mean_absolute_error, r2_score, mean_squared_error\n",
        "\n",
        "# Se crea la instancia del modelo XGBRegressor\n",
        "xgb_reg = xgb.XGBRegressor(seed=42)\n",
        "\n",
        "# Se ajusta el modelo con los datos de entrenamiento \n",
        "xgb_reg.fit(X_train, y_train)\n",
        "\n",
        "# Realizar predicciones con los datos de entrenamiento y testeo\n",
        "y_pred_train_xgb = xgb_reg.predict(X_train)\n",
        "y_pred_test_xgb = xgb_reg.predict(X_test)\n",
        "\n",
        "# Calcular el MSE, RMSE, MAE y r2 para el set de entrenamiento\n",
        "mse_train_xgb = mean_squared_error(y_train, y_pred_train_xgb)\n",
        "rmse_train_xgb = np.sqrt(mse_train_xgb)\n",
        "mae_train_xgb = mean_absolute_error(y_train, y_pred_train_xgb)\n",
        "r2_train_xgb = r2_score(y_train, y_pred_train_xgb)\n",
        "\n",
        "# Calcular el MSE, RMSE, MAE y r2 para el set de prueba\n",
        "mse_test_xgb = mean_squared_error(y_test, y_pred_test_xgb)\n",
        "rmse_test_xgb = np.sqrt(mse_test_xgb)\n",
        "mae_test_xgb = mean_absolute_error(y_test, y_pred_test_xgb)\n",
        "r2_test_xgb = r2_score(y_test, y_pred_test_xgb)\n",
        "\n",
        "# Imprimir los resultados\n",
        "print('\\nResultados en conjunto de train:')\n",
        "print(\"MSE:\", mse_train_xgb)\n",
        "print(\"RMSE:\", rmse_train_xgb)\n",
        "print(\"MAE:\", mae_train_xgb)\n",
        "print(\"r2 score:\", r2_train_xgb)\n",
        "\n",
        "print('\\nResultados en conjunto de test:')\n",
        "print(\"MSE:\", mse_test_xgb)\n",
        "print(\"RMSE:\", rmse_test_xgb)\n",
        "print(\"MAE:\", mae_test_xgb)\n",
        "print(\"r2 score:\", r2_test_xgb)"
      ]
    },
    {
      "cell_type": "code",
      "source": [
        "# Obtener la importancia de las variables\n",
        "importances = xgb_reg.feature_importances_\n",
        "\n",
        "# Ordenar las importancias de mayor a menor\n",
        "sorted_idx = importances.argsort()[::-1]\n",
        "\n",
        "# Obtener el nombre de las variables\n",
        "feature_names = X_train.columns\n",
        "\n",
        "# Mostrar las importancias de las variables en un gráfico de barras\n",
        "plt.figure(figsize=(10, 5))\n",
        "plt.title(\"Importancia de las variables\")\n",
        "plt.bar(range(X_train.shape[1]), importances[sorted_idx])\n",
        "plt.xticks(range(X_train.shape[1]), feature_names[sorted_idx], rotation=90)\n",
        "plt.show()"
      ],
      "metadata": {
        "colab": {
          "base_uri": "https://localhost:8080/",
          "height": 527
        },
        "id": "TPPIVZ4_C9rB",
        "outputId": "8bc57614-b419-4fd7-dc51-6e89ede79d2b"
      },
      "execution_count": 52,
      "outputs": [
        {
          "output_type": "display_data",
          "data": {
            "text/plain": [
              "<Figure size 1000x500 with 1 Axes>"
            ],
            "image/png": "[encoded data removed]"
          },
          "metadata": {}
        }
      ]
    },
    {
      "cell_type": "markdown",
      "source": [
        "Evaluando los dos modelos se evidencian las siguientes métricas de desempeño en el 20% de los datos que se destinaron para testeo:\n",
        "\n",
        "\n",
        "Modelo                              | MSE      | RMSE     | MAE    |R2_score|\n",
        "------------------------------------|----------|----------|--------|--------|\n",
        " Random Forest Sin optimizar        |14029755  | 3745.63  |2356.96 |0.8766  |\n",
        " XGBoost -  Sin optimizar           |13351433  | 3653.96  |2413.25 |0.8837  |\n",
        "\n",
        "\n",
        "En las métricas de entrenamiento el Random Forest muestra mejor desempeño, lo cual indica que se puede estar sobreajustando. Por el desempeño obtenido, se procede a optimizar el modelo de XGBoost. \n"
      ],
      "metadata": {
        "id": "y0ULXk4WDQrY"
      }
    },
    {
      "cell_type": "markdown",
      "metadata": {
        "id": "-Do5XMg_NZIP"
      },
      "source": [
        "## Calibración del modelo \n",
        "\n",
        "XGBoost - Optimizado parámetro a parámetro"
      ]
    },
    {
      "cell_type": "code",
      "execution_count": 53,
      "metadata": {
        "id": "ojDu8xqtyfOq"
      },
      "outputs": [],
      "source": [
        "import xgboost as xgb\n",
        "from sklearn.metrics import mean_squared_error, mean_absolute_error, r2_score, mean_squared_error\n",
        "from sklearn.model_selection import GridSearchCV,cross_val_score"
      ]
    },
    {
      "cell_type": "code",
      "execution_count": 54,
      "metadata": {
        "colab": {
          "base_uri": "https://localhost:8080/",
          "height": 471
        },
        "id": "IE-Pu1M3QGSw",
        "outputId": "1c337b2f-01f6-455d-b032-9dca20862a46"
      },
      "outputs": [
        {
          "output_type": "execute_result",
          "data": {
            "text/plain": [
              "Text(0, 0.5, 'RMSE en Train')"
            ]
          },
          "metadata": {},
          "execution_count": 54
        },
        {
          "output_type": "display_data",
          "data": {
            "text/plain": [
              "<Figure size 640x480 with 1 Axes>"
            ],
            "image/png": "[encoded data removed]"
          },
          "metadata": {}
        }
      ],
      "source": [
        "###################################################   Definición de learning_rate ##########################################################\n",
        "\n",
        "# Definición de una lista de valores para iterar sobre diferentes valores de learning_rate\n",
        "lr_range = [0.001, 0.01, 0.1, 0.11, 0.12,0.13,0.14,0.15,0.16]\n",
        "\n",
        "# Definición de una lista para almacenar el RMSE promedio para cada valor de learning_rate\n",
        "rmse_scores = []\n",
        "\n",
        "# Uso de validación cruzada para cada valor de learning_rate\n",
        "for lr in lr_range:\n",
        "    xg_reg = xgb.XGBRegressor(objective='reg:squarederror', learning_rate=lr, random_state=1, n_jobs=-1)\n",
        "    rmse_scores.append(np.sqrt(-cross_val_score(xg_reg, X, y, cv=10, scoring='neg_mean_squared_error')).mean())\n",
        "\n",
        "# Gráfica del desempeño del modelo vs learning_rate\n",
        "plt.plot(lr_range, rmse_scores)\n",
        "plt.xlabel('Learning Rate')\n",
        "plt.ylabel('RMSE en Train')"
      ]
    },
    {
      "cell_type": "markdown",
      "metadata": {
        "id": "xJYllDhS-DFG"
      },
      "source": [
        "learning_rate: es la tasa de aprendizaje que controla la contribución de cada árbol a la predicción. Un valor más alto significa que el modelo aprende más rápido, pero también puede llevar a un sobreajuste. En este caso, se ha definido una tasa de aprendizaje de 0.16 en donde el RMSE no presenta una variación considerable."
      ]
    },
    {
      "cell_type": "code",
      "execution_count": null,
      "metadata": {
        "colab": {
          "base_uri": "https://localhost:8080/",
          "height": 467
        },
        "id": "jLKP_DVyF0mY",
        "outputId": "05b2ed77-447d-4411-b8c5-e20630d00577"
      },
      "outputs": [
        {
          "output_type": "execute_result",
          "data": {
            "text/plain": [
              "Text(0, 0.5, 'RMSE en Train')"
            ]
          },
          "metadata": {},
          "execution_count": 33
        },
        {
          "output_type": "display_data",
          "data": {
            "text/plain": [
              "<Figure size 640x480 with 1 Axes>"
            ],
            "image/png": "[encoded data removed]"
          },
          "metadata": {}
        }
      ],
      "source": [
        "###################################################   Definición de colsample_bytree ##########################################################\n",
        "\n",
        "# Definición de una lista de valores para iterar sobre diferentes valores de colsample_bytree\n",
        "col_range = [0.1, 0.3, 0.5, 0.7, 0.8]\n",
        "\n",
        "# Definición de una lista para almacenar el RMSE promedio para cada valor de colsample_bytree\n",
        "rmse_scores = []\n",
        "\n",
        "# Uso de validación cruzada para cada valor de colsample_bytree\n",
        "for col in col_range:\n",
        "    xg_reg = xgb.XGBRegressor(objective='reg:squarederror', colsample_bytree=col, learning_rate=0.16, random_state=1, n_jobs=-1)\n",
        "    rmse_scores.append(np.sqrt(-cross_val_score(xg_reg, X, y, cv=10, scoring='neg_mean_squared_error')).mean())\n",
        "\n",
        "# Gráfica del desempeño del modelo vs colsample_bytree\n",
        "plt.plot(col_range, rmse_scores)\n",
        "plt.xlabel('Colsample_bytree')\n",
        "plt.ylabel('RMSE en Train')\n"
      ]
    },
    {
      "cell_type": "markdown",
      "metadata": {
        "id": "j6JMm0BU-NbG"
      },
      "source": [
        "colsample_bytree: se refiere a la proporción de columnas de características (variables) que se utilizan en cada árbol. En este caso, se está usando el 80% de las columnas de características en donde el RMSE no presenta una variación considerable."
      ]
    },
    {
      "cell_type": "code",
      "execution_count": null,
      "metadata": {
        "colab": {
          "base_uri": "https://localhost:8080/",
          "height": 466
        },
        "id": "k76WB6oBNQEN",
        "outputId": "3f289aec-b2d5-4451-83ef-d116da0970d8"
      },
      "outputs": [
        {
          "output_type": "execute_result",
          "data": {
            "text/plain": [
              "Text(0, 0.5, 'RMSE en Train')"
            ]
          },
          "metadata": {},
          "execution_count": 35
        },
        {
          "output_type": "display_data",
          "data": {
            "text/plain": [
              "<Figure size 640x480 with 1 Axes>"
            ],
            "image/png": "[encoded data removed]"
          },
          "metadata": {}
        }
      ],
      "source": [
        "###################################################   Definición de gamma ##########################################################\n",
        "\n",
        "# Definición de una lista de valores para iterar sobre diferentes valores de gamma\n",
        "gamma_range = [0, 1, 2, 3, 4, 5, 6, 7, 8, 9, 10, 11, 12, 13, 14]\n",
        "\n",
        "# Definición de una lista para almacenar el RMSE promedio para cada valor de gamma\n",
        "rmse_scores = []\n",
        "\n",
        "# Uso de validación cruzada para cada valor de gamma\n",
        "for gamma in gamma_range:\n",
        "    xg_reg = xgb.XGBRegressor(objective='reg:squarederror', gamma=gamma,learning_rate=0.16, colsample_bytree=0.80,  random_state=1, n_jobs=-1)\n",
        "    rmse_scores.append(np.sqrt(-cross_val_score(xg_reg,X, y, cv=10, scoring='neg_mean_squared_error')).mean())\n",
        "\n",
        "# Gráfica del desempeño del modelo vs gamma\n",
        "plt.plot(gamma_range, rmse_scores)\n",
        "plt.xlabel('Gamma')\n",
        "plt.ylabel('RMSE en Train')\n"
      ]
    },
    {
      "cell_type": "markdown",
      "metadata": {
        "id": "vdw1QxhjaEgH"
      },
      "source": [
        "Gamma = 0\n",
        "gamma: es un parámetro que controla la cantidad de reducción de pérdida necesaria para realizar una partición adicional en un nodo durante el proceso de creación de árboles. Un valor más alto de gamma puede llevar a un modelo más simple y reducir el sobreajuste. EN este caso, se ha definido un gamma de cero, ya que el RMSE no presenta mejora cuando este parámetro cambia "
      ]
    },
    {
      "cell_type": "code",
      "execution_count": null,
      "metadata": {
        "colab": {
          "base_uri": "https://localhost:8080/",
          "height": 469
        },
        "id": "61gyHBgcapv3",
        "outputId": "ea096c0d-9934-4980-ca81-2c40c3d84e24"
      },
      "outputs": [
        {
          "output_type": "execute_result",
          "data": {
            "text/plain": [
              "Text(0, 0.5, 'RMSE en Train')"
            ]
          },
          "metadata": {},
          "execution_count": 36
        },
        {
          "output_type": "display_data",
          "data": {
            "text/plain": [
              "<Figure size 640x480 with 1 Axes>"
            ],
            "image/png": "[encoded data removed]"
          },
          "metadata": {}
        }
      ],
      "source": [
        "# Definición de una lista de valores para iterar sobre diferentes valores de max_depth\n",
        "max_depth_range = [2, 3, 4, 5, 6, 7, 8, 9, 10]\n",
        "\n",
        "# Definición de una lista para almacenar el RMSE promedio para cada valor de max_depth\n",
        "rmse_scores = []\n",
        "\n",
        "# Uso de validación cruzada para cada valor de max_depth\n",
        "for max_depth in max_depth_range:\n",
        "    xg_reg = xgb.XGBRegressor(objective='reg:squarederror', max_depth=max_depth,  gamma=0, learning_rate=0.16, colsample_bytree=0.80, random_state=1, n_jobs=-1)\n",
        "    rmse_scores.append(np.sqrt(-cross_val_score(xg_reg, X, y, cv=10, scoring='neg_mean_squared_error')).mean())\n",
        "\n",
        "# Gráfica del desempeño del modelo vs max_depth\n",
        "plt.plot(max_depth_range, rmse_scores)\n",
        "plt.xlabel('Max Depth')\n",
        "plt.ylabel('RMSE en Train')"
      ]
    },
    {
      "cell_type": "markdown",
      "metadata": {
        "id": "e9mX67NAwPq-"
      },
      "source": [
        "max_depth: define la profundidad máxima de cada árbol en el modelo. Un valor más alto puede llevar a un sobreajuste, mientras que un valor más bajo puede llevar a un subajuste. En este caso, se ha definido una profundidad máxima de 10 ya que hasta ahí se consigue un RMSE más bajo para los valores analizados."
      ]
    },
    {
      "cell_type": "code",
      "execution_count": null,
      "metadata": {
        "colab": {
          "base_uri": "https://localhost:8080/",
          "height": 467
        },
        "id": "63ADkvn1hFvk",
        "outputId": "429a5d2f-f4cf-448e-ad2c-6957ac7aa02a"
      },
      "outputs": [
        {
          "output_type": "execute_result",
          "data": {
            "text/plain": [
              "Text(0, 0.5, 'RMSE en Train')"
            ]
          },
          "metadata": {},
          "execution_count": 27
        },
        {
          "output_type": "display_data",
          "data": {
            "text/plain": [
              "<Figure size 640x480 with 1 Axes>"
            ],
            "image/png": "[encoded data removed]"
          },
          "metadata": {}
        }
      ],
      "source": [
        "# Definición de una lista de valores para iterar sobre diferentes valores de min_child_weight\n",
        "min_child_weight_range = [1, 2, 3, 4, 5, 6, 7, 8, 9, 10]\n",
        "\n",
        "# Definición de una lista para almacenar el RMSE promedio para cada valor de min_child_weight\n",
        "rmse_scores = []\n",
        "\n",
        "# Uso de validación cruzada para cada valor de min_child_weight\n",
        "for min_child_weight in min_child_weight_range:\n",
        "    xg_reg = xgb.XGBRegressor(objective='reg:squarederror', min_child_weight=min_child_weight,  max_depth=10,  gamma=0, learning_rate=0.16, colsample_bytree=0.80, random_state=1, n_jobs=-1)\n",
        "    rmse_scores.append(np.sqrt(-cross_val_score(xg_reg, X, y, cv=10, scoring='neg_mean_squared_error')).mean())\n",
        "\n",
        "# Gráfica del desempeño del modelo vs min_child_weight\n",
        "plt.plot(min_child_weight_range, rmse_scores)\n",
        "plt.xlabel('Min_child_weight')\n",
        "plt.ylabel('RMSE en Train')"
      ]
    },
    {
      "cell_type": "markdown",
      "source": [
        "min_child_weight: define la cantidad mínima de muestras necesarias en cada hoja de un árbol. Un valor más alto puede evitar el sobreajuste, mientras que un valor más bajo puede llevar a un sobreajuste. En este caso, se ha definido una cantidad mínima de muestras de 2 ya que según la gráfica muestra un mínimo global de los valores evaluados para el RMSE."
      ],
      "metadata": {
        "id": "Cj1_j8oURZ47"
      }
    },
    {
      "cell_type": "code",
      "execution_count": null,
      "metadata": {
        "id": "a_ZFg4nYhdGz"
      },
      "outputs": [],
      "source": [
        "# Definición de una lista de valores para iterar sobre diferentes valores de n_estimators\n",
        "n_estimators_range = range(10, 310, 10)\n",
        "\n",
        "# Definición de una lista para almacenar el RMSE promedio para cada valor de n_estimators\n",
        "rmse_scores = []\n",
        "\n",
        "# Uso de validación cruzada para cada valor de n_estimators\n",
        "for n in n_estimators_range:\n",
        "    xg_reg = xgb.XGBRegressor(objective='reg:squarederror', n_estimators=n, min_child_weight=2,  max_depth=10,  gamma=0, learning_rate=0.16, colsample_bytree=0.80, random_state=1, n_jobs=-1)\n",
        "    rmse_scores.append(np.sqrt(-cross_val_score(xg_reg, X, y, cv=10, scoring='neg_mean_squared_error')).mean())\n",
        "\n",
        "# Gráfica del desempeño del modelo vs n_estimators\n",
        "plt.plot(n_estimators_range, rmse_scores)\n",
        "plt.xlabel('n_estimators')\n",
        "plt.ylabel('RMSE en Train')"
      ]
    },
    {
      "cell_type": "markdown",
      "source": [
        "n_estimators: es el número total de árboles que se utilizan en el modelo. Un valor más alto puede mejorar el rendimiento del modelo, pero también aumenta el tiempo de entrenamiento. En este caso, se han definido 300 árboles porque es cuando se estabilizan los valores de RMSE."
      ],
      "metadata": {
        "id": "SdhhBEyz4MNX"
      }
    },
    {
      "cell_type": "code",
      "execution_count": null,
      "metadata": {
        "id": "jdmX4jAehwU9",
        "colab": {
          "base_uri": "https://localhost:8080/",
          "height": 466
        },
        "outputId": "fbb34915-92bb-4959-c9dd-ed71eb5f19dc"
      },
      "outputs": [
        {
          "output_type": "execute_result",
          "data": {
            "text/plain": [
              "Text(0, 0.5, 'RMSE en Train')"
            ]
          },
          "metadata": {},
          "execution_count": 28
        },
        {
          "output_type": "display_data",
          "data": {
            "text/plain": [
              "<Figure size 640x480 with 1 Axes>"
            ],
            "image/png": "[encoded data removed]"
          },
          "metadata": {}
        }
      ],
      "source": [
        "# Definición de una lista de valores para iterar sobre diferentes valores de subsample\n",
        "subsample_range = [0.6, 0.7, 0.8, 0.9, 1.0]\n",
        "\n",
        "# Definición de una lista para almacenar el RMSE promedio para cada valor de subsample\n",
        "rmse_scores = []\n",
        "\n",
        "# Uso de validación cruzada para cada valor de subsample\n",
        "for subsample in subsample_range:\n",
        "    xg_reg = xgb.XGBRegressor(objective='reg:squarederror', subsample=subsample, n_estimators=275, learning_rate=0.125, colsample_bytree=0.70, min_child_weight=1, gamma=0, random_state=1, n_jobs=-1)\n",
        "    rmse_scores.append(np.sqrt(-cross_val_score(xg_reg, X_train, y_train, cv=10, scoring='neg_mean_squared_error')).mean())\n",
        "\n",
        "# Gráfica del desempeño del modelo vs subsample\n",
        "plt.plot(subsample_range, rmse_scores)\n",
        "plt.xlabel('Subsample')\n",
        "plt.ylabel('RMSE en Train')\n"
      ]
    },
    {
      "cell_type": "markdown",
      "source": [
        "subsample: se refiere a la proporción de muestras de entrenamiento que se utilizan para cada árbol. Un valor más bajo puede llevar a un modelo más simple, pero también puede aumentar el sobreajuste. En este caso se define en 0.9 porque a partir de allí se estabiliza el cambio en el RMSE."
      ],
      "metadata": {
        "id": "ITdFSF2OKYix"
      }
    },
    {
      "cell_type": "markdown",
      "source": [
        "## Entrenamiento del modelo Optimizado"
      ],
      "metadata": {
        "id": "rup0SvT-M8Iy"
      }
    },
    {
      "cell_type": "code",
      "execution_count": null,
      "metadata": {
        "id": "u0CuwDawo3at",
        "colab": {
          "base_uri": "https://localhost:8080/"
        },
        "outputId": "435816e1-57e7-4ff1-e56f-7ed1f2edfaa1"
      },
      "outputs": [
        {
          "output_type": "stream",
          "name": "stdout",
          "text": [
            "\n",
            "Resultados en conjunto de train:\n",
            "MSE: 8644697.534081625\n",
            "RMSE: 2940.1866495312206\n",
            "MAE: 1874.957099238026\n",
            "r2 score: 0.9253375981914238\n",
            "\n",
            "Resultados en conjunto de test:\n",
            "MSE: 11827235.908052085\n",
            "RMSE: 3439.0748622343312\n",
            "MAE: 2184.081409168452\n",
            "r2 score: 0.8970546808837867\n"
          ]
        }
      ],
      "source": [
        "import xgboost as xgb\n",
        "from sklearn.metrics import mean_squared_error, mean_absolute_error, r2_score, mean_squared_error\n",
        "\n",
        "# Esta es la mejor combinación\n",
        "xgb_reg_f = xgb.XGBRegressor(colsample_bytree=0.8,\n",
        "                             gamma=0,\n",
        "                             seed=42,\n",
        "                             learning_rate=0.16,\n",
        "                             max_depth=10,\n",
        "                             min_child_weight=2,\n",
        "                             n_estimators=300,\n",
        "                             subsample=1,\n",
        "                             n_jobs=1)\n",
        "\n",
        "\n",
        "# Entrenar el modelo\n",
        "xgb_reg_f.fit(X_train, y_train)\n",
        "\n",
        "# Realizar predicciones con los datos de entrenamiento y testeo\n",
        "y_pred_train_xgb_f = xgb_reg_f.predict(X_train)\n",
        "y_pred_test_xgb_f = xgb_reg_f.predict(X_test)\n",
        "\n",
        "# Calcular el MSE, RMSE, MAE y r2 para el set de entrenamiento\n",
        "mse_train_xgb_f = mean_squared_error(y_train, y_pred_train_xgb_f)\n",
        "rmse_train_xgb_f = np.sqrt(mse_train_xgb_f)\n",
        "mae_train_xgb_f = mean_absolute_error(y_train, y_pred_train_xgb_f)\n",
        "r2_train_xgb_f = r2_score(y_train, y_pred_train_xgb_f)\n",
        "\n",
        "# Calcular el MSE, RMSE, MAE y r2 para el set de prueba\n",
        "mse_test_xgb_f = mean_squared_error(y_test, y_pred_test_xgb_f)\n",
        "rmse_test_xgb_f = np.sqrt(mse_test_xgb_f)\n",
        "mae_test_xgb_f = mean_absolute_error(y_test, y_pred_test_xgb_f)\n",
        "r2_test_xgb_f = r2_score(y_test, y_pred_test_xgb_f)\n",
        "\n",
        "# Imprimir los resultados\n",
        "print('\\nResultados en conjunto de train:')\n",
        "print(\"MSE:\", mse_train_xgb_f)\n",
        "print(\"RMSE:\", rmse_train_xgb_f)\n",
        "print(\"MAE:\", mae_train_xgb_f)\n",
        "print(\"r2 score:\", r2_train_xgb_f)\n",
        "\n",
        "print('\\nResultados en conjunto de test:')\n",
        "print(\"MSE:\", mse_test_xgb_f)\n",
        "print(\"RMSE:\", rmse_test_xgb_f)\n",
        "print(\"MAE:\", mae_test_xgb_f)\n",
        "print(\"r2 score:\", r2_test_xgb_f)"
      ]
    },
    {
      "cell_type": "markdown",
      "source": [
        "Como se evidencia, el hecho de optimizar los hiperparámetros permite mejorar el rendimiento del modelo como se evidencia en esta tabla resumen:\n",
        "\n",
        "Modelo                              | MSE      | RMSE     | MAE    |R2_score|\n",
        "------------------------------------|----------|----------|--------|--------|\n",
        " Random Forest Sin optimizar        |14029755  | 3745.63  |2356.96 |0.8766  |\n",
        " XGBoost -  Sin optimizar           |13351433  | 3653.96  |2413.25 |0.8837  |\n",
        " XGBoost -  Optimizado              |11827235  | 3439.07  |2184.08 |0.8970  |"
      ],
      "metadata": {
        "id": "Z0-DqUnlNKWi"
      }
    },
    {
      "cell_type": "markdown",
      "source": [
        "Por esta razón se escoge el modelo XGBoost con los hiperparámetros optimizados para modelar el problema. Acontinuación se grafican nuevamente la importancia de las variables para este modelo:"
      ],
      "metadata": {
        "id": "96o_fvcjR6t-"
      }
    },
    {
      "cell_type": "code",
      "source": [
        "# Obtener la importancia de las variables\n",
        "importances = xgb_reg_f.feature_importances_\n",
        "\n",
        "# Ordenar las importancias de mayor a menor\n",
        "sorted_idx = importances.argsort()[::-1]\n",
        "\n",
        "# Obtener el nombre de las variables\n",
        "feature_names = X_train.columns\n",
        "\n",
        "# Mostrar las importancias de las variables en un gráfico de barras naranja\n",
        "plt.figure(figsize=(10, 5))\n",
        "plt.title(\"Importancia de las variables\")\n",
        "plt.bar(range(X_train.shape[1]), importances[sorted_idx], color='orange')\n",
        "plt.xticks(range(X_train.shape[1]), feature_names[sorted_idx], rotation=90)\n",
        "plt.show()"
      ],
      "metadata": {
        "colab": {
          "base_uri": "https://localhost:8080/",
          "height": 527
        },
        "id": "jdkYhfOLEOzH",
        "outputId": "17a8ce3b-3f15-4d4c-c6c2-9c56eba7d3ec"
      },
      "execution_count": null,
      "outputs": [
        {
          "output_type": "display_data",
          "data": {
            "text/plain": [
              "<Figure size 1000x500 with 1 Axes>"
            ],
            "image/png": "[encoded data removed]"
          },
          "metadata": {}
        }
      ]
    },
    {
      "cell_type": "markdown",
      "source": [
        "\n",
        "## Re-entrenamiento del modelo con todos los datos\n",
        "\n",
        "Para ser subidos a la competencia de Kaggle"
      ],
      "metadata": {
        "id": "cW2A2rkLN9yx"
      }
    },
    {
      "cell_type": "code",
      "source": [
        "# Esta es la mejor combinación\n",
        "xgb_reg_f = xgb.XGBRegressor(colsample_bytree=0.8,\n",
        "                             gamma=0,\n",
        "                             seed=42,\n",
        "                             learning_rate=0.16,\n",
        "                             max_depth=10,\n",
        "                             min_child_weight=2,\n",
        "                             n_estimators=300,\n",
        "                             subsample=1,\n",
        "                             n_jobs=1)\n",
        "\n",
        "\n",
        "# Entrenar el modelo\n",
        "xgb_reg_f.fit(X, y)\n",
        "\n",
        "# Realizar predicciones con los datos de entrenamiento\n",
        "y_pred_train_xgb_f = xgb_reg_f.predict(X)\n",
        "\n",
        "\n",
        "# Calcular el MSE, RMSE, MAE y r2 para el set de entrenamiento\n",
        "mse_train_xgb_f = mean_squared_error(y, y_pred_train_xgb_f)\n",
        "rmse_train_xgb_f = np.sqrt(mse_train_xgb_f)\n",
        "mae_train_xgb_f = mean_absolute_error(y, y_pred_train_xgb_f)\n",
        "r2_train_xgb_f = r2_score(y, y_pred_train_xgb_f)\n",
        "\n",
        "# Imprimir los resultados\n",
        "print('\\nResultados en conjunto de train:')\n",
        "print(\"MSE:\", mse_train_xgb_f)\n",
        "print(\"RMSE:\", rmse_train_xgb_f)\n",
        "print(\"MAE:\", mae_train_xgb_f)\n",
        "print(\"r2 score:\", r2_train_xgb_f)"
      ],
      "metadata": {
        "colab": {
          "base_uri": "https://localhost:8080/"
        },
        "id": "fufCxBwqONR-",
        "outputId": "16092c04-4425-46b6-8609-47dc172589a4"
      },
      "execution_count": null,
      "outputs": [
        {
          "output_type": "stream",
          "name": "stdout",
          "text": [
            "\n",
            "Resultados en conjunto de train:\n",
            "MSE: 8979381.066741789\n",
            "RMSE: 2996.5615406231504\n",
            "MAE: 1910.2298269908197\n",
            "r2 score: 0.9223265424221095\n"
          ]
        }
      ]
    },
    {
      "cell_type": "markdown",
      "metadata": {
        "id": "h8DpaTfDGWM0"
      },
      "source": [
        "## Arreglando el set de datos para la competencia"
      ]
    },
    {
      "cell_type": "code",
      "execution_count": null,
      "metadata": {
        "colab": {
          "base_uri": "https://localhost:8080/"
        },
        "id": "jgDArFVDGPQP",
        "outputId": "9fe9637c-a8c6-48d2-eeed-ca0f649f2838"
      },
      "outputs": [
        {
          "output_type": "execute_result",
          "data": {
            "text/plain": [
              "array([21223.596, 36735.914, 23608.584, ..., 24322.777, 17007.18 ,\n",
              "       20647.756], dtype=float32)"
            ]
          },
          "metadata": {},
          "execution_count": 73
        }
      ],
      "source": [
        "y_pred_test_xgb_f = xgb_reg_f.predict(dataTesting_copy)\n",
        "y_pred_test_xgb_f"
      ]
    },
    {
      "cell_type": "code",
      "execution_count": null,
      "metadata": {
        "colab": {
          "base_uri": "https://localhost:8080/",
          "height": 455
        },
        "id": "-974feTCJb4a",
        "outputId": "dcb9d34c-1dcc-4fbe-d719-837ca0988af0"
      },
      "outputs": [
        {
          "output_type": "execute_result",
          "data": {
            "text/plain": [
              "              Price\n",
              "ID                 \n",
              "0      21223.595703\n",
              "1      36735.914062\n",
              "2      23608.583984\n",
              "3       7176.071289\n",
              "4      30843.378906\n",
              "...             ...\n",
              "99995  24336.476562\n",
              "99996  37977.535156\n",
              "99997  24322.777344\n",
              "99998  17007.179688\n",
              "99999  20647.755859\n",
              "\n",
              "[100000 rows x 1 columns]"
            ],
            "text/html": [
              "\n",
              "  <div id=\"df-015fb689-9d02-4b8e-9c53-ef0719e9daac\">\n",
              "    <div class=\"colab-df-container\">\n",
              "      <div>\n",
              "<style scoped>\n",
              "    .dataframe tbody tr th:only-of-type {\n",
              "        vertical-align: middle;\n",
              "    }\n",
              "\n",
              "    .dataframe tbody tr th {\n",
              "        vertical-align: top;\n",
              "    }\n",
              "\n",
              "    .dataframe thead th {\n",
              "        text-align: right;\n",
              "    }\n",
              "</style>\n",
              "<table border=\"1\" class=\"dataframe\">\n",
              "  <thead>\n",
              "    <tr style=\"text-align: right;\">\n",
              "      <th></th>\n",
              "      <th>Price</th>\n",
              "    </tr>\n",
              "    <tr>\n",
              "      <th>ID</th>\n",
              "      <th></th>\n",
              "    </tr>\n",
              "  </thead>\n",
              "  <tbody>\n",
              "    <tr>\n",
              "      <th>0</th>\n",
              "      <td>21223.595703</td>\n",
              "    </tr>\n",
              "    <tr>\n",
              "      <th>1</th>\n",
              "      <td>36735.914062</td>\n",
              "    </tr>\n",
              "    <tr>\n",
              "      <th>2</th>\n",
              "      <td>23608.583984</td>\n",
              "    </tr>\n",
              "    <tr>\n",
              "      <th>3</th>\n",
              "      <td>7176.071289</td>\n",
              "    </tr>\n",
              "    <tr>\n",
              "      <th>4</th>\n",
              "      <td>30843.378906</td>\n",
              "    </tr>\n",
              "    <tr>\n",
              "      <th>...</th>\n",
              "      <td>...</td>\n",
              "    </tr>\n",
              "    <tr>\n",
              "      <th>99995</th>\n",
              "      <td>24336.476562</td>\n",
              "    </tr>\n",
              "    <tr>\n",
              "      <th>99996</th>\n",
              "      <td>37977.535156</td>\n",
              "    </tr>\n",
              "    <tr>\n",
              "      <th>99997</th>\n",
              "      <td>24322.777344</td>\n",
              "    </tr>\n",
              "    <tr>\n",
              "      <th>99998</th>\n",
              "      <td>17007.179688</td>\n",
              "    </tr>\n",
              "    <tr>\n",
              "      <th>99999</th>\n",
              "      <td>20647.755859</td>\n",
              "    </tr>\n",
              "  </tbody>\n",
              "</table>\n",
              "<p>100000 rows × 1 columns</p>\n",
              "</div>\n",
              "      <button class=\"colab-df-convert\" onclick=\"convertToInteractive('df-015fb689-9d02-4b8e-9c53-ef0719e9daac')\"\n",
              "              title=\"Convert this dataframe to an interactive table.\"\n",
              "              style=\"display:none;\">\n",
              "        \n",
              "  <svg xmlns=\"http://www.w3.org/2000/svg\" height=\"24px\"viewBox=\"0 0 24 24\"\n",
              "       width=\"24px\">\n",
              "    <path d=\"M0 0h24v24H0V0z\" fill=\"none\"/>\n",
              "    <path d=\"M18.56 5.44l.94 2.06.94-2.06 2.06-.94-2.06-.94-.94-2.06-.94 2.06-2.06.94zm-11 1L8.5 8.5l.94-2.06 2.06-.94-2.06-.94L8.5 2.5l-.94 2.06-2.06.94zm10 10l.94 2.06.94-2.06 2.06-.94-2.06-.94-.94-2.06-.94 2.06-2.06.94z\"/><path d=\"M17.41 7.96l-1.37-1.37c-.4-.4-.92-.59-1.43-.59-.52 0-1.04.2-1.43.59L10.3 9.45l-7.72 7.72c-.78.78-.78 2.05 0 2.83L4 21.41c.39.39.9.59 1.41.59.51 0 1.02-.2 1.41-.59l7.78-7.78 2.81-2.81c.8-.78.8-2.07 0-2.86zM5.41 20L4 18.59l7.72-7.72 1.47 1.35L5.41 20z\"/>\n",
              "  </svg>\n",
              "      </button>\n",
              "      \n",
              "  <style>\n",
              "    .colab-df-container {\n",
              "      display:flex;\n",
              "      flex-wrap:wrap;\n",
              "      gap: 12px;\n",
              "    }\n",
              "\n",
              "    .colab-df-convert {\n",
              "      background-color: #E8F0FE;\n",
              "      border: none;\n",
              "      border-radius: 50%;\n",
              "      cursor: pointer;\n",
              "      display: none;\n",
              "      fill: #1967D2;\n",
              "      height: 32px;\n",
              "      padding: 0 0 0 0;\n",
              "      width: 32px;\n",
              "    }\n",
              "\n",
              "    .colab-df-convert:hover {\n",
              "      background-color: #E2EBFA;\n",
              "      box-shadow: 0px 1px 2px rgba(60, 64, 67, 0.3), 0px 1px 3px 1px rgba(60, 64, 67, 0.15);\n",
              "      fill: #174EA6;\n",
              "    }\n",
              "\n",
              "    [theme=dark] .colab-df-convert {\n",
              "      background-color: #3B4455;\n",
              "      fill: #D2E3FC;\n",
              "    }\n",
              "\n",
              "    [theme=dark] .colab-df-convert:hover {\n",
              "      background-color: #434B5C;\n",
              "      box-shadow: 0px 1px 3px 1px rgba(0, 0, 0, 0.15);\n",
              "      filter: drop-shadow(0px 1px 2px rgba(0, 0, 0, 0.3));\n",
              "      fill: #FFFFFF;\n",
              "    }\n",
              "  </style>\n",
              "\n",
              "      <script>\n",
              "        const buttonEl =\n",
              "          document.querySelector('#df-015fb689-9d02-4b8e-9c53-ef0719e9daac button.colab-df-convert');\n",
              "        buttonEl.style.display =\n",
              "          google.colab.kernel.accessAllowed ? 'block' : 'none';\n",
              "\n",
              "        async function convertToInteractive(key) {\n",
              "          const element = document.querySelector('#df-015fb689-9d02-4b8e-9c53-ef0719e9daac');\n",
              "          const dataTable =\n",
              "            await google.colab.kernel.invokeFunction('convertToInteractive',\n",
              "                                                     [key], {});\n",
              "          if (!dataTable) return;\n",
              "\n",
              "          const docLinkHtml = 'Like what you see? Visit the ' +\n",
              "            '<a target=\"_blank\" href=https://colab.research.google.com/notebooks/data_table.ipynb>data table notebook</a>'\n",
              "            + ' to learn more about interactive tables.';\n",
              "          element.innerHTML = '';\n",
              "          dataTable['output_type'] = 'display_data';\n",
              "          await google.colab.output.renderOutput(dataTable, element);\n",
              "          const docLink = document.createElement('div');\n",
              "          docLink.innerHTML = docLinkHtml;\n",
              "          element.appendChild(docLink);\n",
              "        }\n",
              "      </script>\n",
              "    </div>\n",
              "  </div>\n",
              "  "
            ]
          },
          "metadata": {},
          "execution_count": 74
        }
      ],
      "source": [
        "df_prueba = pd.DataFrame(y_pred_test_xgb_f)\n",
        "df_prueba.reset_index(inplace=True)\n",
        "df_prueba['ID']=df_prueba['index']\n",
        "df_prueba = df_prueba.drop(['index'], axis=1)\n",
        "df_prueba = df_prueba.rename(columns={ 0:'Price'})\n",
        "df_prueba = df_prueba.set_index('ID', drop=True)\n",
        "df_prueba"
      ]
    },
    {
      "cell_type": "code",
      "execution_count": null,
      "metadata": {
        "colab": {
          "base_uri": "https://localhost:8080/"
        },
        "id": "5HyiIZHvKjSV",
        "outputId": "54f6ffce-b3ea-4248-97fb-cfd442f3b709"
      },
      "outputs": [
        {
          "output_type": "stream",
          "name": "stdout",
          "text": [
            "Mounted at /content/drive/\n",
            "/content/drive/My Drive/MIAD_ML_&_PNL/3 Semana\n",
            "'Copia de S3P1_proyecto1.ipynb'   test_submission_2.csv\n",
            " S3P1_proyecto1_Entrega.ipynb\t  test_submission_3.csv\n",
            " S3P1_proyecto1.ipynb\t\t  test_submission_4_xgb_f.csv\n",
            " test_submission_1.csv\t\t  test_submission.csv\n"
          ]
        }
      ],
      "source": [
        "# Conexión a Google Colab\n",
        "from google.colab import drive\n",
        "drive.mount('/content/drive/')\n",
        "# Se le define la ruta de los archivos en el Drive\n",
        "%cd '/content/drive/My Drive/MIAD_ML_&_PNL/3 Semana/'\n",
        "# Se listan los archivos en Drive\n",
        "!ls"
      ]
    },
    {
      "cell_type": "code",
      "execution_count": null,
      "metadata": {
        "id": "YwUmaE95KN00"
      },
      "outputs": [],
      "source": [
        "#y_pred.to_csv('test_submission.csv', index_label='ID')\n",
        "df_prueba.to_csv('test_submission_5prueba_xgb_f.csv', index_label='ID', sep=',', decimal='.')"
      ]
    }
  ],
  "metadata": {
    "colab": {
      "collapsed_sections": [
        "bDHr4ikDOzkT",
        "_ZXP79uVPbkq",
        "hVPRrc__NJm9",
        "t7LRrFhQQp4L",
        "tFS-sXqpRSR1",
        "TmBtTKN3Tqz0",
        "-Do5XMg_NZIP",
        "bx15Lhxlj_1b",
        "h8DpaTfDGWM0"
      ],
      "provenance": []
    },
    "kernelspec": {
      "display_name": "Python 3 (ipykernel)",
      "language": "python",
      "name": "python3"
    },
    "language_info": {
      "codemirror_mode": {
        "name": "ipython",
        "version": 3
      },
      "file_extension": ".py",
      "mimetype": "text/x-python",
      "name": "python",
      "nbconvert_exporter": "python",
      "pygments_lexer": "ipython3",
      "version": "3.9.12"
    }
  },
  "nbformat": 4,
  "nbformat_minor": 0
}