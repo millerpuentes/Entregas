{
  "cells": [
    {
      "attachments": {},
      "cell_type": "markdown",
      "metadata": {
        "id": "TfU6Q6kqbu9F"
      },
      "source": [
        "![image info](https://raw.githubusercontent.com/albahnsen/MIAD_ML_and_NLP/main/images/banner_1.png)"
      ]
    },
    {
      "attachments": {},
      "cell_type": "markdown",
      "metadata": {
        "id": "V7wJyFJMbu9K"
      },
      "source": [
        "# Proyecto 2 - Clasificación de género de películas\n",
        "\n",
        "El propósito de este proyecto es que puedan poner en práctica, en sus respectivos grupos de trabajo, sus conocimientos sobre técnicas de preprocesamiento, modelos predictivos de NLP, y la disponibilización de modelos. Para su desarrollo tengan en cuenta las instrucciones dadas en la \"Guía del proyecto 2: Clasificación de género de películas\"\n",
        "\n",
        "**Entrega**: La entrega del proyecto deberán realizarla durante la semana 8. Sin embargo, es importante que avancen en la semana 7 en el modelado del problema y en parte del informe, tal y como se les indicó en la guía.\n",
        "\n",
        "Para hacer la entrega, deberán adjuntar el informe autocontenido en PDF a la actividad de entrega del proyecto que encontrarán en la semana 8, y subir el archivo de predicciones a la [competencia de Kaggle](https://www.kaggle.com/t/2c54d005f76747fe83f77fbf8b3ec232)."
      ]
    },
    {
      "attachments": {},
      "cell_type": "markdown",
      "metadata": {
        "id": "RZ0Dtxukbu9M"
      },
      "source": [
        "## Datos para la predicción de género en películas"
      ]
    },
    {
      "attachments": {},
      "cell_type": "markdown",
      "metadata": {
        "id": "lwYAT5iJbu9N"
      },
      "source": [
        "![image info](https://raw.githubusercontent.com/albahnsen/MIAD_ML_and_NLP/main/images/moviegenre.png)"
      ]
    },
    {
      "attachments": {},
      "cell_type": "markdown",
      "metadata": {
        "id": "wmaB5Zubbu9N"
      },
      "source": [
        "En este proyecto se usará un conjunto de datos de géneros de películas. Cada observación contiene el título de una película, su año de lanzamiento, la sinopsis o plot de la película (resumen de la trama) y los géneros a los que pertenece (una película puede pertenercer a más de un género). Por ejemplo:\n",
        "- Título: 'How to Be a Serial Killer'\n",
        "- Plot: 'A serial killer decides to teach the secrets of his satisfying career to a video store clerk.'\n",
        "- Generos: 'Comedy', 'Crime', 'Horror'\n",
        "\n",
        "La idea es que usen estos datos para predecir la probabilidad de que una película pertenezca, dada la sinopsis, a cada uno de los géneros."
      ]
    },
    {
      "attachments": {},
      "cell_type": "markdown",
      "metadata": {
        "id": "QfhA9ve6bu9O"
      },
      "source": [
        "Agradecemos al profesor Fabio González, Ph.D. y a su alumno John Arevalo por proporcionar este conjunto de datos. Ver https://arxiv.org/abs/1702.01992"
      ]
    },
    {
      "attachments": {},
      "cell_type": "markdown",
      "metadata": {
        "id": "E7Tfz6fzbu9O"
      },
      "source": [
        "## Ejemplo predicción conjunto de test para envío a Kaggle\n",
        "En esta sección encontrarán el formato en el que deben guardar los resultados de la predicción para que puedan subirlos a la competencia en Kaggle."
      ]
    },
    {
      "cell_type": "code",
      "execution_count": 116,
      "metadata": {
        "id": "mB6rSNvTbu9P"
      },
      "outputs": [],
      "source": [
        "import warnings\n",
        "warnings.filterwarnings('ignore')"
      ]
    },
    {
      "cell_type": "code",
      "execution_count": 117,
      "metadata": {
        "id": "T89Vwh6Ubu9R"
      },
      "outputs": [],
      "source": [
        "# Importación librerías\n",
        "import pandas as pd\n",
        "import os\n",
        "import numpy as np\n",
        "from sklearn.feature_extraction.text import CountVectorizer\n",
        "from sklearn.preprocessing import MultiLabelBinarizer\n",
        "from sklearn.multiclass import OneVsRestClassifier\n",
        "from sklearn.ensemble import RandomForestRegressor, RandomForestClassifier\n",
        "from sklearn.metrics import r2_score, roc_auc_score\n",
        "from sklearn.model_selection import train_test_split"
      ]
    },
    {
      "cell_type": "code",
      "execution_count": 118,
      "metadata": {
        "id": "xCKY1AuRbu9T"
      },
      "outputs": [],
      "source": [
        "# Carga de datos de archivo .csv\n",
        "dataTraining = pd.read_csv('https://github.com/albahnsen/MIAD_ML_and_NLP/raw/main/datasets/dataTraining.zip', encoding='UTF-8', index_col=0)\n",
        "dataTesting = pd.read_csv('https://github.com/albahnsen/MIAD_ML_and_NLP/raw/main/datasets/dataTesting.zip', encoding='UTF-8', index_col=0)"
      ]
    },
    {
      "cell_type": "code",
      "execution_count": 119,
      "metadata": {},
      "outputs": [
        {
          "name": "stdout",
          "output_type": "stream",
          "text": [
            "(7895, 5)\n",
            "(3383, 3)\n"
          ]
        }
      ],
      "source": [
        "# Se revisan las dimensiones de los df\n",
        "print(dataTraining.shape)\n",
        "print(dataTesting.shape)"
      ]
    },
    {
      "cell_type": "code",
      "execution_count": 120,
      "metadata": {},
      "outputs": [
        {
          "data": {
            "text/plain": [
              "(7894, 5)"
            ]
          },
          "execution_count": 120,
          "metadata": {},
          "output_type": "execute_result"
        }
      ],
      "source": [
        "# Se eliminan los registros repetidos\n",
        "dataTraining = dataTraining.drop_duplicates()\n",
        "dataTraining.shape"
      ]
    },
    {
      "cell_type": "code",
      "execution_count": 121,
      "metadata": {
        "colab": {
          "base_uri": "https://localhost:8080/",
          "height": 206
        },
        "id": "BJ0_pNiYbu9U",
        "outputId": "29cbd0e7-4329-4ddb-9462-75220e3b777b"
      },
      "outputs": [
        {
          "data": {
            "text/html": [
              "<div>\n",
              "<style scoped>\n",
              "    .dataframe tbody tr th:only-of-type {\n",
              "        vertical-align: middle;\n",
              "    }\n",
              "\n",
              "    .dataframe tbody tr th {\n",
              "        vertical-align: top;\n",
              "    }\n",
              "\n",
              "    .dataframe thead th {\n",
              "        text-align: right;\n",
              "    }\n",
              "</style>\n",
              "<table border=\"1\" class=\"dataframe\">\n",
              "  <thead>\n",
              "    <tr style=\"text-align: right;\">\n",
              "      <th></th>\n",
              "      <th>year</th>\n",
              "      <th>title</th>\n",
              "      <th>plot</th>\n",
              "      <th>genres</th>\n",
              "      <th>rating</th>\n",
              "    </tr>\n",
              "  </thead>\n",
              "  <tbody>\n",
              "    <tr>\n",
              "      <th>3107</th>\n",
              "      <td>2003</td>\n",
              "      <td>Most</td>\n",
              "      <td>most is the story of a single father who takes...</td>\n",
              "      <td>['Short', 'Drama']</td>\n",
              "      <td>8.0</td>\n",
              "    </tr>\n",
              "    <tr>\n",
              "      <th>900</th>\n",
              "      <td>2008</td>\n",
              "      <td>How to Be a Serial Killer</td>\n",
              "      <td>a serial killer decides to teach the secrets o...</td>\n",
              "      <td>['Comedy', 'Crime', 'Horror']</td>\n",
              "      <td>5.6</td>\n",
              "    </tr>\n",
              "    <tr>\n",
              "      <th>6724</th>\n",
              "      <td>1941</td>\n",
              "      <td>A Woman's Face</td>\n",
              "      <td>in sweden ,  a female blackmailer with a disfi...</td>\n",
              "      <td>['Drama', 'Film-Noir', 'Thriller']</td>\n",
              "      <td>7.2</td>\n",
              "    </tr>\n",
              "    <tr>\n",
              "      <th>4704</th>\n",
              "      <td>1954</td>\n",
              "      <td>Executive Suite</td>\n",
              "      <td>in a friday afternoon in new york ,  the presi...</td>\n",
              "      <td>['Drama']</td>\n",
              "      <td>7.4</td>\n",
              "    </tr>\n",
              "    <tr>\n",
              "      <th>2582</th>\n",
              "      <td>1990</td>\n",
              "      <td>Narrow Margin</td>\n",
              "      <td>in los angeles ,  the editor of a publishing h...</td>\n",
              "      <td>['Action', 'Crime', 'Thriller']</td>\n",
              "      <td>6.6</td>\n",
              "    </tr>\n",
              "  </tbody>\n",
              "</table>\n",
              "</div>"
            ],
            "text/plain": [
              "      year                      title  \\\n",
              "3107  2003                       Most   \n",
              "900   2008  How to Be a Serial Killer   \n",
              "6724  1941             A Woman's Face   \n",
              "4704  1954            Executive Suite   \n",
              "2582  1990              Narrow Margin   \n",
              "\n",
              "                                                   plot  \\\n",
              "3107  most is the story of a single father who takes...   \n",
              "900   a serial killer decides to teach the secrets o...   \n",
              "6724  in sweden ,  a female blackmailer with a disfi...   \n",
              "4704  in a friday afternoon in new york ,  the presi...   \n",
              "2582  in los angeles ,  the editor of a publishing h...   \n",
              "\n",
              "                                  genres  rating  \n",
              "3107                  ['Short', 'Drama']     8.0  \n",
              "900        ['Comedy', 'Crime', 'Horror']     5.6  \n",
              "6724  ['Drama', 'Film-Noir', 'Thriller']     7.2  \n",
              "4704                           ['Drama']     7.4  \n",
              "2582     ['Action', 'Crime', 'Thriller']     6.6  "
            ]
          },
          "execution_count": 121,
          "metadata": {},
          "output_type": "execute_result"
        }
      ],
      "source": [
        "# Visualización datos de entrenamiento\n",
        "dataTraining.head()"
      ]
    },
    {
      "cell_type": "code",
      "execution_count": 122,
      "metadata": {},
      "outputs": [
        {
          "data": {
            "text/plain": [
              "year                                                   1990\n",
              "title                                         Narrow Margin\n",
              "plot      in los angeles ,  the editor of a publishing h...\n",
              "genres                      ['Action', 'Crime', 'Thriller']\n",
              "rating                                                  6.6\n",
              "Name: 2582, dtype: object"
            ]
          },
          "execution_count": 122,
          "metadata": {},
          "output_type": "execute_result"
        }
      ],
      "source": [
        "dataTraining.loc[2582]"
      ]
    },
    {
      "cell_type": "code",
      "execution_count": 124,
      "metadata": {
        "colab": {
          "base_uri": "https://localhost:8080/",
          "height": 206
        },
        "id": "dLaNFeVmbu9V",
        "outputId": "3c4b267d-7ad6-4bb7-a7fc-4578d946e374"
      },
      "outputs": [
        {
          "data": {
            "text/html": [
              "<div>\n",
              "<style scoped>\n",
              "    .dataframe tbody tr th:only-of-type {\n",
              "        vertical-align: middle;\n",
              "    }\n",
              "\n",
              "    .dataframe tbody tr th {\n",
              "        vertical-align: top;\n",
              "    }\n",
              "\n",
              "    .dataframe thead th {\n",
              "        text-align: right;\n",
              "    }\n",
              "</style>\n",
              "<table border=\"1\" class=\"dataframe\">\n",
              "  <thead>\n",
              "    <tr style=\"text-align: right;\">\n",
              "      <th></th>\n",
              "      <th>year</th>\n",
              "      <th>title</th>\n",
              "      <th>plot</th>\n",
              "    </tr>\n",
              "  </thead>\n",
              "  <tbody>\n",
              "    <tr>\n",
              "      <th>1</th>\n",
              "      <td>1999</td>\n",
              "      <td>Message in a Bottle</td>\n",
              "      <td>who meets by fate ,  shall be sealed by fate ....</td>\n",
              "    </tr>\n",
              "    <tr>\n",
              "      <th>4</th>\n",
              "      <td>1978</td>\n",
              "      <td>Midnight Express</td>\n",
              "      <td>the true story of billy hayes ,  an american c...</td>\n",
              "    </tr>\n",
              "    <tr>\n",
              "      <th>5</th>\n",
              "      <td>1996</td>\n",
              "      <td>Primal Fear</td>\n",
              "      <td>martin vail left the chicago da ' s office to ...</td>\n",
              "    </tr>\n",
              "    <tr>\n",
              "      <th>6</th>\n",
              "      <td>1950</td>\n",
              "      <td>Crisis</td>\n",
              "      <td>husband and wife americans dr .  eugene and mr...</td>\n",
              "    </tr>\n",
              "    <tr>\n",
              "      <th>7</th>\n",
              "      <td>1959</td>\n",
              "      <td>The Tingler</td>\n",
              "      <td>the coroner and scientist dr .  warren chapin ...</td>\n",
              "    </tr>\n",
              "    <tr>\n",
              "      <th>9</th>\n",
              "      <td>1961</td>\n",
              "      <td>Barabbas</td>\n",
              "      <td>epic account of the thief barabbas ,  who was ...</td>\n",
              "    </tr>\n",
              "    <tr>\n",
              "      <th>11</th>\n",
              "      <td>2005</td>\n",
              "      <td>Rize</td>\n",
              "      <td>reveals a groundbreaking dance phenomenon that...</td>\n",
              "    </tr>\n",
              "    <tr>\n",
              "      <th>13</th>\n",
              "      <td>2000</td>\n",
              "      <td>The Yards</td>\n",
              "      <td>in the rail yards of queens ,  contractors rep...</td>\n",
              "    </tr>\n",
              "    <tr>\n",
              "      <th>16</th>\n",
              "      <td>1992</td>\n",
              "      <td>Used People</td>\n",
              "      <td>at her husband ' s funeral ,  pearl  ( shirley...</td>\n",
              "    </tr>\n",
              "    <tr>\n",
              "      <th>21</th>\n",
              "      <td>2004</td>\n",
              "      <td>My Baby's Daddy</td>\n",
              "      <td>lonnie ,  dominic and  ' g '  are three bachel...</td>\n",
              "    </tr>\n",
              "  </tbody>\n",
              "</table>\n",
              "</div>"
            ],
            "text/plain": [
              "    year                title  \\\n",
              "1   1999  Message in a Bottle   \n",
              "4   1978     Midnight Express   \n",
              "5   1996          Primal Fear   \n",
              "6   1950               Crisis   \n",
              "7   1959          The Tingler   \n",
              "9   1961             Barabbas   \n",
              "11  2005                 Rize   \n",
              "13  2000            The Yards   \n",
              "16  1992          Used People   \n",
              "21  2004      My Baby's Daddy   \n",
              "\n",
              "                                                 plot  \n",
              "1   who meets by fate ,  shall be sealed by fate ....  \n",
              "4   the true story of billy hayes ,  an american c...  \n",
              "5   martin vail left the chicago da ' s office to ...  \n",
              "6   husband and wife americans dr .  eugene and mr...  \n",
              "7   the coroner and scientist dr .  warren chapin ...  \n",
              "9   epic account of the thief barabbas ,  who was ...  \n",
              "11  reveals a groundbreaking dance phenomenon that...  \n",
              "13  in the rail yards of queens ,  contractors rep...  \n",
              "16  at her husband ' s funeral ,  pearl  ( shirley...  \n",
              "21  lonnie ,  dominic and  ' g '  are three bachel...  "
            ]
          },
          "execution_count": 124,
          "metadata": {},
          "output_type": "execute_result"
        }
      ],
      "source": [
        "# Visualización datos de test\n",
        "dataTesting.head(10)"
      ]
    },
    {
      "attachments": {},
      "cell_type": "markdown",
      "metadata": {},
      "source": [
        "Se inspecciona los textos para verificar si se debe realizar limpieza:"
      ]
    },
    {
      "cell_type": "code",
      "execution_count": 125,
      "metadata": {},
      "outputs": [
        {
          "data": {
            "text/plain": [
              "3107    most is the story of a single father who takes...\n",
              "900     a serial killer decides to teach the secrets o...\n",
              "6724    in sweden ,  a female blackmailer with a disfi...\n",
              "4704    in a friday afternoon in new york ,  the presi...\n",
              "2582    in los angeles ,  the editor of a publishing h...\n",
              "                              ...                        \n",
              "8417    \" our marriage ,  their wedding .  \"  it ' s l...\n",
              "1592    the wandering barbarian ,  conan ,  alongside ...\n",
              "1723    like a tale spun by scheherazade ,  kismet fol...\n",
              "7605    mrs .  brisby ,  a widowed mouse ,  lives in a...\n",
              "215     tinker bell journey far north of never land to...\n",
              "Name: plot, Length: 7894, dtype: object"
            ]
          },
          "execution_count": 125,
          "metadata": {},
          "output_type": "execute_result"
        }
      ],
      "source": [
        "dataTraining['plot']"
      ]
    },
    {
      "cell_type": "code",
      "execution_count": 126,
      "metadata": {},
      "outputs": [
        {
          "data": {
            "text/plain": [
              "\"major benson winifred payne is being discharged from the marines .  payne is a killin '  machine ,  but the wars of the world are no longer fought on the battlefield .  a career marine ,  he has no idea what to do as a civilian ,  so his commander finds him a job  -  commanding officer of a local school ' s jrotc program ,  a bunch or ragtag losers with no hope .  using such teaching tools as live grenades and real bullets ,  payne starts to instill the corp with some hope .  but when payne is recalled to fight in bosnia ,  will he leave the corp that has just started to believe in him ,  or will he find out that killin '  ain ' t much of a livin '  ?\""
            ]
          },
          "execution_count": 126,
          "metadata": {},
          "output_type": "execute_result"
        }
      ],
      "source": [
        "dataTraining['plot'][0]"
      ]
    },
    {
      "cell_type": "code",
      "execution_count": 127,
      "metadata": {},
      "outputs": [
        {
          "data": {
            "text/plain": [
              "'most is the story of a single father who takes his eight year - old son to work with him at the railroad drawbridge where he is the bridge tender .  a day before ,  the boy meets a woman boarding a train ,  a drug abuser .  at the bridge ,  the father goes into the engine room ,  and tells his son to stay at the edge of the nearby lake .  a ship comes ,  and the bridge is lifted .  though it is supposed to arrive an hour later ,  the train happens to arrive .  the son sees this ,  and tries to warn his father ,  who is not able to see this .  just as the oncoming train approaches ,  his son falls into the drawbridge gear works while attempting to lower the bridge ,  leaving the father with a horrific choice .  the father then lowers the bridge ,  the gears crushing the boy .  the people in the train are completely oblivious to the fact a boy died trying to save them ,  other than the drug addict woman ,  who happened to look out her train window .  the movie ends ,  with the man wandering a new city ,  and meets the woman ,  no longer a drug addict ,  holding a small baby .  other relevant narratives run in parallel ,  namely one of the female drug - addict ,  and they all meet at the climax of this tumultuous film .'"
            ]
          },
          "execution_count": 127,
          "metadata": {},
          "output_type": "execute_result"
        }
      ],
      "source": [
        "dataTraining['plot'][3107]"
      ]
    },
    {
      "cell_type": "code",
      "execution_count": 128,
      "metadata": {},
      "outputs": [
        {
          "data": {
            "text/plain": [
              "'\" our marriage ,  their wedding .  \"  it \\' s lesson number one for any newly engaged couple ,  and lucia and marcus are no exception .  in our family wedding ,  they learn the hard way that the path to saying  \" i do \"  can be rife with familial strife .  when they return from college and too suddenly announce their marriage plans ,  they soon discover that their fathers  -  two highly competitive over - the - top egos  -  can wreak a major amount of havoc on their special day .  with insults flying and tempers running high ,  it \\' s anyone \\' s guess if the alpha dads will survive to make it down the aisle in one piece .  lucia \\' s mother is busy planning the wedding of  \" her \"  dreams and the only levelheaded one in the bunch is angela ,  the groom \\' s father \\' s best friend and lawyer ,  who manages to keep her cool when the madness reaches a crescendo .  with only weeks to plan their wedding ,  lucia and marcus soon discover the true meaning of love and find there is truth to the saying  -  that when you marry someone ,  you marry their entire family .'"
            ]
          },
          "execution_count": 128,
          "metadata": {},
          "output_type": "execute_result"
        }
      ],
      "source": [
        "dataTraining['plot'][8417]"
      ]
    },
    {
      "attachments": {},
      "cell_type": "markdown",
      "metadata": {},
      "source": [
        "Se observan stopwords, signos de puntuación, comillas, signos de interrogación. Por esto se procede a eliminarlos para mejorar el performance del modelo"
      ]
    },
    {
      "cell_type": "code",
      "execution_count": 129,
      "metadata": {},
      "outputs": [],
      "source": [
        "import re\n",
        "\n",
        "def limpieza_texto(texto):\n",
        "    # removiendo caracteres especiales que pueda contener el texto\n",
        "    patron = r'[^a-zA-Z0-9\\s]'\n",
        "    texto = re.sub(patron, ' ', texto)\n",
        "    # eliminar espacios adicionales entre texto\n",
        "    texto = ' '.join(texto.split()) \n",
        "    # Convertir todo el texto en minúscula\n",
        "    texto = texto.lower()\n",
        "    # Se remueve backslash\n",
        "    texto = re.sub(\"\\'\", \"\", texto)\n",
        "\n",
        "    return texto\n"
      ]
    },
    {
      "cell_type": "code",
      "execution_count": 130,
      "metadata": {},
      "outputs": [],
      "source": [
        "# Aplicando la limpieza en el texto en los dos set\n",
        "dataTraining['plot_limpio'] = dataTraining['plot'].apply(lambda x: limpieza_texto(x))\n",
        "dataTesting['plot_limpio'] = dataTesting['plot'].apply(lambda x: limpieza_texto(x))"
      ]
    },
    {
      "cell_type": "code",
      "execution_count": 131,
      "metadata": {},
      "outputs": [
        {
          "data": {
            "text/html": [
              "<div>\n",
              "<style scoped>\n",
              "    .dataframe tbody tr th:only-of-type {\n",
              "        vertical-align: middle;\n",
              "    }\n",
              "\n",
              "    .dataframe tbody tr th {\n",
              "        vertical-align: top;\n",
              "    }\n",
              "\n",
              "    .dataframe thead th {\n",
              "        text-align: right;\n",
              "    }\n",
              "</style>\n",
              "<table border=\"1\" class=\"dataframe\">\n",
              "  <thead>\n",
              "    <tr style=\"text-align: right;\">\n",
              "      <th></th>\n",
              "      <th>year</th>\n",
              "      <th>title</th>\n",
              "      <th>plot</th>\n",
              "      <th>genres</th>\n",
              "      <th>rating</th>\n",
              "      <th>plot_limpio</th>\n",
              "    </tr>\n",
              "  </thead>\n",
              "  <tbody>\n",
              "    <tr>\n",
              "      <th>3107</th>\n",
              "      <td>2003</td>\n",
              "      <td>Most</td>\n",
              "      <td>most is the story of a single father who takes...</td>\n",
              "      <td>['Short', 'Drama']</td>\n",
              "      <td>8.0</td>\n",
              "      <td>most is the story of a single father who takes...</td>\n",
              "    </tr>\n",
              "    <tr>\n",
              "      <th>900</th>\n",
              "      <td>2008</td>\n",
              "      <td>How to Be a Serial Killer</td>\n",
              "      <td>a serial killer decides to teach the secrets o...</td>\n",
              "      <td>['Comedy', 'Crime', 'Horror']</td>\n",
              "      <td>5.6</td>\n",
              "      <td>a serial killer decides to teach the secrets o...</td>\n",
              "    </tr>\n",
              "    <tr>\n",
              "      <th>6724</th>\n",
              "      <td>1941</td>\n",
              "      <td>A Woman's Face</td>\n",
              "      <td>in sweden ,  a female blackmailer with a disfi...</td>\n",
              "      <td>['Drama', 'Film-Noir', 'Thriller']</td>\n",
              "      <td>7.2</td>\n",
              "      <td>in sweden a female blackmailer with a disfigur...</td>\n",
              "    </tr>\n",
              "    <tr>\n",
              "      <th>4704</th>\n",
              "      <td>1954</td>\n",
              "      <td>Executive Suite</td>\n",
              "      <td>in a friday afternoon in new york ,  the presi...</td>\n",
              "      <td>['Drama']</td>\n",
              "      <td>7.4</td>\n",
              "      <td>in a friday afternoon in new york the presiden...</td>\n",
              "    </tr>\n",
              "    <tr>\n",
              "      <th>2582</th>\n",
              "      <td>1990</td>\n",
              "      <td>Narrow Margin</td>\n",
              "      <td>in los angeles ,  the editor of a publishing h...</td>\n",
              "      <td>['Action', 'Crime', 'Thriller']</td>\n",
              "      <td>6.6</td>\n",
              "      <td>in los angeles the editor of a publishing hous...</td>\n",
              "    </tr>\n",
              "    <tr>\n",
              "      <th>...</th>\n",
              "      <td>...</td>\n",
              "      <td>...</td>\n",
              "      <td>...</td>\n",
              "      <td>...</td>\n",
              "      <td>...</td>\n",
              "      <td>...</td>\n",
              "    </tr>\n",
              "    <tr>\n",
              "      <th>8417</th>\n",
              "      <td>2010</td>\n",
              "      <td>Our Family Wedding</td>\n",
              "      <td>\" our marriage ,  their wedding .  \"  it ' s l...</td>\n",
              "      <td>['Comedy', 'Romance']</td>\n",
              "      <td>4.9</td>\n",
              "      <td>our marriage their wedding it s lesson number ...</td>\n",
              "    </tr>\n",
              "    <tr>\n",
              "      <th>1592</th>\n",
              "      <td>1984</td>\n",
              "      <td>Conan the Destroyer</td>\n",
              "      <td>the wandering barbarian ,  conan ,  alongside ...</td>\n",
              "      <td>['Action', 'Adventure', 'Fantasy']</td>\n",
              "      <td>5.8</td>\n",
              "      <td>the wandering barbarian conan alongside his go...</td>\n",
              "    </tr>\n",
              "    <tr>\n",
              "      <th>1723</th>\n",
              "      <td>1955</td>\n",
              "      <td>Kismet</td>\n",
              "      <td>like a tale spun by scheherazade ,  kismet fol...</td>\n",
              "      <td>['Adventure', 'Musical', 'Fantasy', 'Comedy', ...</td>\n",
              "      <td>6.4</td>\n",
              "      <td>like a tale spun by scheherazade kismet follow...</td>\n",
              "    </tr>\n",
              "    <tr>\n",
              "      <th>7605</th>\n",
              "      <td>1982</td>\n",
              "      <td>The Secret of NIMH</td>\n",
              "      <td>mrs .  brisby ,  a widowed mouse ,  lives in a...</td>\n",
              "      <td>['Animation', 'Adventure', 'Drama', 'Family', ...</td>\n",
              "      <td>7.6</td>\n",
              "      <td>mrs brisby a widowed mouse lives in a cinder b...</td>\n",
              "    </tr>\n",
              "    <tr>\n",
              "      <th>215</th>\n",
              "      <td>2009</td>\n",
              "      <td>Tinker Bell and the Lost Treasure</td>\n",
              "      <td>tinker bell journey far north of never land to...</td>\n",
              "      <td>['Animation', 'Adventure', 'Family', 'Fantasy']</td>\n",
              "      <td>6.8</td>\n",
              "      <td>tinker bell journey far north of never land to...</td>\n",
              "    </tr>\n",
              "  </tbody>\n",
              "</table>\n",
              "<p>7894 rows × 6 columns</p>\n",
              "</div>"
            ],
            "text/plain": [
              "      year                              title  \\\n",
              "3107  2003                               Most   \n",
              "900   2008          How to Be a Serial Killer   \n",
              "6724  1941                     A Woman's Face   \n",
              "4704  1954                    Executive Suite   \n",
              "2582  1990                      Narrow Margin   \n",
              "...    ...                                ...   \n",
              "8417  2010                 Our Family Wedding   \n",
              "1592  1984                Conan the Destroyer   \n",
              "1723  1955                             Kismet   \n",
              "7605  1982                 The Secret of NIMH   \n",
              "215   2009  Tinker Bell and the Lost Treasure   \n",
              "\n",
              "                                                   plot  \\\n",
              "3107  most is the story of a single father who takes...   \n",
              "900   a serial killer decides to teach the secrets o...   \n",
              "6724  in sweden ,  a female blackmailer with a disfi...   \n",
              "4704  in a friday afternoon in new york ,  the presi...   \n",
              "2582  in los angeles ,  the editor of a publishing h...   \n",
              "...                                                 ...   \n",
              "8417  \" our marriage ,  their wedding .  \"  it ' s l...   \n",
              "1592  the wandering barbarian ,  conan ,  alongside ...   \n",
              "1723  like a tale spun by scheherazade ,  kismet fol...   \n",
              "7605  mrs .  brisby ,  a widowed mouse ,  lives in a...   \n",
              "215   tinker bell journey far north of never land to...   \n",
              "\n",
              "                                                 genres  rating  \\\n",
              "3107                                 ['Short', 'Drama']     8.0   \n",
              "900                       ['Comedy', 'Crime', 'Horror']     5.6   \n",
              "6724                 ['Drama', 'Film-Noir', 'Thriller']     7.2   \n",
              "4704                                          ['Drama']     7.4   \n",
              "2582                    ['Action', 'Crime', 'Thriller']     6.6   \n",
              "...                                                 ...     ...   \n",
              "8417                              ['Comedy', 'Romance']     4.9   \n",
              "1592                 ['Action', 'Adventure', 'Fantasy']     5.8   \n",
              "1723  ['Adventure', 'Musical', 'Fantasy', 'Comedy', ...     6.4   \n",
              "7605  ['Animation', 'Adventure', 'Drama', 'Family', ...     7.6   \n",
              "215     ['Animation', 'Adventure', 'Family', 'Fantasy']     6.8   \n",
              "\n",
              "                                            plot_limpio  \n",
              "3107  most is the story of a single father who takes...  \n",
              "900   a serial killer decides to teach the secrets o...  \n",
              "6724  in sweden a female blackmailer with a disfigur...  \n",
              "4704  in a friday afternoon in new york the presiden...  \n",
              "2582  in los angeles the editor of a publishing hous...  \n",
              "...                                                 ...  \n",
              "8417  our marriage their wedding it s lesson number ...  \n",
              "1592  the wandering barbarian conan alongside his go...  \n",
              "1723  like a tale spun by scheherazade kismet follow...  \n",
              "7605  mrs brisby a widowed mouse lives in a cinder b...  \n",
              "215   tinker bell journey far north of never land to...  \n",
              "\n",
              "[7894 rows x 6 columns]"
            ]
          },
          "execution_count": 131,
          "metadata": {},
          "output_type": "execute_result"
        }
      ],
      "source": [
        "dataTraining"
      ]
    },
    {
      "cell_type": "code",
      "execution_count": 132,
      "metadata": {},
      "outputs": [
        {
          "data": {
            "text/html": [
              "<div>\n",
              "<style scoped>\n",
              "    .dataframe tbody tr th:only-of-type {\n",
              "        vertical-align: middle;\n",
              "    }\n",
              "\n",
              "    .dataframe tbody tr th {\n",
              "        vertical-align: top;\n",
              "    }\n",
              "\n",
              "    .dataframe thead th {\n",
              "        text-align: right;\n",
              "    }\n",
              "</style>\n",
              "<table border=\"1\" class=\"dataframe\">\n",
              "  <thead>\n",
              "    <tr style=\"text-align: right;\">\n",
              "      <th></th>\n",
              "      <th>year</th>\n",
              "      <th>title</th>\n",
              "      <th>plot</th>\n",
              "      <th>plot_limpio</th>\n",
              "    </tr>\n",
              "  </thead>\n",
              "  <tbody>\n",
              "    <tr>\n",
              "      <th>1</th>\n",
              "      <td>1999</td>\n",
              "      <td>Message in a Bottle</td>\n",
              "      <td>who meets by fate ,  shall be sealed by fate ....</td>\n",
              "      <td>who meets by fate shall be sealed by fate ther...</td>\n",
              "    </tr>\n",
              "    <tr>\n",
              "      <th>4</th>\n",
              "      <td>1978</td>\n",
              "      <td>Midnight Express</td>\n",
              "      <td>the true story of billy hayes ,  an american c...</td>\n",
              "      <td>the true story of billy hayes an american coll...</td>\n",
              "    </tr>\n",
              "    <tr>\n",
              "      <th>5</th>\n",
              "      <td>1996</td>\n",
              "      <td>Primal Fear</td>\n",
              "      <td>martin vail left the chicago da ' s office to ...</td>\n",
              "      <td>martin vail left the chicago da s office to be...</td>\n",
              "    </tr>\n",
              "    <tr>\n",
              "      <th>6</th>\n",
              "      <td>1950</td>\n",
              "      <td>Crisis</td>\n",
              "      <td>husband and wife americans dr .  eugene and mr...</td>\n",
              "      <td>husband and wife americans dr eugene and mrs h...</td>\n",
              "    </tr>\n",
              "    <tr>\n",
              "      <th>7</th>\n",
              "      <td>1959</td>\n",
              "      <td>The Tingler</td>\n",
              "      <td>the coroner and scientist dr .  warren chapin ...</td>\n",
              "      <td>the coroner and scientist dr warren chapin is ...</td>\n",
              "    </tr>\n",
              "    <tr>\n",
              "      <th>...</th>\n",
              "      <td>...</td>\n",
              "      <td>...</td>\n",
              "      <td>...</td>\n",
              "      <td>...</td>\n",
              "    </tr>\n",
              "    <tr>\n",
              "      <th>11263</th>\n",
              "      <td>2008</td>\n",
              "      <td>The Fifth Commandment</td>\n",
              "      <td>in bangkok ,  an assassin who turns down a job...</td>\n",
              "      <td>in bangkok an assassin who turns down a job th...</td>\n",
              "    </tr>\n",
              "    <tr>\n",
              "      <th>11265</th>\n",
              "      <td>2003</td>\n",
              "      <td>Coffee and Cigarettes</td>\n",
              "      <td>eleven separate vignettes are presented .  in ...</td>\n",
              "      <td>eleven separate vignettes are presented in eac...</td>\n",
              "    </tr>\n",
              "    <tr>\n",
              "      <th>11269</th>\n",
              "      <td>1957</td>\n",
              "      <td>Pal Joey</td>\n",
              "      <td>joey evans is charming ,  handsome ,  funny , ...</td>\n",
              "      <td>joey evans is charming handsome funny talented...</td>\n",
              "    </tr>\n",
              "    <tr>\n",
              "      <th>11270</th>\n",
              "      <td>2002</td>\n",
              "      <td>Jonah: A VeggieTales Movie</td>\n",
              "      <td>when the singing veggies encounter some car tr...</td>\n",
              "      <td>when the singing veggies encounter some car tr...</td>\n",
              "    </tr>\n",
              "    <tr>\n",
              "      <th>11275</th>\n",
              "      <td>1993</td>\n",
              "      <td>Man's Best Friend</td>\n",
              "      <td>a genetically mutated dog is stolen from the l...</td>\n",
              "      <td>a genetically mutated dog is stolen from the l...</td>\n",
              "    </tr>\n",
              "  </tbody>\n",
              "</table>\n",
              "<p>3383 rows × 4 columns</p>\n",
              "</div>"
            ],
            "text/plain": [
              "       year                       title  \\\n",
              "1      1999         Message in a Bottle   \n",
              "4      1978            Midnight Express   \n",
              "5      1996                 Primal Fear   \n",
              "6      1950                      Crisis   \n",
              "7      1959                 The Tingler   \n",
              "...     ...                         ...   \n",
              "11263  2008       The Fifth Commandment   \n",
              "11265  2003       Coffee and Cigarettes   \n",
              "11269  1957                    Pal Joey   \n",
              "11270  2002  Jonah: A VeggieTales Movie   \n",
              "11275  1993           Man's Best Friend   \n",
              "\n",
              "                                                    plot  \\\n",
              "1      who meets by fate ,  shall be sealed by fate ....   \n",
              "4      the true story of billy hayes ,  an american c...   \n",
              "5      martin vail left the chicago da ' s office to ...   \n",
              "6      husband and wife americans dr .  eugene and mr...   \n",
              "7      the coroner and scientist dr .  warren chapin ...   \n",
              "...                                                  ...   \n",
              "11263  in bangkok ,  an assassin who turns down a job...   \n",
              "11265  eleven separate vignettes are presented .  in ...   \n",
              "11269  joey evans is charming ,  handsome ,  funny , ...   \n",
              "11270  when the singing veggies encounter some car tr...   \n",
              "11275  a genetically mutated dog is stolen from the l...   \n",
              "\n",
              "                                             plot_limpio  \n",
              "1      who meets by fate shall be sealed by fate ther...  \n",
              "4      the true story of billy hayes an american coll...  \n",
              "5      martin vail left the chicago da s office to be...  \n",
              "6      husband and wife americans dr eugene and mrs h...  \n",
              "7      the coroner and scientist dr warren chapin is ...  \n",
              "...                                                  ...  \n",
              "11263  in bangkok an assassin who turns down a job th...  \n",
              "11265  eleven separate vignettes are presented in eac...  \n",
              "11269  joey evans is charming handsome funny talented...  \n",
              "11270  when the singing veggies encounter some car tr...  \n",
              "11275  a genetically mutated dog is stolen from the l...  \n",
              "\n",
              "[3383 rows x 4 columns]"
            ]
          },
          "execution_count": 132,
          "metadata": {},
          "output_type": "execute_result"
        }
      ],
      "source": [
        "dataTesting"
      ]
    },
    {
      "attachments": {},
      "cell_type": "markdown",
      "metadata": {},
      "source": [
        "Se revisa nuevamente el texto para validar si desaparecieron la mayoría de carácteres especiales"
      ]
    },
    {
      "cell_type": "code",
      "execution_count": 133,
      "metadata": {},
      "outputs": [
        {
          "data": {
            "text/plain": [
              "'major benson winifred payne is being discharged from the marines payne is a killin machine but the wars of the world are no longer fought on the battlefield a career marine he has no idea what to do as a civilian so his commander finds him a job commanding officer of a local school s jrotc program a bunch or ragtag losers with no hope using such teaching tools as live grenades and real bullets payne starts to instill the corp with some hope but when payne is recalled to fight in bosnia will he leave the corp that has just started to believe in him or will he find out that killin ain t much of a livin'"
            ]
          },
          "execution_count": 133,
          "metadata": {},
          "output_type": "execute_result"
        }
      ],
      "source": [
        "dataTraining['plot_limpio'][0]"
      ]
    },
    {
      "cell_type": "code",
      "execution_count": 134,
      "metadata": {},
      "outputs": [
        {
          "data": {
            "text/plain": [
              "'our marriage their wedding it s lesson number one for any newly engaged couple and lucia and marcus are no exception in our family wedding they learn the hard way that the path to saying i do can be rife with familial strife when they return from college and too suddenly announce their marriage plans they soon discover that their fathers two highly competitive over the top egos can wreak a major amount of havoc on their special day with insults flying and tempers running high it s anyone s guess if the alpha dads will survive to make it down the aisle in one piece lucia s mother is busy planning the wedding of her dreams and the only levelheaded one in the bunch is angela the groom s father s best friend and lawyer who manages to keep her cool when the madness reaches a crescendo with only weeks to plan their wedding lucia and marcus soon discover the true meaning of love and find there is truth to the saying that when you marry someone you marry their entire family'"
            ]
          },
          "execution_count": 134,
          "metadata": {},
          "output_type": "execute_result"
        }
      ],
      "source": [
        "dataTraining['plot_limpio'][8417]"
      ]
    },
    {
      "attachments": {},
      "cell_type": "markdown",
      "metadata": {},
      "source": [
        "Se visualiza un poco más limpio el texto, ahora se intenta eliminar las stopwords de la siguiente manera:"
      ]
    },
    {
      "cell_type": "code",
      "execution_count": 135,
      "metadata": {},
      "outputs": [],
      "source": [
        "import nltk\n",
        "from nltk.corpus import stopwords\n",
        "#nltk.download('punkt')\n",
        "\n",
        "\n",
        "def eliminar_stopwords(texto):\n",
        "    # Obtener las stopwords en inglés\n",
        "    stopwords_lista = stopwords.words('english')\n",
        "    \n",
        "    # Tokenizar el texto en palabras\n",
        "    palabras = nltk.word_tokenize(texto)\n",
        "    \n",
        "    # Filtrar las palabras que no son stopwords\n",
        "    palabras_filtradas = [palabra for palabra in palabras if palabra.lower() not in stopwords_lista]\n",
        "    \n",
        "    # Unir las palabras filtradas en un nuevo texto\n",
        "    texto_filtrado = ' '.join(palabras_filtradas)\n",
        "    \n",
        "    return texto_filtrado\n",
        "\n"
      ]
    },
    {
      "cell_type": "code",
      "execution_count": 136,
      "metadata": {},
      "outputs": [],
      "source": [
        "dataTraining['plot_limpio'] = dataTraining['plot_limpio'].apply(lambda x: eliminar_stopwords(x))\n",
        "dataTesting['plot_limpio'] = dataTesting['plot_limpio'].apply(lambda x: eliminar_stopwords(x))"
      ]
    },
    {
      "cell_type": "code",
      "execution_count": 137,
      "metadata": {},
      "outputs": [
        {
          "data": {
            "text/html": [
              "<div>\n",
              "<style scoped>\n",
              "    .dataframe tbody tr th:only-of-type {\n",
              "        vertical-align: middle;\n",
              "    }\n",
              "\n",
              "    .dataframe tbody tr th {\n",
              "        vertical-align: top;\n",
              "    }\n",
              "\n",
              "    .dataframe thead th {\n",
              "        text-align: right;\n",
              "    }\n",
              "</style>\n",
              "<table border=\"1\" class=\"dataframe\">\n",
              "  <thead>\n",
              "    <tr style=\"text-align: right;\">\n",
              "      <th></th>\n",
              "      <th>year</th>\n",
              "      <th>title</th>\n",
              "      <th>plot</th>\n",
              "      <th>genres</th>\n",
              "      <th>rating</th>\n",
              "      <th>plot_limpio</th>\n",
              "    </tr>\n",
              "  </thead>\n",
              "  <tbody>\n",
              "    <tr>\n",
              "      <th>3107</th>\n",
              "      <td>2003</td>\n",
              "      <td>Most</td>\n",
              "      <td>most is the story of a single father who takes...</td>\n",
              "      <td>['Short', 'Drama']</td>\n",
              "      <td>8.0</td>\n",
              "      <td>story single father takes eight year old son w...</td>\n",
              "    </tr>\n",
              "    <tr>\n",
              "      <th>900</th>\n",
              "      <td>2008</td>\n",
              "      <td>How to Be a Serial Killer</td>\n",
              "      <td>a serial killer decides to teach the secrets o...</td>\n",
              "      <td>['Comedy', 'Crime', 'Horror']</td>\n",
              "      <td>5.6</td>\n",
              "      <td>serial killer decides teach secrets satisfying...</td>\n",
              "    </tr>\n",
              "    <tr>\n",
              "      <th>6724</th>\n",
              "      <td>1941</td>\n",
              "      <td>A Woman's Face</td>\n",
              "      <td>in sweden ,  a female blackmailer with a disfi...</td>\n",
              "      <td>['Drama', 'Film-Noir', 'Thriller']</td>\n",
              "      <td>7.2</td>\n",
              "      <td>sweden female blackmailer disfiguring facial s...</td>\n",
              "    </tr>\n",
              "    <tr>\n",
              "      <th>4704</th>\n",
              "      <td>1954</td>\n",
              "      <td>Executive Suite</td>\n",
              "      <td>in a friday afternoon in new york ,  the presi...</td>\n",
              "      <td>['Drama']</td>\n",
              "      <td>7.4</td>\n",
              "      <td>friday afternoon new york president tredway co...</td>\n",
              "    </tr>\n",
              "    <tr>\n",
              "      <th>2582</th>\n",
              "      <td>1990</td>\n",
              "      <td>Narrow Margin</td>\n",
              "      <td>in los angeles ,  the editor of a publishing h...</td>\n",
              "      <td>['Action', 'Crime', 'Thriller']</td>\n",
              "      <td>6.6</td>\n",
              "      <td>los angeles editor publishing house carol hunn...</td>\n",
              "    </tr>\n",
              "    <tr>\n",
              "      <th>...</th>\n",
              "      <td>...</td>\n",
              "      <td>...</td>\n",
              "      <td>...</td>\n",
              "      <td>...</td>\n",
              "      <td>...</td>\n",
              "      <td>...</td>\n",
              "    </tr>\n",
              "    <tr>\n",
              "      <th>8417</th>\n",
              "      <td>2010</td>\n",
              "      <td>Our Family Wedding</td>\n",
              "      <td>\" our marriage ,  their wedding .  \"  it ' s l...</td>\n",
              "      <td>['Comedy', 'Romance']</td>\n",
              "      <td>4.9</td>\n",
              "      <td>marriage wedding lesson number one newly engag...</td>\n",
              "    </tr>\n",
              "    <tr>\n",
              "      <th>1592</th>\n",
              "      <td>1984</td>\n",
              "      <td>Conan the Destroyer</td>\n",
              "      <td>the wandering barbarian ,  conan ,  alongside ...</td>\n",
              "      <td>['Action', 'Adventure', 'Fantasy']</td>\n",
              "      <td>5.8</td>\n",
              "      <td>wandering barbarian conan alongside goofy rogu...</td>\n",
              "    </tr>\n",
              "    <tr>\n",
              "      <th>1723</th>\n",
              "      <td>1955</td>\n",
              "      <td>Kismet</td>\n",
              "      <td>like a tale spun by scheherazade ,  kismet fol...</td>\n",
              "      <td>['Adventure', 'Musical', 'Fantasy', 'Comedy', ...</td>\n",
              "      <td>6.4</td>\n",
              "      <td>like tale spun scheherazade kismet follows rem...</td>\n",
              "    </tr>\n",
              "    <tr>\n",
              "      <th>7605</th>\n",
              "      <td>1982</td>\n",
              "      <td>The Secret of NIMH</td>\n",
              "      <td>mrs .  brisby ,  a widowed mouse ,  lives in a...</td>\n",
              "      <td>['Animation', 'Adventure', 'Drama', 'Family', ...</td>\n",
              "      <td>7.6</td>\n",
              "      <td>mrs brisby widowed mouse lives cinder block ch...</td>\n",
              "    </tr>\n",
              "    <tr>\n",
              "      <th>215</th>\n",
              "      <td>2009</td>\n",
              "      <td>Tinker Bell and the Lost Treasure</td>\n",
              "      <td>tinker bell journey far north of never land to...</td>\n",
              "      <td>['Animation', 'Adventure', 'Family', 'Fantasy']</td>\n",
              "      <td>6.8</td>\n",
              "      <td>tinker bell journey far north never land patch...</td>\n",
              "    </tr>\n",
              "  </tbody>\n",
              "</table>\n",
              "<p>7894 rows × 6 columns</p>\n",
              "</div>"
            ],
            "text/plain": [
              "      year                              title  \\\n",
              "3107  2003                               Most   \n",
              "900   2008          How to Be a Serial Killer   \n",
              "6724  1941                     A Woman's Face   \n",
              "4704  1954                    Executive Suite   \n",
              "2582  1990                      Narrow Margin   \n",
              "...    ...                                ...   \n",
              "8417  2010                 Our Family Wedding   \n",
              "1592  1984                Conan the Destroyer   \n",
              "1723  1955                             Kismet   \n",
              "7605  1982                 The Secret of NIMH   \n",
              "215   2009  Tinker Bell and the Lost Treasure   \n",
              "\n",
              "                                                   plot  \\\n",
              "3107  most is the story of a single father who takes...   \n",
              "900   a serial killer decides to teach the secrets o...   \n",
              "6724  in sweden ,  a female blackmailer with a disfi...   \n",
              "4704  in a friday afternoon in new york ,  the presi...   \n",
              "2582  in los angeles ,  the editor of a publishing h...   \n",
              "...                                                 ...   \n",
              "8417  \" our marriage ,  their wedding .  \"  it ' s l...   \n",
              "1592  the wandering barbarian ,  conan ,  alongside ...   \n",
              "1723  like a tale spun by scheherazade ,  kismet fol...   \n",
              "7605  mrs .  brisby ,  a widowed mouse ,  lives in a...   \n",
              "215   tinker bell journey far north of never land to...   \n",
              "\n",
              "                                                 genres  rating  \\\n",
              "3107                                 ['Short', 'Drama']     8.0   \n",
              "900                       ['Comedy', 'Crime', 'Horror']     5.6   \n",
              "6724                 ['Drama', 'Film-Noir', 'Thriller']     7.2   \n",
              "4704                                          ['Drama']     7.4   \n",
              "2582                    ['Action', 'Crime', 'Thriller']     6.6   \n",
              "...                                                 ...     ...   \n",
              "8417                              ['Comedy', 'Romance']     4.9   \n",
              "1592                 ['Action', 'Adventure', 'Fantasy']     5.8   \n",
              "1723  ['Adventure', 'Musical', 'Fantasy', 'Comedy', ...     6.4   \n",
              "7605  ['Animation', 'Adventure', 'Drama', 'Family', ...     7.6   \n",
              "215     ['Animation', 'Adventure', 'Family', 'Fantasy']     6.8   \n",
              "\n",
              "                                            plot_limpio  \n",
              "3107  story single father takes eight year old son w...  \n",
              "900   serial killer decides teach secrets satisfying...  \n",
              "6724  sweden female blackmailer disfiguring facial s...  \n",
              "4704  friday afternoon new york president tredway co...  \n",
              "2582  los angeles editor publishing house carol hunn...  \n",
              "...                                                 ...  \n",
              "8417  marriage wedding lesson number one newly engag...  \n",
              "1592  wandering barbarian conan alongside goofy rogu...  \n",
              "1723  like tale spun scheherazade kismet follows rem...  \n",
              "7605  mrs brisby widowed mouse lives cinder block ch...  \n",
              "215   tinker bell journey far north never land patch...  \n",
              "\n",
              "[7894 rows x 6 columns]"
            ]
          },
          "execution_count": 137,
          "metadata": {},
          "output_type": "execute_result"
        }
      ],
      "source": [
        "dataTraining"
      ]
    },
    {
      "cell_type": "code",
      "execution_count": 138,
      "metadata": {},
      "outputs": [
        {
          "data": {
            "text/html": [
              "<div>\n",
              "<style scoped>\n",
              "    .dataframe tbody tr th:only-of-type {\n",
              "        vertical-align: middle;\n",
              "    }\n",
              "\n",
              "    .dataframe tbody tr th {\n",
              "        vertical-align: top;\n",
              "    }\n",
              "\n",
              "    .dataframe thead th {\n",
              "        text-align: right;\n",
              "    }\n",
              "</style>\n",
              "<table border=\"1\" class=\"dataframe\">\n",
              "  <thead>\n",
              "    <tr style=\"text-align: right;\">\n",
              "      <th></th>\n",
              "      <th>year</th>\n",
              "      <th>title</th>\n",
              "      <th>plot</th>\n",
              "      <th>plot_limpio</th>\n",
              "    </tr>\n",
              "  </thead>\n",
              "  <tbody>\n",
              "    <tr>\n",
              "      <th>1</th>\n",
              "      <td>1999</td>\n",
              "      <td>Message in a Bottle</td>\n",
              "      <td>who meets by fate ,  shall be sealed by fate ....</td>\n",
              "      <td>meets fate shall sealed fate theresa osborne r...</td>\n",
              "    </tr>\n",
              "    <tr>\n",
              "      <th>4</th>\n",
              "      <td>1978</td>\n",
              "      <td>Midnight Express</td>\n",
              "      <td>the true story of billy hayes ,  an american c...</td>\n",
              "      <td>true story billy hayes american college studen...</td>\n",
              "    </tr>\n",
              "    <tr>\n",
              "      <th>5</th>\n",
              "      <td>1996</td>\n",
              "      <td>Primal Fear</td>\n",
              "      <td>martin vail left the chicago da ' s office to ...</td>\n",
              "      <td>martin vail left chicago da office become succ...</td>\n",
              "    </tr>\n",
              "    <tr>\n",
              "      <th>6</th>\n",
              "      <td>1950</td>\n",
              "      <td>Crisis</td>\n",
              "      <td>husband and wife americans dr .  eugene and mr...</td>\n",
              "      <td>husband wife americans dr eugene mrs helen fer...</td>\n",
              "    </tr>\n",
              "    <tr>\n",
              "      <th>7</th>\n",
              "      <td>1959</td>\n",
              "      <td>The Tingler</td>\n",
              "      <td>the coroner and scientist dr .  warren chapin ...</td>\n",
              "      <td>coroner scientist dr warren chapin researching...</td>\n",
              "    </tr>\n",
              "    <tr>\n",
              "      <th>...</th>\n",
              "      <td>...</td>\n",
              "      <td>...</td>\n",
              "      <td>...</td>\n",
              "      <td>...</td>\n",
              "    </tr>\n",
              "    <tr>\n",
              "      <th>11263</th>\n",
              "      <td>2008</td>\n",
              "      <td>The Fifth Commandment</td>\n",
              "      <td>in bangkok ,  an assassin who turns down a job...</td>\n",
              "      <td>bangkok assassin turns job hits close home fin...</td>\n",
              "    </tr>\n",
              "    <tr>\n",
              "      <th>11265</th>\n",
              "      <td>2003</td>\n",
              "      <td>Coffee and Cigarettes</td>\n",
              "      <td>eleven separate vignettes are presented .  in ...</td>\n",
              "      <td>eleven separate vignettes presented celebritie...</td>\n",
              "    </tr>\n",
              "    <tr>\n",
              "      <th>11269</th>\n",
              "      <td>1957</td>\n",
              "      <td>Pal Joey</td>\n",
              "      <td>joey evans is charming ,  handsome ,  funny , ...</td>\n",
              "      <td>joey evans charming handsome funny talented fi...</td>\n",
              "    </tr>\n",
              "    <tr>\n",
              "      <th>11270</th>\n",
              "      <td>2002</td>\n",
              "      <td>Jonah: A VeggieTales Movie</td>\n",
              "      <td>when the singing veggies encounter some car tr...</td>\n",
              "      <td>singing veggies encounter car trouble stranded...</td>\n",
              "    </tr>\n",
              "    <tr>\n",
              "      <th>11275</th>\n",
              "      <td>1993</td>\n",
              "      <td>Man's Best Friend</td>\n",
              "      <td>a genetically mutated dog is stolen from the l...</td>\n",
              "      <td>genetically mutated dog stolen lab mad scienti...</td>\n",
              "    </tr>\n",
              "  </tbody>\n",
              "</table>\n",
              "<p>3383 rows × 4 columns</p>\n",
              "</div>"
            ],
            "text/plain": [
              "       year                       title  \\\n",
              "1      1999         Message in a Bottle   \n",
              "4      1978            Midnight Express   \n",
              "5      1996                 Primal Fear   \n",
              "6      1950                      Crisis   \n",
              "7      1959                 The Tingler   \n",
              "...     ...                         ...   \n",
              "11263  2008       The Fifth Commandment   \n",
              "11265  2003       Coffee and Cigarettes   \n",
              "11269  1957                    Pal Joey   \n",
              "11270  2002  Jonah: A VeggieTales Movie   \n",
              "11275  1993           Man's Best Friend   \n",
              "\n",
              "                                                    plot  \\\n",
              "1      who meets by fate ,  shall be sealed by fate ....   \n",
              "4      the true story of billy hayes ,  an american c...   \n",
              "5      martin vail left the chicago da ' s office to ...   \n",
              "6      husband and wife americans dr .  eugene and mr...   \n",
              "7      the coroner and scientist dr .  warren chapin ...   \n",
              "...                                                  ...   \n",
              "11263  in bangkok ,  an assassin who turns down a job...   \n",
              "11265  eleven separate vignettes are presented .  in ...   \n",
              "11269  joey evans is charming ,  handsome ,  funny , ...   \n",
              "11270  when the singing veggies encounter some car tr...   \n",
              "11275  a genetically mutated dog is stolen from the l...   \n",
              "\n",
              "                                             plot_limpio  \n",
              "1      meets fate shall sealed fate theresa osborne r...  \n",
              "4      true story billy hayes american college studen...  \n",
              "5      martin vail left chicago da office become succ...  \n",
              "6      husband wife americans dr eugene mrs helen fer...  \n",
              "7      coroner scientist dr warren chapin researching...  \n",
              "...                                                  ...  \n",
              "11263  bangkok assassin turns job hits close home fin...  \n",
              "11265  eleven separate vignettes presented celebritie...  \n",
              "11269  joey evans charming handsome funny talented fi...  \n",
              "11270  singing veggies encounter car trouble stranded...  \n",
              "11275  genetically mutated dog stolen lab mad scienti...  \n",
              "\n",
              "[3383 rows x 4 columns]"
            ]
          },
          "execution_count": 138,
          "metadata": {},
          "output_type": "execute_result"
        }
      ],
      "source": [
        "dataTesting"
      ]
    },
    {
      "attachments": {},
      "cell_type": "markdown",
      "metadata": {},
      "source": [
        "Se revira nuevamente si se eliminaron las stopwords"
      ]
    },
    {
      "cell_type": "code",
      "execution_count": 139,
      "metadata": {},
      "outputs": [
        {
          "data": {
            "text/plain": [
              "'major benson winifred payne discharged marines payne killin machine wars world longer fought battlefield career marine idea civilian commander finds job commanding officer local school jrotc program bunch ragtag losers hope using teaching tools live grenades real bullets payne starts instill corp hope payne recalled fight bosnia leave corp started believe find killin much livin'"
            ]
          },
          "execution_count": 139,
          "metadata": {},
          "output_type": "execute_result"
        }
      ],
      "source": [
        "dataTraining['plot_limpio'][0]"
      ]
    },
    {
      "cell_type": "code",
      "execution_count": 140,
      "metadata": {},
      "outputs": [
        {
          "data": {
            "text/plain": [
              "\"['Adventure', 'Comedy', 'Family']\""
            ]
          },
          "execution_count": 140,
          "metadata": {},
          "output_type": "execute_result"
        }
      ],
      "source": [
        "dataTraining['genres'][0]"
      ]
    },
    {
      "cell_type": "code",
      "execution_count": 141,
      "metadata": {},
      "outputs": [
        {
          "data": {
            "text/plain": [
              "'marriage wedding lesson number one newly engaged couple lucia marcus exception family wedding learn hard way path saying rife familial strife return college suddenly announce marriage plans soon discover fathers two highly competitive top egos wreak major amount havoc special day insults flying tempers running high anyone guess alpha dads survive make aisle one piece lucia mother busy planning wedding dreams levelheaded one bunch angela groom father best friend lawyer manages keep cool madness reaches crescendo weeks plan wedding lucia marcus soon discover true meaning love find truth saying marry someone marry entire family'"
            ]
          },
          "execution_count": 141,
          "metadata": {},
          "output_type": "execute_result"
        }
      ],
      "source": [
        "dataTraining['plot_limpio'][8417]"
      ]
    },
    {
      "attachments": {},
      "cell_type": "markdown",
      "metadata": {},
      "source": [
        "Ahora se visualiza cuantas clases se encuentran en la variable de respuesta:"
      ]
    },
    {
      "cell_type": "code",
      "execution_count": 142,
      "metadata": {},
      "outputs": [
        {
          "data": {
            "text/html": [
              "<div>\n",
              "<style scoped>\n",
              "    .dataframe tbody tr th:only-of-type {\n",
              "        vertical-align: middle;\n",
              "    }\n",
              "\n",
              "    .dataframe tbody tr th {\n",
              "        vertical-align: top;\n",
              "    }\n",
              "\n",
              "    .dataframe thead th {\n",
              "        text-align: right;\n",
              "    }\n",
              "</style>\n",
              "<table border=\"1\" class=\"dataframe\">\n",
              "  <thead>\n",
              "    <tr style=\"text-align: right;\">\n",
              "      <th></th>\n",
              "      <th>genres</th>\n",
              "    </tr>\n",
              "  </thead>\n",
              "  <tbody>\n",
              "    <tr>\n",
              "      <th>['Drama']</th>\n",
              "      <td>429</td>\n",
              "    </tr>\n",
              "    <tr>\n",
              "      <th>['Comedy']</th>\n",
              "      <td>368</td>\n",
              "    </tr>\n",
              "    <tr>\n",
              "      <th>['Comedy', 'Drama', 'Romance']</th>\n",
              "      <td>306</td>\n",
              "    </tr>\n",
              "    <tr>\n",
              "      <th>['Comedy', 'Romance']</th>\n",
              "      <td>291</td>\n",
              "    </tr>\n",
              "    <tr>\n",
              "      <th>['Comedy', 'Drama']</th>\n",
              "      <td>287</td>\n",
              "    </tr>\n",
              "    <tr>\n",
              "      <th>...</th>\n",
              "      <td>...</td>\n",
              "    </tr>\n",
              "    <tr>\n",
              "      <th>['Animation', 'Drama', 'Music']</th>\n",
              "      <td>1</td>\n",
              "    </tr>\n",
              "    <tr>\n",
              "      <th>['Action', 'Adventure', 'Comedy', 'Fantasy', 'Thriller']</th>\n",
              "      <td>1</td>\n",
              "    </tr>\n",
              "    <tr>\n",
              "      <th>['Action', 'Adventure', 'Crime', 'Drama', 'Sci-Fi']</th>\n",
              "      <td>1</td>\n",
              "    </tr>\n",
              "    <tr>\n",
              "      <th>['Drama', 'Action', 'Crime']</th>\n",
              "      <td>1</td>\n",
              "    </tr>\n",
              "    <tr>\n",
              "      <th>['Animation', 'Adventure', 'Drama', 'Family', 'Fantasy', 'Sci-Fi']</th>\n",
              "      <td>1</td>\n",
              "    </tr>\n",
              "  </tbody>\n",
              "</table>\n",
              "<p>1336 rows × 1 columns</p>\n",
              "</div>"
            ],
            "text/plain": [
              "                                                    genres\n",
              "['Drama']                                              429\n",
              "['Comedy']                                             368\n",
              "['Comedy', 'Drama', 'Romance']                         306\n",
              "['Comedy', 'Romance']                                  291\n",
              "['Comedy', 'Drama']                                    287\n",
              "...                                                    ...\n",
              "['Animation', 'Drama', 'Music']                          1\n",
              "['Action', 'Adventure', 'Comedy', 'Fantasy', 'T...       1\n",
              "['Action', 'Adventure', 'Crime', 'Drama', 'Sci-...       1\n",
              "['Drama', 'Action', 'Crime']                             1\n",
              "['Animation', 'Adventure', 'Drama', 'Family', '...       1\n",
              "\n",
              "[1336 rows x 1 columns]"
            ]
          },
          "execution_count": 142,
          "metadata": {},
          "output_type": "execute_result"
        }
      ],
      "source": [
        "valores = pd.DataFrame(dataTraining['genres'].value_counts())\n",
        "valores"
      ]
    },
    {
      "cell_type": "code",
      "execution_count": 143,
      "metadata": {},
      "outputs": [
        {
          "data": {
            "text/plain": [
              "(1336, 1)"
            ]
          },
          "execution_count": 143,
          "metadata": {},
          "output_type": "execute_result"
        }
      ],
      "source": [
        "valores.shape"
      ]
    },
    {
      "cell_type": "code",
      "execution_count": 144,
      "metadata": {},
      "outputs": [
        {
          "data": {
            "text/plain": [
              "128"
            ]
          },
          "execution_count": 144,
          "metadata": {},
          "output_type": "execute_result"
        }
      ],
      "source": [
        "len(valores[valores['genres']>10])"
      ]
    },
    {
      "attachments": {},
      "cell_type": "markdown",
      "metadata": {},
      "source": [
        "Existen clases con muy pocos valores representados. Es decir, sólo existen  128 grupo de generos que se repiten más de 10 veces."
      ]
    },
    {
      "cell_type": "code",
      "execution_count": 145,
      "metadata": {
        "id": "KYLsyPFubu9W"
      },
      "outputs": [],
      "source": [
        "# Definición de variable de interés (y)\n",
        "dataTraining['genres'] = dataTraining['genres'].map(lambda x: eval(x))\n",
        "le = MultiLabelBinarizer()\n",
        "y_genres = le.fit_transform(dataTraining['genres'])"
      ]
    },
    {
      "attachments": {},
      "cell_type": "markdown",
      "metadata": {},
      "source": [
        "Se crea un DF para revisar por genero las películas a las que pertenece"
      ]
    },
    {
      "cell_type": "code",
      "execution_count": 146,
      "metadata": {},
      "outputs": [
        {
          "data": {
            "text/plain": [
              "Action         1302\n",
              "Adventure      1023\n",
              "Animation       259\n",
              "Biography       373\n",
              "Comedy         3046\n",
              "Crime          1447\n",
              "Documentary     419\n",
              "Drama          3965\n",
              "Family          681\n",
              "Fantasy         706\n",
              "Film-Noir       168\n",
              "History         273\n",
              "Horror          954\n",
              "Music           341\n",
              "Musical         271\n",
              "Mystery         759\n",
              "News              7\n",
              "Romance        1892\n",
              "Sci-Fi          723\n",
              "Short            92\n",
              "Sport           261\n",
              "Thriller       2024\n",
              "War             348\n",
              "Western         237\n",
              "dtype: int64"
            ]
          },
          "execution_count": 146,
          "metadata": {},
          "output_type": "execute_result"
        }
      ],
      "source": [
        "y_genres_df = pd.DataFrame(data=y_genres, columns = le.classes_)\n",
        "y_genres_df.sum()"
      ]
    },
    {
      "cell_type": "code",
      "execution_count": 147,
      "metadata": {},
      "outputs": [
        {
          "data": {
            "image/png": "[encoded data removed]",
            "text/plain": [
              "<Figure size 1440x432 with 1 Axes>"
            ]
          },
          "metadata": {
            "needs_background": "light"
          },
          "output_type": "display_data"
        }
      ],
      "source": [
        "import matplotlib.pyplot as plt\n",
        "\n",
        "# Calcular la suma por columna\n",
        "suma_por_columna = y_genres_df.sum()\n",
        "\n",
        "# Ordenar las barras en orden descendente\n",
        "suma_por_columna = suma_por_columna.sort_values(ascending=False)\n",
        "\n",
        "# Obtener las etiquetas de las columnas\n",
        "etiquetas = suma_por_columna.index\n",
        "\n",
        "# Obtener los valores de la suma por columna\n",
        "valores = suma_por_columna.values\n",
        "\n",
        "# Aumentar el tamaño de la gráfica\n",
        "plt.figure(figsize=(20, 6))\n",
        "\n",
        "# Graficar el gráfico de barras\n",
        "plt.bar(etiquetas, valores)\n",
        "\n",
        "# Rotar las etiquetas del eje x\n",
        "plt.xticks(rotation=90)\n",
        "\n",
        "# Añadir etiquetas a los ejes\n",
        "plt.xlabel('Géneros')\n",
        "plt.ylabel('Número de películas')\n",
        "plt.title('Número de películas por Género')\n",
        "\n",
        "# Agregar etiquetas en la parte superior de las barras\n",
        "for i, v in enumerate(valores):\n",
        "    plt.annotate(str(v), xy=(i, v), ha='center', va='bottom')\n",
        "\n",
        "# Mostrar el gráfico\n",
        "plt.show()\n",
        "\n",
        "\n"
      ]
    },
    {
      "cell_type": "code",
      "execution_count": 148,
      "metadata": {},
      "outputs": [
        {
          "data": {
            "text/html": [
              "<div>\n",
              "<style scoped>\n",
              "    .dataframe tbody tr th:only-of-type {\n",
              "        vertical-align: middle;\n",
              "    }\n",
              "\n",
              "    .dataframe tbody tr th {\n",
              "        vertical-align: top;\n",
              "    }\n",
              "\n",
              "    .dataframe thead th {\n",
              "        text-align: right;\n",
              "    }\n",
              "</style>\n",
              "<table border=\"1\" class=\"dataframe\">\n",
              "  <thead>\n",
              "    <tr style=\"text-align: right;\">\n",
              "      <th></th>\n",
              "      <th>Action</th>\n",
              "      <th>Adventure</th>\n",
              "      <th>Animation</th>\n",
              "      <th>Biography</th>\n",
              "      <th>Comedy</th>\n",
              "      <th>Crime</th>\n",
              "      <th>Documentary</th>\n",
              "      <th>Drama</th>\n",
              "      <th>Family</th>\n",
              "      <th>Fantasy</th>\n",
              "      <th>...</th>\n",
              "      <th>Musical</th>\n",
              "      <th>Mystery</th>\n",
              "      <th>News</th>\n",
              "      <th>Romance</th>\n",
              "      <th>Sci-Fi</th>\n",
              "      <th>Short</th>\n",
              "      <th>Sport</th>\n",
              "      <th>Thriller</th>\n",
              "      <th>War</th>\n",
              "      <th>Western</th>\n",
              "    </tr>\n",
              "  </thead>\n",
              "  <tbody>\n",
              "    <tr>\n",
              "      <th>0</th>\n",
              "      <td>0</td>\n",
              "      <td>0</td>\n",
              "      <td>0</td>\n",
              "      <td>0</td>\n",
              "      <td>0</td>\n",
              "      <td>0</td>\n",
              "      <td>0</td>\n",
              "      <td>1</td>\n",
              "      <td>0</td>\n",
              "      <td>0</td>\n",
              "      <td>...</td>\n",
              "      <td>0</td>\n",
              "      <td>0</td>\n",
              "      <td>0</td>\n",
              "      <td>0</td>\n",
              "      <td>0</td>\n",
              "      <td>1</td>\n",
              "      <td>0</td>\n",
              "      <td>0</td>\n",
              "      <td>0</td>\n",
              "      <td>0</td>\n",
              "    </tr>\n",
              "    <tr>\n",
              "      <th>1</th>\n",
              "      <td>0</td>\n",
              "      <td>0</td>\n",
              "      <td>0</td>\n",
              "      <td>0</td>\n",
              "      <td>1</td>\n",
              "      <td>1</td>\n",
              "      <td>0</td>\n",
              "      <td>0</td>\n",
              "      <td>0</td>\n",
              "      <td>0</td>\n",
              "      <td>...</td>\n",
              "      <td>0</td>\n",
              "      <td>0</td>\n",
              "      <td>0</td>\n",
              "      <td>0</td>\n",
              "      <td>0</td>\n",
              "      <td>0</td>\n",
              "      <td>0</td>\n",
              "      <td>0</td>\n",
              "      <td>0</td>\n",
              "      <td>0</td>\n",
              "    </tr>\n",
              "    <tr>\n",
              "      <th>2</th>\n",
              "      <td>0</td>\n",
              "      <td>0</td>\n",
              "      <td>0</td>\n",
              "      <td>0</td>\n",
              "      <td>0</td>\n",
              "      <td>0</td>\n",
              "      <td>0</td>\n",
              "      <td>1</td>\n",
              "      <td>0</td>\n",
              "      <td>0</td>\n",
              "      <td>...</td>\n",
              "      <td>0</td>\n",
              "      <td>0</td>\n",
              "      <td>0</td>\n",
              "      <td>0</td>\n",
              "      <td>0</td>\n",
              "      <td>0</td>\n",
              "      <td>0</td>\n",
              "      <td>1</td>\n",
              "      <td>0</td>\n",
              "      <td>0</td>\n",
              "    </tr>\n",
              "    <tr>\n",
              "      <th>3</th>\n",
              "      <td>0</td>\n",
              "      <td>0</td>\n",
              "      <td>0</td>\n",
              "      <td>0</td>\n",
              "      <td>0</td>\n",
              "      <td>0</td>\n",
              "      <td>0</td>\n",
              "      <td>1</td>\n",
              "      <td>0</td>\n",
              "      <td>0</td>\n",
              "      <td>...</td>\n",
              "      <td>0</td>\n",
              "      <td>0</td>\n",
              "      <td>0</td>\n",
              "      <td>0</td>\n",
              "      <td>0</td>\n",
              "      <td>0</td>\n",
              "      <td>0</td>\n",
              "      <td>0</td>\n",
              "      <td>0</td>\n",
              "      <td>0</td>\n",
              "    </tr>\n",
              "    <tr>\n",
              "      <th>4</th>\n",
              "      <td>1</td>\n",
              "      <td>0</td>\n",
              "      <td>0</td>\n",
              "      <td>0</td>\n",
              "      <td>0</td>\n",
              "      <td>1</td>\n",
              "      <td>0</td>\n",
              "      <td>0</td>\n",
              "      <td>0</td>\n",
              "      <td>0</td>\n",
              "      <td>...</td>\n",
              "      <td>0</td>\n",
              "      <td>0</td>\n",
              "      <td>0</td>\n",
              "      <td>0</td>\n",
              "      <td>0</td>\n",
              "      <td>0</td>\n",
              "      <td>0</td>\n",
              "      <td>1</td>\n",
              "      <td>0</td>\n",
              "      <td>0</td>\n",
              "    </tr>\n",
              "    <tr>\n",
              "      <th>...</th>\n",
              "      <td>...</td>\n",
              "      <td>...</td>\n",
              "      <td>...</td>\n",
              "      <td>...</td>\n",
              "      <td>...</td>\n",
              "      <td>...</td>\n",
              "      <td>...</td>\n",
              "      <td>...</td>\n",
              "      <td>...</td>\n",
              "      <td>...</td>\n",
              "      <td>...</td>\n",
              "      <td>...</td>\n",
              "      <td>...</td>\n",
              "      <td>...</td>\n",
              "      <td>...</td>\n",
              "      <td>...</td>\n",
              "      <td>...</td>\n",
              "      <td>...</td>\n",
              "      <td>...</td>\n",
              "      <td>...</td>\n",
              "      <td>...</td>\n",
              "    </tr>\n",
              "    <tr>\n",
              "      <th>7889</th>\n",
              "      <td>0</td>\n",
              "      <td>0</td>\n",
              "      <td>0</td>\n",
              "      <td>0</td>\n",
              "      <td>1</td>\n",
              "      <td>0</td>\n",
              "      <td>0</td>\n",
              "      <td>0</td>\n",
              "      <td>0</td>\n",
              "      <td>0</td>\n",
              "      <td>...</td>\n",
              "      <td>0</td>\n",
              "      <td>0</td>\n",
              "      <td>0</td>\n",
              "      <td>1</td>\n",
              "      <td>0</td>\n",
              "      <td>0</td>\n",
              "      <td>0</td>\n",
              "      <td>0</td>\n",
              "      <td>0</td>\n",
              "      <td>0</td>\n",
              "    </tr>\n",
              "    <tr>\n",
              "      <th>7890</th>\n",
              "      <td>1</td>\n",
              "      <td>1</td>\n",
              "      <td>0</td>\n",
              "      <td>0</td>\n",
              "      <td>0</td>\n",
              "      <td>0</td>\n",
              "      <td>0</td>\n",
              "      <td>0</td>\n",
              "      <td>0</td>\n",
              "      <td>1</td>\n",
              "      <td>...</td>\n",
              "      <td>0</td>\n",
              "      <td>0</td>\n",
              "      <td>0</td>\n",
              "      <td>0</td>\n",
              "      <td>0</td>\n",
              "      <td>0</td>\n",
              "      <td>0</td>\n",
              "      <td>0</td>\n",
              "      <td>0</td>\n",
              "      <td>0</td>\n",
              "    </tr>\n",
              "    <tr>\n",
              "      <th>7891</th>\n",
              "      <td>0</td>\n",
              "      <td>1</td>\n",
              "      <td>0</td>\n",
              "      <td>0</td>\n",
              "      <td>1</td>\n",
              "      <td>0</td>\n",
              "      <td>0</td>\n",
              "      <td>0</td>\n",
              "      <td>0</td>\n",
              "      <td>1</td>\n",
              "      <td>...</td>\n",
              "      <td>1</td>\n",
              "      <td>0</td>\n",
              "      <td>0</td>\n",
              "      <td>1</td>\n",
              "      <td>0</td>\n",
              "      <td>0</td>\n",
              "      <td>0</td>\n",
              "      <td>0</td>\n",
              "      <td>0</td>\n",
              "      <td>0</td>\n",
              "    </tr>\n",
              "    <tr>\n",
              "      <th>7892</th>\n",
              "      <td>0</td>\n",
              "      <td>1</td>\n",
              "      <td>1</td>\n",
              "      <td>0</td>\n",
              "      <td>0</td>\n",
              "      <td>0</td>\n",
              "      <td>0</td>\n",
              "      <td>1</td>\n",
              "      <td>1</td>\n",
              "      <td>1</td>\n",
              "      <td>...</td>\n",
              "      <td>0</td>\n",
              "      <td>0</td>\n",
              "      <td>0</td>\n",
              "      <td>0</td>\n",
              "      <td>1</td>\n",
              "      <td>0</td>\n",
              "      <td>0</td>\n",
              "      <td>0</td>\n",
              "      <td>0</td>\n",
              "      <td>0</td>\n",
              "    </tr>\n",
              "    <tr>\n",
              "      <th>7893</th>\n",
              "      <td>0</td>\n",
              "      <td>1</td>\n",
              "      <td>1</td>\n",
              "      <td>0</td>\n",
              "      <td>0</td>\n",
              "      <td>0</td>\n",
              "      <td>0</td>\n",
              "      <td>0</td>\n",
              "      <td>1</td>\n",
              "      <td>1</td>\n",
              "      <td>...</td>\n",
              "      <td>0</td>\n",
              "      <td>0</td>\n",
              "      <td>0</td>\n",
              "      <td>0</td>\n",
              "      <td>0</td>\n",
              "      <td>0</td>\n",
              "      <td>0</td>\n",
              "      <td>0</td>\n",
              "      <td>0</td>\n",
              "      <td>0</td>\n",
              "    </tr>\n",
              "  </tbody>\n",
              "</table>\n",
              "<p>7894 rows × 24 columns</p>\n",
              "</div>"
            ],
            "text/plain": [
              "      Action  Adventure  Animation  Biography  Comedy  Crime  Documentary  \\\n",
              "0          0          0          0          0       0      0            0   \n",
              "1          0          0          0          0       1      1            0   \n",
              "2          0          0          0          0       0      0            0   \n",
              "3          0          0          0          0       0      0            0   \n",
              "4          1          0          0          0       0      1            0   \n",
              "...      ...        ...        ...        ...     ...    ...          ...   \n",
              "7889       0          0          0          0       1      0            0   \n",
              "7890       1          1          0          0       0      0            0   \n",
              "7891       0          1          0          0       1      0            0   \n",
              "7892       0          1          1          0       0      0            0   \n",
              "7893       0          1          1          0       0      0            0   \n",
              "\n",
              "      Drama  Family  Fantasy  ...  Musical  Mystery  News  Romance  Sci-Fi  \\\n",
              "0         1       0        0  ...        0        0     0        0       0   \n",
              "1         0       0        0  ...        0        0     0        0       0   \n",
              "2         1       0        0  ...        0        0     0        0       0   \n",
              "3         1       0        0  ...        0        0     0        0       0   \n",
              "4         0       0        0  ...        0        0     0        0       0   \n",
              "...     ...     ...      ...  ...      ...      ...   ...      ...     ...   \n",
              "7889      0       0        0  ...        0        0     0        1       0   \n",
              "7890      0       0        1  ...        0        0     0        0       0   \n",
              "7891      0       0        1  ...        1        0     0        1       0   \n",
              "7892      1       1        1  ...        0        0     0        0       1   \n",
              "7893      0       1        1  ...        0        0     0        0       0   \n",
              "\n",
              "      Short  Sport  Thriller  War  Western  \n",
              "0         1      0         0    0        0  \n",
              "1         0      0         0    0        0  \n",
              "2         0      0         1    0        0  \n",
              "3         0      0         0    0        0  \n",
              "4         0      0         1    0        0  \n",
              "...     ...    ...       ...  ...      ...  \n",
              "7889      0      0         0    0        0  \n",
              "7890      0      0         0    0        0  \n",
              "7891      0      0         0    0        0  \n",
              "7892      0      0         0    0        0  \n",
              "7893      0      0         0    0        0  \n",
              "\n",
              "[7894 rows x 24 columns]"
            ]
          },
          "execution_count": 148,
          "metadata": {},
          "output_type": "execute_result"
        }
      ],
      "source": [
        "y_genres_df"
      ]
    },
    {
      "attachments": {},
      "cell_type": "markdown",
      "metadata": {},
      "source": [
        "Ahora se procede a vectorizar los textos y modelarlos:"
      ]
    },
    {
      "attachments": {},
      "cell_type": "markdown",
      "metadata": {},
      "source": [
        "## 1 Forma  CountVectorizer(max_features=1000)"
      ]
    },
    {
      "cell_type": "code",
      "execution_count": 33,
      "metadata": {
        "colab": {
          "base_uri": "https://localhost:8080/"
        },
        "id": "uXdda0Fzbu9W",
        "outputId": "f567e7da-00b3-4ff0-c2b2-a824369ce7af"
      },
      "outputs": [
        {
          "data": {
            "text/plain": [
              "(7894, 1000)"
            ]
          },
          "execution_count": 33,
          "metadata": {},
          "output_type": "execute_result"
        }
      ],
      "source": [
        "# Definición de variables predictoras (X)\n",
        "vect = CountVectorizer(max_features=1000)\n",
        "X_dtm = vect.fit_transform(dataTraining['plot_limpio'])\n",
        "X_dtm.shape"
      ]
    },
    {
      "cell_type": "code",
      "execution_count": 34,
      "metadata": {
        "id": "Q_WHOjf8bu9X"
      },
      "outputs": [],
      "source": [
        "# Separación de variables predictoras (X) y variable de interés (y) en set de entrenamiento y test usandola función train_test_split\n",
        "X_train, X_test, y_train_genres, y_test_genres = train_test_split(X_dtm, y_genres, test_size=0.33, random_state=42)"
      ]
    },
    {
      "attachments": {},
      "cell_type": "markdown",
      "metadata": {},
      "source": [
        "RF"
      ]
    },
    {
      "cell_type": "code",
      "execution_count": 35,
      "metadata": {},
      "outputs": [],
      "source": [
        "from sklearn.ensemble import RandomForestClassifier\n",
        "from sklearn.multiclass import OneVsRestClassifier\n",
        "from sklearn.model_selection import cross_val_score\n",
        "from sklearn.model_selection import GridSearchCV"
      ]
    },
    {
      "cell_type": "code",
      "execution_count": 43,
      "metadata": {},
      "outputs": [
        {
          "data": {
            "text/plain": [
              "0.7423027381133265"
            ]
          },
          "execution_count": 43,
          "metadata": {},
          "output_type": "execute_result"
        }
      ],
      "source": [
        "clf = OneVsRestClassifier(RandomForestClassifier(random_state=42))\n",
        "clf.fit(X_train, y_train_genres)\n",
        "\n",
        "# Predicción del modelo de clasificación\n",
        "y_pred_genres_rf = clf.predict_proba(X_test)\n",
        "\n",
        "# Impresión del desempeño del modelo\n",
        "roc_auc_score(y_test_genres, y_pred_genres_rf, average='macro')"
      ]
    },
    {
      "cell_type": "code",
      "execution_count": 37,
      "metadata": {},
      "outputs": [
        {
          "data": {
            "text/plain": [
              "0.7719387868973243"
            ]
          },
          "execution_count": 37,
          "metadata": {},
          "output_type": "execute_result"
        }
      ],
      "source": [
        "clf = OneVsRestClassifier(RandomForestClassifier(n_jobs=-1, n_estimators=100, max_depth=10, random_state=42))\n",
        "clf.fit(X_train, y_train_genres)\n",
        "\n",
        "# Predicción del modelo de clasificación\n",
        "y_pred_genres_rf = clf.predict_proba(X_test)\n",
        "\n",
        "# Impresión del desempeño del modelo\n",
        "roc_auc_score(y_test_genres, y_pred_genres_rf, average='macro')"
      ]
    },
    {
      "cell_type": "code",
      "execution_count": null,
      "metadata": {},
      "outputs": [],
      "source": [
        "# Optimización con GridSearchCV\n",
        "# Definir los parámetros que deseas probar\n",
        "param_grid = {\n",
        "    'estimator__n_estimators': [100, 200, 300],\n",
        "    'estimator__max_depth': [5, 50, 100]\n",
        "}\n",
        "\n",
        "# Crear el clasificador y el objeto GridSearchCV\n",
        "clf2 = OneVsRestClassifier(RandomForestClassifier())\n",
        "grid_search = GridSearchCV(clf2, param_grid, cv=5)\n",
        "\n",
        "# Entrenar el clasificador con GridSearchCV\n",
        "grid_search.fit(X_train, y_train_genres)\n",
        "\n",
        "# Obtener los mejores parámetros y el mejor resultado\n",
        "best_params = grid_search.best_params_\n",
        "best_score = grid_search.best_score_\n",
        "\n",
        "print(\"Mejores parámetros encontrados: \", best_params)\n",
        "print(\"Mejor puntuación encontrada: {:.2f}\".format(best_score))\n",
        "\n",
        "# Entrenar el clasificador con los mejores parámetros\n",
        "clf2 = OneVsRestClassifier(RandomForestClassifier(n_estimators=best_params['estimator__n_estimators'], \n",
        "                                                  max_depth=best_params['estimator__max_depth']))\n",
        "clf2.fit(X_train, y_train_genres)\n",
        "\n",
        "\n",
        "# Predicción del modelo de clasificación\n",
        "y_pred_genres_rf2 = clf2.predict_proba(X_test)\n",
        "\n",
        "# Impresión del desempeño del modelo\n",
        "roc_auc_score(y_test_genres, y_pred_genres_rf2, average='macro')"
      ]
    },
    {
      "attachments": {},
      "cell_type": "markdown",
      "metadata": {},
      "source": [
        "XGBoost"
      ]
    },
    {
      "cell_type": "code",
      "execution_count": 38,
      "metadata": {},
      "outputs": [],
      "source": [
        "from xgboost import XGBClassifier\n",
        "from sklearn.model_selection import GridSearchCV\n",
        "from sklearn.multiclass import OneVsRestClassifier\n",
        "import matplotlib.pyplot as plt\n",
        "import seaborn as sns"
      ]
    },
    {
      "cell_type": "code",
      "execution_count": 39,
      "metadata": {},
      "outputs": [
        {
          "data": {
            "text/plain": [
              "0.7970435711317966"
            ]
          },
          "execution_count": 39,
          "metadata": {},
          "output_type": "execute_result"
        }
      ],
      "source": [
        "num_classes = len(np.unique(y_train_genres))\n",
        "xgb_p = OneVsRestClassifier(XGBClassifier(objective='multi:softmax', num_class=num_classes, \n",
        "                                          n_jobs=-1, random_state=42))\n",
        "\n",
        "xgb_p.fit(X_train, y_train_genres)\n",
        "\n",
        "# Predicción del modelo de clasificación\n",
        "y_pred_genres_xgb_p = xgb_p.predict_proba(X_test)\n",
        "\n",
        "# Impresión del desempeño del modelo\n",
        "roc_auc_score(y_test_genres, y_pred_genres_xgb_p, average='macro')"
      ]
    },
    {
      "cell_type": "code",
      "execution_count": 40,
      "metadata": {},
      "outputs": [
        {
          "data": {
            "text/plain": [
              "0.800963247778852"
            ]
          },
          "execution_count": 40,
          "metadata": {},
          "output_type": "execute_result"
        }
      ],
      "source": [
        "num_classes = len(np.unique(y_train_genres))\n",
        "xgb_p = OneVsRestClassifier(XGBClassifier(objective='multi:softmax', num_class=num_classes, \n",
        "                                          learning_rate=0.19,n_estimators=100, n_jobs=-1, random_state=42))\n",
        "\n",
        "xgb_p.fit(X_train, y_train_genres)\n",
        "\n",
        "# Predicción del modelo de clasificación\n",
        "y_pred_genres_xgb_p = xgb_p.predict_proba(X_test)\n",
        "\n",
        "# Impresión del desempeño del modelo\n",
        "roc_auc_score(y_test_genres, y_pred_genres_xgb_p, average='macro')"
      ]
    },
    {
      "cell_type": "code",
      "execution_count": null,
      "metadata": {},
      "outputs": [],
      "source": [
        "from sklearn.model_selection import GridSearchCV\n",
        "from xgboost import XGBClassifier\n",
        "from sklearn.metrics import roc_auc_score\n",
        "\n",
        "# Definir los parámetros que deseas probar\n",
        "param_grid = {\n",
        "    'estimator__learning_rate': [0.01, 0.1, 0.2],  # Prueba diferentes tasas de aprendizaje\n",
        "    'estimator__n_estimators': [100, 200, 300],  # Prueba diferentes números de estimadores\n",
        "    'estimator__max_depth': [3, 5, 7],  # Prueba diferentes profundidades máximas\n",
        "    'estimator__subsample': [0.8, 1.0],  # Prueba diferentes proporciones de submuestreo\n",
        "    'estimator__colsample_bytree': [0.8, 1.0],  # Prueba diferentes proporciones de columnas utilizadas por árbol\n",
        "    'estimator__gamma': [0, 0.1, 0.2]  # Prueba diferentes valores de gamma\n",
        "}\n",
        "\n",
        "# Crear el clasificador y el objeto GridSearchCV\n",
        "num_classes = len(np.unique(y_train_genres))\n",
        "xgb_p = OneVsRestClassifier(XGBClassifier(objective='multi:softmax', num_class=num_classes, random_state=42))\n",
        "grid_search = GridSearchCV(xgb_p, param_grid, cv=5)\n",
        "\n",
        "# Entrenar el clasificador con GridSearchCV\n",
        "grid_search.fit(X_train, y_train_genres)\n",
        "\n",
        "# Obtener los mejores parámetros y el mejor resultado\n",
        "best_params = grid_search.best_params_\n",
        "best_score = grid_search.best_score_\n",
        "\n",
        "print(\"Mejores parámetros encontrados: \", best_params)\n",
        "print(\"Mejor puntuación encontrada: {:.2f}\".format(best_score))\n",
        "\n",
        "# Entrenar el clasificador con los mejores parámetros\n",
        "xgb_p = OneVsRestClassifier(XGBClassifier(objective='multi:softmax', num_class=num_classes, random_state=42, **best_params))\n",
        "xgb_p.fit(X_train, y_train_genres)\n",
        "\n",
        "# Predicción del modelo de clasificación\n",
        "y_pred_genres_xgb_p = xgb_p.predict_proba(X_test)\n",
        "\n",
        "# Impresión del desempeño del modelo\n",
        "roc_auc_score(y_test_genres, y_pred_genres_xgb_p, average='macro')"
      ]
    },
    {
      "attachments": {},
      "cell_type": "markdown",
      "metadata": {},
      "source": [
        "RL"
      ]
    },
    {
      "cell_type": "code",
      "execution_count": 41,
      "metadata": {},
      "outputs": [
        {
          "data": {
            "text/plain": [
              "0.7941351379552207"
            ]
          },
          "execution_count": 41,
          "metadata": {},
          "output_type": "execute_result"
        }
      ],
      "source": [
        "from sklearn.linear_model import LogisticRegression\n",
        "\n",
        "lr = LogisticRegression(solver='liblinear', penalty='l1')\n",
        "clf = OneVsRestClassifier(lr)\n",
        "\n",
        "# fit model on train data\n",
        "clf.fit(X_train, y_train_genres)\n",
        "\n",
        "# predict probabilities\n",
        "y_pred_prob = clf.predict_proba(X_test)\n",
        "\n",
        "# # Impresión del desempeño del modelo\n",
        "roc_auc_score(y_test_genres, y_pred_prob, average='macro')"
      ]
    },
    {
      "cell_type": "code",
      "execution_count": 42,
      "metadata": {},
      "outputs": [
        {
          "data": {
            "text/plain": [
              "0.7970895797511588"
            ]
          },
          "execution_count": 42,
          "metadata": {},
          "output_type": "execute_result"
        }
      ],
      "source": [
        "lr = LogisticRegression(solver='liblinear', penalty='l2')\n",
        "clf = OneVsRestClassifier(lr)\n",
        "\n",
        "# fit model on train data\n",
        "clf.fit(X_train, y_train_genres)\n",
        "\n",
        "# predict probabilities\n",
        "y_pred_prob = clf.predict_proba(X_test)\n",
        "\n",
        "# # Impresión del desempeño del modelo\n",
        "roc_auc_score(y_test_genres, y_pred_prob, average='macro')"
      ]
    },
    {
      "attachments": {},
      "cell_type": "markdown",
      "metadata": {},
      "source": [
        "Resultados de los modelos\n",
        "\n",
        "\n",
        "Forma        |Modelo                        | AUC      |\n",
        "-------------|------------------------------|----------|\n",
        " 1 Forma     |Random Forest Sin optimizar   | 0.7423   |\n",
        " 1 Forma     |Random Forest con parámetros  | 0.7719   |\n",
        " 1 Forma     |Random Forest con GridSearch  | 0.7900   |\n",
        " 1 Forma     |XGBoost  Sin optimizar        | 0.7970   |\n",
        " 1 Forma     |XGBoost  con parámetros       | 0.8009   |\n",
        " 1 Forma     |XGBoost  con GridSearch       | 0.8100   |\n",
        " 1 Forma     |Regresión Logística  (L1)     | 0.7941   |\n",
        " 1 Forma     |Regresión Logística  (L2)     | 0.7970   |"
      ]
    },
    {
      "attachments": {},
      "cell_type": "markdown",
      "metadata": {},
      "source": [
        "## 2 Forma  TfidfVectorizer(min_df=3, max_features=9000)"
      ]
    },
    {
      "cell_type": "code",
      "execution_count": 44,
      "metadata": {},
      "outputs": [
        {
          "data": {
            "text/plain": [
              "(7894, 9000)"
            ]
          },
          "execution_count": 44,
          "metadata": {},
          "output_type": "execute_result"
        }
      ],
      "source": [
        "from sklearn.feature_extraction.text import TfidfVectorizer\n",
        "vect = TfidfVectorizer(min_df=3, max_features=9000)\n",
        "X_dtm = vect.fit_transform(dataTraining['plot_limpio'])\n",
        "X_dtm.shape"
      ]
    },
    {
      "cell_type": "code",
      "execution_count": 45,
      "metadata": {},
      "outputs": [],
      "source": [
        "# Separación de variables predictoras (X) y variable de interés (y) en set de entrenamiento y test usandola función train_test_split\n",
        "X_train, X_test, y_train_genres, y_test_genres = train_test_split(X_dtm, y_genres, test_size=0.33, random_state=42)"
      ]
    },
    {
      "attachments": {},
      "cell_type": "markdown",
      "metadata": {},
      "source": [
        "RF"
      ]
    },
    {
      "cell_type": "code",
      "execution_count": 46,
      "metadata": {},
      "outputs": [
        {
          "data": {
            "text/plain": [
              "0.8035258469063482"
            ]
          },
          "execution_count": 46,
          "metadata": {},
          "output_type": "execute_result"
        }
      ],
      "source": [
        "clf = OneVsRestClassifier(RandomForestClassifier(n_jobs=-1, random_state=42))\n",
        "clf.fit(X_train, y_train_genres)\n",
        "\n",
        "# Predicción del modelo de clasificación\n",
        "y_pred_genres_rf = clf.predict_proba(X_test)\n",
        "\n",
        "# Impresión del desempeño del modelo\n",
        "roc_auc_score(y_test_genres, y_pred_genres_rf, average='macro')"
      ]
    },
    {
      "cell_type": "code",
      "execution_count": 47,
      "metadata": {},
      "outputs": [
        {
          "data": {
            "text/plain": [
              "0.8127617727802602"
            ]
          },
          "execution_count": 47,
          "metadata": {},
          "output_type": "execute_result"
        }
      ],
      "source": [
        "\n",
        "clf = OneVsRestClassifier(RandomForestClassifier(n_jobs=-1, n_estimators=100, max_depth=10, random_state=42))\n",
        "clf.fit(X_train, y_train_genres)\n",
        "\n",
        "# Predicción del modelo de clasificación\n",
        "y_pred_genres_rf = clf.predict_proba(X_test)\n",
        "\n",
        "# Impresión del desempeño del modelo\n",
        "roc_auc_score(y_test_genres, y_pred_genres_rf, average='macro')"
      ]
    },
    {
      "cell_type": "code",
      "execution_count": null,
      "metadata": {},
      "outputs": [],
      "source": [
        "# Optimización con GridSearchCV\n",
        "# Definir los parámetros que deseas probar\n",
        "param_grid = {\n",
        "    'estimator__n_estimators': [100, 200, 300],\n",
        "    'estimator__max_depth': [5, 10, 15]\n",
        "}\n",
        "\n",
        "# Crear el clasificador y el objeto GridSearchCV\n",
        "clf2 = OneVsRestClassifier(RandomForestClassifier())\n",
        "grid_search = GridSearchCV(clf2, param_grid, cv=5)\n",
        "\n",
        "# Entrenar el clasificador con GridSearchCV\n",
        "grid_search.fit(X_train, y_train_genres)\n",
        "\n",
        "# Obtener los mejores parámetros y el mejor resultado\n",
        "best_params = grid_search.best_params_\n",
        "best_score = grid_search.best_score_\n",
        "\n",
        "print(\"Mejores parámetros encontrados: \", best_params)\n",
        "print(\"Mejor puntuación encontrada: {:.2f}\".format(best_score))"
      ]
    },
    {
      "cell_type": "code",
      "execution_count": null,
      "metadata": {},
      "outputs": [],
      "source": [
        "# Entrenar el clasificador con los mejores parámetros\n",
        "clf2 = OneVsRestClassifier(RandomForestClassifier(n_estimators=best_params['estimator__n_estimators'], max_depth=best_params['estimator__max_depth']))\n",
        "clf2.fit(X_train, y_train_genres)\n",
        "\n",
        "\n",
        "# Predicción del modelo de clasificación\n",
        "y_pred_genres_rf2 = clf2.predict_proba(X_test)\n",
        "\n",
        "# Impresión del desempeño del modelo\n",
        "roc_auc_score(y_test_genres, y_pred_genres_rf2, average='macro')"
      ]
    },
    {
      "attachments": {},
      "cell_type": "markdown",
      "metadata": {},
      "source": [
        "XGBoost"
      ]
    },
    {
      "cell_type": "code",
      "execution_count": 48,
      "metadata": {},
      "outputs": [],
      "source": [
        "from xgboost import XGBClassifier\n",
        "from sklearn.model_selection import GridSearchCV\n",
        "from sklearn.multiclass import OneVsRestClassifier\n",
        "import matplotlib.pyplot as plt\n",
        "import seaborn as sns"
      ]
    },
    {
      "cell_type": "code",
      "execution_count": 49,
      "metadata": {},
      "outputs": [
        {
          "data": {
            "text/plain": [
              "0.8175299619675972"
            ]
          },
          "execution_count": 49,
          "metadata": {},
          "output_type": "execute_result"
        }
      ],
      "source": [
        "num_classes = len(np.unique(y_train_genres))\n",
        "xgb_p = OneVsRestClassifier(XGBClassifier(objective='multi:softmax', num_class=num_classes, n_jobs=-1, random_state=42))\n",
        "\n",
        "xgb_p.fit(X_train, y_train_genres)\n",
        "\n",
        "# Predicción del modelo de clasificación\n",
        "y_pred_genres_xgb_p = xgb_p.predict_proba(X_test)\n",
        "\n",
        "# Impresión del desempeño del modelo\n",
        "roc_auc_score(y_test_genres, y_pred_genres_xgb_p, average='macro')"
      ]
    },
    {
      "cell_type": "code",
      "execution_count": 50,
      "metadata": {},
      "outputs": [
        {
          "data": {
            "text/plain": [
              "0.817741632192174"
            ]
          },
          "execution_count": 50,
          "metadata": {},
          "output_type": "execute_result"
        }
      ],
      "source": [
        "num_classes = len(np.unique(y_train_genres))\n",
        "xgb_p = OneVsRestClassifier(XGBClassifier(objective='multi:softmax', num_class=num_classes, learning_rate=0.19,n_estimators=100, n_jobs=-1, random_state=42))\n",
        "\n",
        "xgb_p.fit(X_train, y_train_genres)\n",
        "\n",
        "# Predicción del modelo de clasificación\n",
        "y_pred_genres_xgb_p = xgb_p.predict_proba(X_test)\n",
        "\n",
        "# Impresión del desempeño del modelo\n",
        "roc_auc_score(y_test_genres, y_pred_genres_xgb_p, average='macro')"
      ]
    },
    {
      "cell_type": "code",
      "execution_count": null,
      "metadata": {},
      "outputs": [],
      "source": [
        "from sklearn.model_selection import GridSearchCV\n",
        "from xgboost import XGBClassifier\n",
        "from sklearn.metrics import roc_auc_score\n",
        "\n",
        "# Definir los parámetros que deseas probar\n",
        "param_grid = {\n",
        "    'estimator__learning_rate': [0.01, 0.1, 0.2],  # Prueba diferentes tasas de aprendizaje\n",
        "    'estimator__n_estimators': [100, 200, 300],  # Prueba diferentes números de estimadores\n",
        "    'estimator__max_depth': [3, 5, 7],  # Prueba diferentes profundidades máximas\n",
        "    'estimator__subsample': [0.8, 1.0],  # Prueba diferentes proporciones de submuestreo\n",
        "    'estimator__colsample_bytree': [0.8, 1.0],  # Prueba diferentes proporciones de columnas utilizadas por árbol\n",
        "    'estimator__gamma': [0, 0.1, 0.2]  # Prueba diferentes valores de gamma\n",
        "}\n",
        "\n",
        "# Crear el clasificador y el objeto GridSearchCV\n",
        "num_classes = len(np.unique(y_train_genres))\n",
        "xgb_p = OneVsRestClassifier(XGBClassifier(objective='multi:softmax', num_class=num_classes, random_state=42))\n",
        "grid_search = GridSearchCV(xgb_p, param_grid, cv=5)\n",
        "\n",
        "# Entrenar el clasificador con GridSearchCV\n",
        "grid_search.fit(X_train, y_train_genres)\n",
        "\n",
        "# Obtener los mejores parámetros y el mejor resultado\n",
        "best_params = grid_search.best_params_\n",
        "best_score = grid_search.best_score_\n",
        "\n",
        "print(\"Mejores parámetros encontrados: \", best_params)\n",
        "print(\"Mejor puntuación encontrada: {:.2f}\".format(best_score))\n",
        "\n",
        "# Entrenar el clasificador con los mejores parámetros\n",
        "xgb_p = OneVsRestClassifier(XGBClassifier(objective='multi:softmax', num_class=num_classes, random_state=42, **best_params))\n",
        "xgb_p.fit(X_train, y_train_genres)\n",
        "\n",
        "# Predicción del modelo de clasificación\n",
        "y_pred_genres_xgb_p = xgb_p.predict_proba(X_test)\n",
        "\n",
        "# Impresión del desempeño del modelo\n",
        "roc_auc_score(y_test_genres, y_pred_genres_xgb_p, average='macro')"
      ]
    },
    {
      "attachments": {},
      "cell_type": "markdown",
      "metadata": {},
      "source": [
        "LR"
      ]
    },
    {
      "cell_type": "code",
      "execution_count": 51,
      "metadata": {},
      "outputs": [
        {
          "data": {
            "text/plain": [
              "0.7890145401906041"
            ]
          },
          "execution_count": 51,
          "metadata": {},
          "output_type": "execute_result"
        }
      ],
      "source": [
        "from sklearn.linear_model import LogisticRegression\n",
        "\n",
        "lr = LogisticRegression(solver='liblinear', penalty='l1')\n",
        "clf = OneVsRestClassifier(lr)\n",
        "\n",
        "# fit model on train data\n",
        "clf.fit(X_train, y_train_genres)\n",
        "\n",
        "# predict probabilities\n",
        "y_pred_prob = clf.predict_proba(X_test)\n",
        "\n",
        "# # Impresión del desempeño del modelo\n",
        "roc_auc_score(y_test_genres, y_pred_prob, average='macro')"
      ]
    },
    {
      "cell_type": "code",
      "execution_count": 52,
      "metadata": {},
      "outputs": [
        {
          "data": {
            "text/plain": [
              "0.8786574847883614"
            ]
          },
          "execution_count": 52,
          "metadata": {},
          "output_type": "execute_result"
        }
      ],
      "source": [
        "from sklearn.linear_model import LogisticRegression\n",
        "\n",
        "lr = LogisticRegression(solver='liblinear', penalty='l2')\n",
        "clf = OneVsRestClassifier(lr)\n",
        "\n",
        "# fit model on train data\n",
        "clf.fit(X_train, y_train_genres)\n",
        "\n",
        "# predict probabilities\n",
        "y_pred_prob = clf.predict_proba(X_test)\n",
        "\n",
        "# # Impresión del desempeño del modelo\n",
        "roc_auc_score(y_test_genres, y_pred_prob, average='macro')"
      ]
    },
    {
      "attachments": {},
      "cell_type": "markdown",
      "metadata": {},
      "source": [
        "Resultados de los modelos\n",
        "\n",
        "\n",
        "Forma        |Modelo                        | AUC      |\n",
        "-------------|------------------------------|----------|\n",
        " 2 Forma     |Random Forest Sin optimizar   | 0.8035   |\n",
        " 2 Forma     |Random Forest con parámetros  | 0.8127   |\n",
        " 2 Forma     |Random Forest con GridSearch  | 0.8070   |\n",
        " 2 Forma     |XGBoost  Sin optimizar        | 0.8175   |\n",
        " 2 Forma     |XGBoost  con parámetros       | 0.8177   |\n",
        " 2 Forma     |XGBoost  con GridSearch       | 0.8205   |\n",
        " 2 Forma     |Regresión Logística (L1)      | 0.7890   |\n",
        " 2 Forma     |Regresión Logística (L2)      | 0.8786   |"
      ]
    },
    {
      "attachments": {},
      "cell_type": "markdown",
      "metadata": {},
      "source": [
        "## 3 Forma  TfidfVectorizer(max_df=0.2, sublinear_tf=True, smooth_idf=False, max_features=20000)"
      ]
    },
    {
      "cell_type": "code",
      "execution_count": 53,
      "metadata": {},
      "outputs": [
        {
          "data": {
            "text/plain": [
              "(7894, 20000)"
            ]
          },
          "execution_count": 53,
          "metadata": {},
          "output_type": "execute_result"
        }
      ],
      "source": [
        "vect = TfidfVectorizer(max_df=0.2, sublinear_tf=True, smooth_idf=False, max_features=20000)\n",
        "X_dtm = vect.fit_transform(dataTraining['plot_limpio'])\n",
        "X_dtm.shape"
      ]
    },
    {
      "cell_type": "code",
      "execution_count": 54,
      "metadata": {},
      "outputs": [],
      "source": [
        "# Separación de variables predictoras (X) y variable de interés (y) en set de entrenamiento y test usandola función train_test_split\n",
        "X_train, X_test, y_train_genres, y_test_genres = train_test_split(X_dtm, y_genres, test_size=0.33, random_state=42)"
      ]
    },
    {
      "attachments": {},
      "cell_type": "markdown",
      "metadata": {},
      "source": [
        "RF"
      ]
    },
    {
      "cell_type": "code",
      "execution_count": 55,
      "metadata": {},
      "outputs": [
        {
          "data": {
            "text/plain": [
              "0.8053650178768135"
            ]
          },
          "execution_count": 55,
          "metadata": {},
          "output_type": "execute_result"
        }
      ],
      "source": [
        "clf = OneVsRestClassifier(RandomForestClassifier(n_jobs=-1, random_state=42))\n",
        "clf.fit(X_train, y_train_genres)\n",
        "\n",
        "# Predicción del modelo de clasificación\n",
        "y_pred_genres_rf = clf.predict_proba(X_test)\n",
        "\n",
        "# Impresión del desempeño del modelo\n",
        "roc_auc_score(y_test_genres, y_pred_genres_rf, average='macro')"
      ]
    },
    {
      "cell_type": "code",
      "execution_count": 56,
      "metadata": {},
      "outputs": [
        {
          "data": {
            "text/plain": [
              "0.7928198745741016"
            ]
          },
          "execution_count": 56,
          "metadata": {},
          "output_type": "execute_result"
        }
      ],
      "source": [
        "clf = OneVsRestClassifier(RandomForestClassifier(n_jobs=-1, n_estimators=100, max_depth=10, random_state=42))\n",
        "clf.fit(X_train, y_train_genres)\n",
        "\n",
        "# Predicción del modelo de clasificación\n",
        "y_pred_genres_rf = clf.predict_proba(X_test)\n",
        "\n",
        "# Impresión del desempeño del modelo\n",
        "roc_auc_score(y_test_genres, y_pred_genres_rf, average='macro')"
      ]
    },
    {
      "cell_type": "code",
      "execution_count": null,
      "metadata": {},
      "outputs": [],
      "source": [
        "# Optimización con GridSearchCV\n",
        "# Definir los parámetros que deseas probar\n",
        "param_grid = {\n",
        "    'estimator__n_estimators': [100, 200, 300],\n",
        "    'estimator__max_depth': [5, 10, 15]\n",
        "}\n",
        "\n",
        "# Crear el clasificador y el objeto GridSearchCV\n",
        "clf2 = OneVsRestClassifier(RandomForestClassifier())\n",
        "grid_search = GridSearchCV(clf2, param_grid, cv=5)\n",
        "\n",
        "# Entrenar el clasificador con GridSearchCV\n",
        "grid_search.fit(X_train, y_train_genres)\n",
        "\n",
        "# Obtener los mejores parámetros y el mejor resultado\n",
        "best_params = grid_search.best_params_\n",
        "best_score = grid_search.best_score_\n",
        "\n",
        "print(\"Mejores parámetros encontrados: \", best_params)\n",
        "print(\"Mejor puntuación encontrada: {:.2f}\".format(best_score))"
      ]
    },
    {
      "cell_type": "code",
      "execution_count": null,
      "metadata": {},
      "outputs": [],
      "source": [
        "# Entrenar el clasificador con los mejores parámetros\n",
        "clf2 = OneVsRestClassifier(RandomForestClassifier(n_estimators=best_params['estimator__n_estimators'], max_depth=best_params['estimator__max_depth']))\n",
        "clf2.fit(X_train, y_train_genres)\n",
        "\n",
        "\n",
        "# Predicción del modelo de clasificación\n",
        "y_pred_genres_rf2 = clf2.predict_proba(X_test)\n",
        "\n",
        "# Impresión del desempeño del modelo\n",
        "roc_auc_score(y_test_genres, y_pred_genres_rf2, average='macro')"
      ]
    },
    {
      "attachments": {},
      "cell_type": "markdown",
      "metadata": {},
      "source": [
        "XGBoost"
      ]
    },
    {
      "cell_type": "code",
      "execution_count": 57,
      "metadata": {},
      "outputs": [
        {
          "data": {
            "text/plain": [
              "0.8204685848519356"
            ]
          },
          "execution_count": 57,
          "metadata": {},
          "output_type": "execute_result"
        }
      ],
      "source": [
        "num_classes = len(np.unique(y_train_genres))\n",
        "xgb_p = OneVsRestClassifier(XGBClassifier(objective='multi:softmax', num_class=num_classes, n_jobs=-1, random_state=42))\n",
        "\n",
        "xgb_p.fit(X_train, y_train_genres)\n",
        "\n",
        "# Predicción del modelo de clasificación\n",
        "y_pred_genres_xgb_p = xgb_p.predict_proba(X_test)\n",
        "\n",
        "# Impresión del desempeño del modelo\n",
        "roc_auc_score(y_test_genres, y_pred_genres_xgb_p, average='macro')"
      ]
    },
    {
      "cell_type": "code",
      "execution_count": 58,
      "metadata": {},
      "outputs": [
        {
          "data": {
            "text/plain": [
              "0.822602656090598"
            ]
          },
          "execution_count": 58,
          "metadata": {},
          "output_type": "execute_result"
        }
      ],
      "source": [
        "num_classes = len(np.unique(y_train_genres))\n",
        "xgb_p = OneVsRestClassifier(XGBClassifier(objective='multi:softmax', num_class=num_classes, learning_rate=0.19,n_estimators=100, n_jobs=-1, random_state=42))\n",
        "\n",
        "xgb_p.fit(X_train, y_train_genres)\n",
        "\n",
        "# Predicción del modelo de clasificación\n",
        "y_pred_genres_xgb_p = xgb_p.predict_proba(X_test)\n",
        "\n",
        "# Impresión del desempeño del modelo\n",
        "roc_auc_score(y_test_genres, y_pred_genres_xgb_p, average='macro')"
      ]
    },
    {
      "cell_type": "code",
      "execution_count": null,
      "metadata": {},
      "outputs": [],
      "source": [
        "from sklearn.model_selection import GridSearchCV\n",
        "from xgboost import XGBClassifier\n",
        "from sklearn.metrics import roc_auc_score\n",
        "\n",
        "# Definir los parámetros que deseas probar\n",
        "param_grid = {\n",
        "    'estimator__learning_rate': [0.01, 0.1, 0.2],  # Prueba diferentes tasas de aprendizaje\n",
        "    'estimator__n_estimators': [100, 200, 300],  # Prueba diferentes números de estimadores\n",
        "    'estimator__max_depth': [3, 5, 7],  # Prueba diferentes profundidades máximas\n",
        "    'estimator__subsample': [0.8, 1.0],  # Prueba diferentes proporciones de submuestreo\n",
        "    'estimator__colsample_bytree': [0.8, 1.0],  # Prueba diferentes proporciones de columnas utilizadas por árbol\n",
        "    'estimator__gamma': [0, 0.1, 0.2]  # Prueba diferentes valores de gamma\n",
        "}\n",
        "\n",
        "# Crear el clasificador y el objeto GridSearchCV\n",
        "num_classes = len(np.unique(y_train_genres))\n",
        "xgb_p = OneVsRestClassifier(XGBClassifier(objective='multi:softmax', num_class=num_classes, random_state=42))\n",
        "grid_search = GridSearchCV(xgb_p, param_grid, cv=5)\n",
        "\n",
        "# Entrenar el clasificador con GridSearchCV\n",
        "grid_search.fit(X_train, y_train_genres)\n",
        "\n",
        "# Obtener los mejores parámetros y el mejor resultado\n",
        "best_params = grid_search.best_params_\n",
        "best_score = grid_search.best_score_\n",
        "\n",
        "print(\"Mejores parámetros encontrados: \", best_params)\n",
        "print(\"Mejor puntuación encontrada: {:.2f}\".format(best_score))\n",
        "\n",
        "# Entrenar el clasificador con los mejores parámetros\n",
        "xgb_p = OneVsRestClassifier(XGBClassifier(objective='multi:softmax', num_class=num_classes, random_state=42, **best_params))\n",
        "xgb_p.fit(X_train, y_train_genres)\n",
        "\n",
        "# Predicción del modelo de clasificación\n",
        "y_pred_genres_xgb_p = xgb_p.predict_proba(X_test)\n",
        "\n",
        "# Impresión del desempeño del modelo\n",
        "roc_auc_score(y_test_genres, y_pred_genres_xgb_p, average='macro')"
      ]
    },
    {
      "attachments": {},
      "cell_type": "markdown",
      "metadata": {},
      "source": [
        "LR"
      ]
    },
    {
      "cell_type": "code",
      "execution_count": 59,
      "metadata": {},
      "outputs": [
        {
          "data": {
            "text/plain": [
              "0.7825841059400348"
            ]
          },
          "execution_count": 59,
          "metadata": {},
          "output_type": "execute_result"
        }
      ],
      "source": [
        "lr = LogisticRegression(solver='liblinear', penalty='l1')\n",
        "clf = OneVsRestClassifier(lr)\n",
        "\n",
        "# fit model on train data\n",
        "clf.fit(X_train, y_train_genres)\n",
        "\n",
        "# predict probabilities\n",
        "y_pred_prob = clf.predict_proba(X_test)\n",
        "\n",
        "# # Impresión del desempeño del modelo\n",
        "roc_auc_score(y_test_genres, y_pred_prob, average='macro')"
      ]
    },
    {
      "cell_type": "code",
      "execution_count": 60,
      "metadata": {},
      "outputs": [
        {
          "data": {
            "text/plain": [
              "0.8880733667026636"
            ]
          },
          "execution_count": 60,
          "metadata": {},
          "output_type": "execute_result"
        }
      ],
      "source": [
        "from sklearn.linear_model import LogisticRegression\n",
        "\n",
        "lr = LogisticRegression(solver='liblinear', penalty='l2')\n",
        "clf = OneVsRestClassifier(lr)\n",
        "\n",
        "# fit model on train data\n",
        "clf.fit(X_train, y_train_genres)\n",
        "\n",
        "# predict probabilities\n",
        "y_pred_prob = clf.predict_proba(X_test)\n",
        "\n",
        "# # Impresión del desempeño del modelo\n",
        "roc_auc_score(y_test_genres, y_pred_prob, average='macro')"
      ]
    },
    {
      "attachments": {},
      "cell_type": "markdown",
      "metadata": {},
      "source": [
        "Forma        |Modelo                        | AUC      |\n",
        "-------------|------------------------------|----------|\n",
        " 3 Forma     |Random Forest Sin optimizar   | 0.8053   |\n",
        " 3 Forma     |Random Forest con parámetros  | 0.7928   |\n",
        " 3 Forma     |Random Forest con GridSearch  | 0.7625   |\n",
        " 3 Forma     |XGBoost  Sin optimizar        | 0.8204   |\n",
        " 3 Forma     |XGBoost  con parámetros       | 0.8226   |\n",
        " 3 Forma     |XGBoost  con GridSearch       | 0.8356   |\n",
        " 3 Forma     |Regresión Logística  (L1)     | 0.7825   |\n",
        " 3 Forma     |Regresión Logística  (L2)     | 0.8880   |"
      ]
    },
    {
      "attachments": {},
      "cell_type": "markdown",
      "metadata": {},
      "source": [
        "## 4 Forma  TfidfVectorizer(max_df=0.2, sublinear_tf=True, smooth_idf=True, max_features=20000)"
      ]
    },
    {
      "cell_type": "code",
      "execution_count": 61,
      "metadata": {},
      "outputs": [
        {
          "data": {
            "text/plain": [
              "(7894, 20000)"
            ]
          },
          "execution_count": 61,
          "metadata": {},
          "output_type": "execute_result"
        }
      ],
      "source": [
        "from sklearn.feature_extraction.text import TfidfVectorizer\n",
        "vect = TfidfVectorizer(max_df=0.2, sublinear_tf=True, smooth_idf=True, max_features=20000)\n",
        "X_dtm = vect.fit_transform(dataTraining['plot_limpio'])\n",
        "X_dtm.shape"
      ]
    },
    {
      "cell_type": "code",
      "execution_count": 62,
      "metadata": {},
      "outputs": [],
      "source": [
        "# Separación de variables predictoras (X) y variable de interés (y) en set de entrenamiento y test usandola función train_test_split\n",
        "X_train, X_test, y_train_genres, y_test_genres = train_test_split(X_dtm, y_genres, test_size=0.33, random_state=42)"
      ]
    },
    {
      "attachments": {},
      "cell_type": "markdown",
      "metadata": {},
      "source": [
        "RF"
      ]
    },
    {
      "cell_type": "code",
      "execution_count": 63,
      "metadata": {},
      "outputs": [
        {
          "data": {
            "text/plain": [
              "0.8076296374102103"
            ]
          },
          "execution_count": 63,
          "metadata": {},
          "output_type": "execute_result"
        }
      ],
      "source": [
        "clf = OneVsRestClassifier(RandomForestClassifier(n_jobs=-1, random_state=42))\n",
        "clf.fit(X_train, y_train_genres)\n",
        "\n",
        "# Predicción del modelo de clasificación\n",
        "y_pred_genres_rf = clf.predict_proba(X_test)\n",
        "\n",
        "# Impresión del desempeño del modelo\n",
        "roc_auc_score(y_test_genres, y_pred_genres_rf, average='macro')"
      ]
    },
    {
      "cell_type": "code",
      "execution_count": 64,
      "metadata": {},
      "outputs": [
        {
          "data": {
            "text/plain": [
              "0.7954099251842868"
            ]
          },
          "execution_count": 64,
          "metadata": {},
          "output_type": "execute_result"
        }
      ],
      "source": [
        "clf = OneVsRestClassifier(RandomForestClassifier(n_jobs=-1, n_estimators=100, max_depth=10, random_state=42))\n",
        "clf.fit(X_train, y_train_genres)\n",
        "\n",
        "# Predicción del modelo de clasificación\n",
        "y_pred_genres_rf = clf.predict_proba(X_test)\n",
        "\n",
        "# Impresión del desempeño del modelo\n",
        "roc_auc_score(y_test_genres, y_pred_genres_rf, average='macro')"
      ]
    },
    {
      "cell_type": "code",
      "execution_count": null,
      "metadata": {},
      "outputs": [],
      "source": [
        "# Optimización con GridSearchCV\n",
        "# Definir los parámetros que deseas probar\n",
        "param_grid = {\n",
        "    'estimator__n_estimators': [100, 200, 300],\n",
        "    'estimator__max_depth': [5, 10, 15]\n",
        "}\n",
        "\n",
        "# Crear el clasificador y el objeto GridSearchCV\n",
        "clf2 = OneVsRestClassifier(RandomForestClassifier())\n",
        "grid_search = GridSearchCV(clf2, param_grid, cv=5)\n",
        "\n",
        "# Entrenar el clasificador con GridSearchCV\n",
        "grid_search.fit(X_train, y_train_genres)\n",
        "\n",
        "# Obtener los mejores parámetros y el mejor resultado\n",
        "best_params = grid_search.best_params_\n",
        "best_score = grid_search.best_score_\n",
        "\n",
        "print(\"Mejores parámetros encontrados: \", best_params)\n",
        "print(\"Mejor puntuación encontrada: {:.2f}\".format(best_score))"
      ]
    },
    {
      "cell_type": "code",
      "execution_count": null,
      "metadata": {},
      "outputs": [],
      "source": [
        "# Entrenar el clasificador con los mejores parámetros\n",
        "clf2 = OneVsRestClassifier(RandomForestClassifier(n_estimators=best_params['estimator__n_estimators'], max_depth=best_params['estimator__max_depth']))\n",
        "clf2.fit(X_train, y_train_genres)\n",
        "\n",
        "\n",
        "# Predicción del modelo de clasificación\n",
        "y_pred_genres_rf2 = clf2.predict_proba(X_test)\n",
        "\n",
        "# Impresión del desempeño del modelo\n",
        "roc_auc_score(y_test_genres, y_pred_genres_rf2, average='macro')"
      ]
    },
    {
      "attachments": {},
      "cell_type": "markdown",
      "metadata": {},
      "source": [
        "XGBoot"
      ]
    },
    {
      "cell_type": "code",
      "execution_count": 65,
      "metadata": {},
      "outputs": [
        {
          "data": {
            "text/plain": [
              "0.8207120577031968"
            ]
          },
          "execution_count": 65,
          "metadata": {},
          "output_type": "execute_result"
        }
      ],
      "source": [
        "num_classes = len(np.unique(y_train_genres))\n",
        "xgb_p = OneVsRestClassifier(XGBClassifier(objective='multi:softmax', num_class=num_classes, n_jobs=-1, random_state=42))\n",
        "\n",
        "xgb_p.fit(X_train, y_train_genres)\n",
        "\n",
        "# Predicción del modelo de clasificación\n",
        "y_pred_genres_xgb_p = xgb_p.predict_proba(X_test)\n",
        "\n",
        "# Impresión del desempeño del modelo\n",
        "roc_auc_score(y_test_genres, y_pred_genres_xgb_p, average='macro')"
      ]
    },
    {
      "cell_type": "code",
      "execution_count": 66,
      "metadata": {},
      "outputs": [
        {
          "data": {
            "text/plain": [
              "0.821255083052935"
            ]
          },
          "execution_count": 66,
          "metadata": {},
          "output_type": "execute_result"
        }
      ],
      "source": [
        "num_classes = len(np.unique(y_train_genres))\n",
        "xgb_p = OneVsRestClassifier(XGBClassifier(objective='multi:softmax', num_class=num_classes, learning_rate=0.19,n_estimators=100, n_jobs=-1, random_state=42))\n",
        "\n",
        "xgb_p.fit(X_train, y_train_genres)\n",
        "\n",
        "# Predicción del modelo de clasificación\n",
        "y_pred_genres_xgb_p = xgb_p.predict_proba(X_test)\n",
        "\n",
        "# Impresión del desempeño del modelo\n",
        "roc_auc_score(y_test_genres, y_pred_genres_xgb_p, average='macro')"
      ]
    },
    {
      "cell_type": "code",
      "execution_count": null,
      "metadata": {},
      "outputs": [],
      "source": [
        "from sklearn.model_selection import GridSearchCV\n",
        "from xgboost import XGBClassifier\n",
        "from sklearn.metrics import roc_auc_score\n",
        "\n",
        "# Definir los parámetros que deseas probar\n",
        "param_grid = {\n",
        "    'estimator__learning_rate': [0.01, 0.1, 0.2],  # Prueba diferentes tasas de aprendizaje\n",
        "    'estimator__n_estimators': [100, 200, 300],  # Prueba diferentes números de estimadores\n",
        "    'estimator__max_depth': [3, 5, 7],  # Prueba diferentes profundidades máximas\n",
        "    'estimator__subsample': [0.8, 1.0],  # Prueba diferentes proporciones de submuestreo\n",
        "    'estimator__colsample_bytree': [0.8, 1.0],  # Prueba diferentes proporciones de columnas utilizadas por árbol\n",
        "    'estimator__gamma': [0, 0.1, 0.2]  # Prueba diferentes valores de gamma\n",
        "}\n",
        "\n",
        "# Crear el clasificador y el objeto GridSearchCV\n",
        "num_classes = len(np.unique(y_train_genres))\n",
        "xgb_p = OneVsRestClassifier(XGBClassifier(objective='multi:softmax', num_class=num_classes, random_state=42))\n",
        "grid_search = GridSearchCV(xgb_p, param_grid, cv=5)\n",
        "\n",
        "# Entrenar el clasificador con GridSearchCV\n",
        "grid_search.fit(X_train, y_train_genres)\n",
        "\n",
        "# Obtener los mejores parámetros y el mejor resultado\n",
        "best_params = grid_search.best_params_\n",
        "best_score = grid_search.best_score_\n",
        "\n",
        "print(\"Mejores parámetros encontrados: \", best_params)\n",
        "print(\"Mejor puntuación encontrada: {:.2f}\".format(best_score))\n",
        "\n",
        "# Entrenar el clasificador con los mejores parámetros\n",
        "xgb_p = OneVsRestClassifier(XGBClassifier(objective='multi:softmax', num_class=num_classes, random_state=42, **best_params))\n",
        "xgb_p.fit(X_train, y_train_genres)\n",
        "\n",
        "# Predicción del modelo de clasificación\n",
        "y_pred_genres_xgb_p = xgb_p.predict_proba(X_test)\n",
        "\n",
        "# Impresión del desempeño del modelo\n",
        "roc_auc_score(y_test_genres, y_pred_genres_xgb_p, average='macro')"
      ]
    },
    {
      "attachments": {},
      "cell_type": "markdown",
      "metadata": {},
      "source": [
        "LR"
      ]
    },
    {
      "cell_type": "code",
      "execution_count": 68,
      "metadata": {},
      "outputs": [
        {
          "data": {
            "text/plain": [
              "0.7836421417766996"
            ]
          },
          "execution_count": 68,
          "metadata": {},
          "output_type": "execute_result"
        }
      ],
      "source": [
        "lr = LogisticRegression(solver='liblinear', penalty='l1')\n",
        "clf = OneVsRestClassifier(lr)\n",
        "\n",
        "# fit model on train data\n",
        "clf.fit(X_train, y_train_genres)\n",
        "\n",
        "# predict probabilities\n",
        "y_pred_prob = clf.predict_proba(X_test)\n",
        "\n",
        "# # Impresión del desempeño del modelo\n",
        "roc_auc_score(y_test_genres, y_pred_prob, average='macro')"
      ]
    },
    {
      "cell_type": "code",
      "execution_count": 69,
      "metadata": {},
      "outputs": [
        {
          "data": {
            "text/plain": [
              "0.7335249401894988"
            ]
          },
          "execution_count": 69,
          "metadata": {},
          "output_type": "execute_result"
        }
      ],
      "source": [
        "from sklearn.linear_model import LogisticRegression\n",
        "from sklearn.multiclass import OneVsRestClassifier\n",
        "\n",
        "# Crear una instancia del estimador interno LogisticRegression con los mejores parámetros\n",
        "lr = LogisticRegression(solver='liblinear', penalty='l1', C=0.6)\n",
        "\n",
        "# Crear una instancia de OneVsRestClassifier con el estimador interno LogisticRegression\n",
        "clf = OneVsRestClassifier(lr)\n",
        "\n",
        "# Ajustar el modelo a los datos de entrenamiento\n",
        "clf.fit(X_train, y_train_genres)\n",
        "\n",
        "# predict probabilities\n",
        "y_pred_prob = clf.predict_proba(X_test)\n",
        "\n",
        "# # Impresión del desempeño del modelo\n",
        "roc_auc_score(y_test_genres, y_pred_prob, average='macro')"
      ]
    },
    {
      "cell_type": "code",
      "execution_count": 67,
      "metadata": {},
      "outputs": [
        {
          "data": {
            "text/plain": [
              "0.8880354151022415"
            ]
          },
          "execution_count": 67,
          "metadata": {},
          "output_type": "execute_result"
        }
      ],
      "source": [
        "from sklearn.linear_model import LogisticRegression\n",
        "\n",
        "lr = LogisticRegression(solver='liblinear', penalty='l2')\n",
        "clf = OneVsRestClassifier(lr)\n",
        "\n",
        "# fit model on train data\n",
        "clf.fit(X_train, y_train_genres)\n",
        "\n",
        "# predict probabilities\n",
        "y_pred_prob = clf.predict_proba(X_test)\n",
        "\n",
        "# # Impresión del desempeño del modelo\n",
        "roc_auc_score(y_test_genres, y_pred_prob, average='macro')"
      ]
    },
    {
      "cell_type": "code",
      "execution_count": 70,
      "metadata": {},
      "outputs": [
        {
          "data": {
            "text/plain": [
              "0.888492754280937"
            ]
          },
          "execution_count": 70,
          "metadata": {},
          "output_type": "execute_result"
        }
      ],
      "source": [
        "from sklearn.linear_model import LogisticRegression\n",
        "from sklearn.multiclass import OneVsRestClassifier\n",
        "\n",
        "# Crear una instancia del estimador interno LogisticRegression con los mejores parámetros\n",
        "lr = LogisticRegression(solver='liblinear', penalty='l2', C=0.6)\n",
        "\n",
        "# Crear una instancia de OneVsRestClassifier con el estimador interno LogisticRegression\n",
        "clf = OneVsRestClassifier(lr)\n",
        "\n",
        "# Ajustar el modelo a los datos de entrenamiento\n",
        "clf.fit(X_train, y_train_genres)\n",
        "\n",
        "# predict probabilities\n",
        "y_pred_prob = clf.predict_proba(X_test)\n",
        "\n",
        "# # Impresión del desempeño del modelo\n",
        "roc_auc_score(y_test_genres, y_pred_prob, average='macro')"
      ]
    },
    {
      "attachments": {},
      "cell_type": "markdown",
      "metadata": {},
      "source": [
        "Forma        |Modelo                        | AUC      |\n",
        "-------------|------------------------------|----------|\n",
        " 4 Forma     |Random Forest Sin optimizar   | 0.8076   |\n",
        " 4 Forma     |Random Forest con parámetros  | 0.7954   |\n",
        " 4 Forma     |Random Forest con GridSearch  | 0.8500   |\n",
        " 4 Forma     |XGBoost  Sin optimizar        | 0.8207   |\n",
        " 4 Forma     |XGBoost  con parámetros       | 0.8212   |\n",
        " 4 Forma     |XGBoost  con GridSearch       | 0.8423   |\n",
        " 4 Forma     |Regresión Logística (L1)      | 0.7833   |\n",
        " 4 Forma     |Regresión Logística (L2)      | 0.8880   |\n",
        " 4 Forma     |Regresión Logística (L2,C=0.6)| 0.8884   |"
      ]
    },
    {
      "attachments": {},
      "cell_type": "markdown",
      "metadata": {},
      "source": [
        "## 5 Forma  TfidfVectorizer(max_df=0.2, sublinear_tf=True, smooth_idf=True, max_features=20000) & Lematización"
      ]
    },
    {
      "cell_type": "code",
      "execution_count": 149,
      "metadata": {},
      "outputs": [],
      "source": [
        "from nltk.stem import WordNetLemmatizer\n",
        "from sklearn.feature_extraction.text import TfidfVectorizer\n",
        "import nltk\n",
        "#nltk.download('wordnet')\n",
        "\n",
        "wordnet_lemmatizer = WordNetLemmatizer()\n",
        "\n",
        "def lemmatize_text(text):\n",
        "    text = text.lower()\n",
        "    words = text.split()\n",
        "    return ' '.join([wordnet_lemmatizer.lemmatize(word) for word in words])"
      ]
    },
    {
      "cell_type": "code",
      "execution_count": 150,
      "metadata": {},
      "outputs": [],
      "source": [
        "dataTraining['plot_lemmatized'] = dataTraining['plot_limpio'].apply(lambda x: lemmatize_text(x))\n",
        "dataTesting['plot_lemmatized'] = dataTesting['plot_limpio'].apply(lambda x: lemmatize_text(x))"
      ]
    },
    {
      "cell_type": "code",
      "execution_count": 151,
      "metadata": {},
      "outputs": [
        {
          "data": {
            "text/plain": [
              "(7894, 20000)"
            ]
          },
          "execution_count": 151,
          "metadata": {},
          "output_type": "execute_result"
        }
      ],
      "source": [
        "# Vectorización del texto lematizado\n",
        "vect = TfidfVectorizer(max_df=0.2, sublinear_tf=True, smooth_idf=True, max_features=20000)\n",
        "X_dtm = vect.fit_transform(dataTraining['plot_lemmatized'])\n",
        "X_dtm.shape"
      ]
    },
    {
      "cell_type": "code",
      "execution_count": 74,
      "metadata": {},
      "outputs": [],
      "source": [
        "# Separación de variables predictoras (X) y variable de interés (y) en set de entrenamiento y test usandola función train_test_split\n",
        "X_train, X_test, y_train_genres, y_test_genres = train_test_split(X_dtm, y_genres, test_size=0.33, random_state=42)"
      ]
    },
    {
      "cell_type": "code",
      "execution_count": 77,
      "metadata": {},
      "outputs": [
        {
          "data": {
            "text/plain": [
              "0.804178149162702"
            ]
          },
          "execution_count": 77,
          "metadata": {},
          "output_type": "execute_result"
        }
      ],
      "source": [
        "clf = OneVsRestClassifier(RandomForestClassifier(n_jobs=-1, random_state=42))\n",
        "clf.fit(X_train, y_train_genres)\n",
        "\n",
        "# Predicción del modelo de clasificación\n",
        "y_pred_genres_rf = clf.predict_proba(X_test)\n",
        "\n",
        "# Impresión del desempeño del modelo\n",
        "roc_auc_score(y_test_genres, y_pred_genres_rf, average='macro')"
      ]
    },
    {
      "cell_type": "code",
      "execution_count": 78,
      "metadata": {},
      "outputs": [
        {
          "data": {
            "text/plain": [
              "0.8142690134187083"
            ]
          },
          "execution_count": 78,
          "metadata": {},
          "output_type": "execute_result"
        }
      ],
      "source": [
        "clf = OneVsRestClassifier(RandomForestClassifier(n_jobs=-1, n_estimators=100, max_depth=10, random_state=42))\n",
        "clf.fit(X_train, y_train_genres)\n",
        "\n",
        "# Predicción del modelo de clasificación\n",
        "y_pred_genres_rf = clf.predict_proba(X_test)\n",
        "\n",
        "# Impresión del desempeño del modelo\n",
        "roc_auc_score(y_test_genres, y_pred_genres_rf, average='macro')"
      ]
    },
    {
      "cell_type": "code",
      "execution_count": null,
      "metadata": {},
      "outputs": [],
      "source": [
        "# Optimización con GridSearchCV\n",
        "# Definir los parámetros que deseas probar\n",
        "param_grid = {\n",
        "    'estimator__n_estimators': [100, 200, 300],\n",
        "    'estimator__max_depth': [5, 10, 15]\n",
        "}\n",
        "\n",
        "# Crear el clasificador y el objeto GridSearchCV\n",
        "clf2 = OneVsRestClassifier(RandomForestClassifier())\n",
        "grid_search = GridSearchCV(clf2, param_grid, cv=5)\n",
        "\n",
        "# Entrenar el clasificador con GridSearchCV\n",
        "grid_search.fit(X_train, y_train_genres)\n",
        "\n",
        "# Obtener los mejores parámetros y el mejor resultado\n",
        "best_params = grid_search.best_params_\n",
        "best_score = grid_search.best_score_\n",
        "\n",
        "print(\"Mejores parámetros encontrados: \", best_params)\n",
        "print(\"Mejor puntuación encontrada: {:.2f}\".format(best_score))"
      ]
    },
    {
      "cell_type": "code",
      "execution_count": null,
      "metadata": {},
      "outputs": [],
      "source": [
        "# Entrenar el clasificador con los mejores parámetros\n",
        "clf2 = OneVsRestClassifier(RandomForestClassifier(n_estimators=best_params['estimator__n_estimators'], max_depth=best_params['estimator__max_depth']))\n",
        "clf2.fit(X_train, y_train_genres)\n",
        "\n",
        "\n",
        "# Predicción del modelo de clasificación\n",
        "y_pred_genres_rf2 = clf2.predict_proba(X_test)\n",
        "\n",
        "# Impresión del desempeño del modelo\n",
        "roc_auc_score(y_test_genres, y_pred_genres_rf2, average='macro')"
      ]
    },
    {
      "attachments": {},
      "cell_type": "markdown",
      "metadata": {},
      "source": [
        "XGBoost"
      ]
    },
    {
      "cell_type": "code",
      "execution_count": 79,
      "metadata": {},
      "outputs": [
        {
          "data": {
            "text/plain": [
              "0.8295706088965238"
            ]
          },
          "execution_count": 79,
          "metadata": {},
          "output_type": "execute_result"
        }
      ],
      "source": [
        "num_classes = len(np.unique(y_train_genres))\n",
        "xgb_p = OneVsRestClassifier(XGBClassifier(objective='multi:softmax', num_class=num_classes, n_jobs=-1, random_state=42))\n",
        "\n",
        "xgb_p.fit(X_train, y_train_genres)\n",
        "\n",
        "# Predicción del modelo de clasificación\n",
        "y_pred_genres_xgb_p = xgb_p.predict_proba(X_test)\n",
        "\n",
        "# Impresión del desempeño del modelo\n",
        "roc_auc_score(y_test_genres, y_pred_genres_xgb_p, average='macro')"
      ]
    },
    {
      "cell_type": "code",
      "execution_count": 80,
      "metadata": {},
      "outputs": [
        {
          "data": {
            "text/plain": [
              "0.8315564057080066"
            ]
          },
          "execution_count": 80,
          "metadata": {},
          "output_type": "execute_result"
        }
      ],
      "source": [
        "num_classes = len(np.unique(y_train_genres))\n",
        "xgb_p = OneVsRestClassifier(XGBClassifier(objective='multi:softmax', num_class=num_classes, learning_rate=0.19,n_estimators=100, n_jobs=-1, random_state=42))\n",
        "\n",
        "xgb_p.fit(X_train, y_train_genres)\n",
        "\n",
        "# Predicción del modelo de clasificación\n",
        "y_pred_genres_xgb_p = xgb_p.predict_proba(X_test)\n",
        "\n",
        "# Impresión del desempeño del modelo\n",
        "roc_auc_score(y_test_genres, y_pred_genres_xgb_p, average='macro')"
      ]
    },
    {
      "cell_type": "code",
      "execution_count": null,
      "metadata": {},
      "outputs": [],
      "source": [
        "from sklearn.model_selection import GridSearchCV\n",
        "from xgboost import XGBClassifier\n",
        "from sklearn.metrics import roc_auc_score\n",
        "\n",
        "# Definir los parámetros que deseas probar\n",
        "param_grid = {\n",
        "    'estimator__learning_rate': [0.01, 0.1, 0.2],  # Prueba diferentes tasas de aprendizaje\n",
        "    'estimator__n_estimators': [100, 200, 300],  # Prueba diferentes números de estimadores\n",
        "    'estimator__max_depth': [3, 5, 7],  # Prueba diferentes profundidades máximas\n",
        "    'estimator__subsample': [0.8, 1.0],  # Prueba diferentes proporciones de submuestreo\n",
        "    'estimator__colsample_bytree': [0.8, 1.0],  # Prueba diferentes proporciones de columnas utilizadas por árbol\n",
        "    'estimator__gamma': [0, 0.1, 0.2]  # Prueba diferentes valores de gamma\n",
        "}\n",
        "\n",
        "# Crear el clasificador y el objeto GridSearchCV\n",
        "num_classes = len(np.unique(y_train_genres))\n",
        "xgb_p = OneVsRestClassifier(XGBClassifier(objective='multi:softmax', num_class=num_classes, random_state=42))\n",
        "grid_search = GridSearchCV(xgb_p, param_grid, cv=5)\n",
        "\n",
        "# Entrenar el clasificador con GridSearchCV\n",
        "grid_search.fit(X_train, y_train_genres)\n",
        "\n",
        "# Obtener los mejores parámetros y el mejor resultado\n",
        "best_params = grid_search.best_params_\n",
        "best_score = grid_search.best_score_\n",
        "\n",
        "print(\"Mejores parámetros encontrados: \", best_params)\n",
        "print(\"Mejor puntuación encontrada: {:.2f}\".format(best_score))\n",
        "\n",
        "# Entrenar el clasificador con los mejores parámetros\n",
        "xgb_p = OneVsRestClassifier(XGBClassifier(objective='multi:softmax', num_class=num_classes, random_state=42, **best_params))\n",
        "xgb_p.fit(X_train, y_train_genres)\n",
        "\n",
        "# Predicción del modelo de clasificación\n",
        "y_pred_genres_xgb_p = xgb_p.predict_proba(X_test)\n",
        "\n",
        "# Impresión del desempeño del modelo\n",
        "roc_auc_score(y_test_genres, y_pred_genres_xgb_p, average='macro')"
      ]
    },
    {
      "attachments": {},
      "cell_type": "markdown",
      "metadata": {},
      "source": [
        "LR"
      ]
    },
    {
      "cell_type": "code",
      "execution_count": 86,
      "metadata": {},
      "outputs": [
        {
          "data": {
            "text/plain": [
              "0.788928653957234"
            ]
          },
          "execution_count": 86,
          "metadata": {},
          "output_type": "execute_result"
        }
      ],
      "source": [
        "from sklearn.linear_model import LogisticRegression\n",
        "\n",
        "lr = LogisticRegression(solver='liblinear', penalty='l1')\n",
        "clf = OneVsRestClassifier(lr)\n",
        "\n",
        "# fit model on train data\n",
        "clf.fit(X_train, y_train_genres)\n",
        "\n",
        "# predict probabilities\n",
        "y_pred_prob = clf.predict_proba(X_test)\n",
        "\n",
        "# # Impresión del desempeño del modelo\n",
        "roc_auc_score(y_test_genres, y_pred_prob, average='macro')"
      ]
    },
    {
      "cell_type": "code",
      "execution_count": 81,
      "metadata": {},
      "outputs": [
        {
          "data": {
            "text/plain": [
              "0.8883769626637803"
            ]
          },
          "execution_count": 81,
          "metadata": {},
          "output_type": "execute_result"
        }
      ],
      "source": [
        "from sklearn.linear_model import LogisticRegression\n",
        "\n",
        "lr = LogisticRegression(solver='liblinear', penalty='l2')\n",
        "clf = OneVsRestClassifier(lr)\n",
        "\n",
        "# fit model on train data\n",
        "clf.fit(X_train, y_train_genres)\n",
        "\n",
        "# predict probabilities\n",
        "y_pred_prob = clf.predict_proba(X_test)\n",
        "\n",
        "# # Impresión del desempeño del modelo\n",
        "roc_auc_score(y_test_genres, y_pred_prob, average='macro')"
      ]
    },
    {
      "cell_type": "code",
      "execution_count": 85,
      "metadata": {},
      "outputs": [
        {
          "data": {
            "text/plain": [
              "0.8885341407564532"
            ]
          },
          "execution_count": 85,
          "metadata": {},
          "output_type": "execute_result"
        }
      ],
      "source": [
        "\n",
        "# Crear una instancia del estimador interno LogisticRegression con los mejores parámetros\n",
        "lr = LogisticRegression(solver='liblinear', penalty='l2', C=0.8)\n",
        "\n",
        "# Crear una instancia de OneVsRestClassifier con el estimador interno LogisticRegression\n",
        "clf = OneVsRestClassifier(lr)\n",
        "\n",
        "# Ajustar el modelo a los datos de entrenamiento\n",
        "clf.fit(X_train, y_train_genres)\n",
        "\n",
        "# predict probabilities\n",
        "y_pred_prob = clf.predict_proba(X_test)\n",
        "\n",
        "# # Impresión del desempeño del modelo\n",
        "roc_auc_score(y_test_genres, y_pred_prob, average='macro')"
      ]
    },
    {
      "attachments": {},
      "cell_type": "markdown",
      "metadata": {},
      "source": [
        "Forma        |Modelo                        | AUC      |\n",
        "-------------|------------------------------|----------|\n",
        " 5 Forma     |Random Forest Sin optimizar   | 0.8041   |\n",
        " 5 Forma     |Random Forest con parámetros  | 0.8142   |\n",
        " 5 Forma     |Random Forest con GridSearch  | 0.8255   |\n",
        " 5 Forma     |XGBoost  Sin optimizar        | 0.8295   |\n",
        " 5 Forma     |XGBoost  con parámetros       | 0.8315   |\n",
        " 5 Forma     |XGBoost  con GridSearch       | 0.8400   |\n",
        " 5 Forma     |Regresión Logística (L1)      | 0.7889   |\n",
        " 5 Forma     |Regresión Logística (L2)      | 0.8883   |\n",
        " 5 Forma     |Regresión Logística (L2,C=0.6)| 0.8885   |"
      ]
    },
    {
      "attachments": {},
      "cell_type": "markdown",
      "metadata": {},
      "source": [
        "Se realiza el intento con lematización pero el desempeño en la competencia baja considerablemente, por esto nos quedamos con la forma 4 y es el modelo que se guarda para el API."
      ]
    },
    {
      "attachments": {},
      "cell_type": "markdown",
      "metadata": {
        "id": "RFK6xneSerqV"
      },
      "source": [
        "# Acá inicia la parte de Test"
      ]
    },
    {
      "attachments": {},
      "cell_type": "markdown",
      "metadata": {},
      "source": [
        "### Aplicando el modelo con todos los datos"
      ]
    },
    {
      "cell_type": "code",
      "execution_count": 153,
      "metadata": {},
      "outputs": [
        {
          "data": {
            "text/html": [
              "<style>#sk-container-id-1 {color: black;background-color: white;}#sk-container-id-1 pre{padding: 0;}#sk-container-id-1 div.sk-toggleable {background-color: white;}#sk-container-id-1 label.sk-toggleable__label {cursor: pointer;display: block;width: 100%;margin-bottom: 0;padding: 0.3em;box-sizing: border-box;text-align: center;}#sk-container-id-1 label.sk-toggleable__label-arrow:before {content: \"▸\";float: left;margin-right: 0.25em;color: #696969;}#sk-container-id-1 label.sk-toggleable__label-arrow:hover:before {color: black;}#sk-container-id-1 div.sk-estimator:hover label.sk-toggleable__label-arrow:before {color: black;}#sk-container-id-1 div.sk-toggleable__content {max-height: 0;max-width: 0;overflow: hidden;text-align: left;background-color: #f0f8ff;}#sk-container-id-1 div.sk-toggleable__content pre {margin: 0.2em;color: black;border-radius: 0.25em;background-color: #f0f8ff;}#sk-container-id-1 input.sk-toggleable__control:checked~div.sk-toggleable__content {max-height: 200px;max-width: 100%;overflow: auto;}#sk-container-id-1 input.sk-toggleable__control:checked~label.sk-toggleable__label-arrow:before {content: \"▾\";}#sk-container-id-1 div.sk-estimator input.sk-toggleable__control:checked~label.sk-toggleable__label {background-color: #d4ebff;}#sk-container-id-1 div.sk-label input.sk-toggleable__control:checked~label.sk-toggleable__label {background-color: #d4ebff;}#sk-container-id-1 input.sk-hidden--visually {border: 0;clip: rect(1px 1px 1px 1px);clip: rect(1px, 1px, 1px, 1px);height: 1px;margin: -1px;overflow: hidden;padding: 0;position: absolute;width: 1px;}#sk-container-id-1 div.sk-estimator {font-family: monospace;background-color: #f0f8ff;border: 1px dotted black;border-radius: 0.25em;box-sizing: border-box;margin-bottom: 0.5em;}#sk-container-id-1 div.sk-estimator:hover {background-color: #d4ebff;}#sk-container-id-1 div.sk-parallel-item::after {content: \"\";width: 100%;border-bottom: 1px solid gray;flex-grow: 1;}#sk-container-id-1 div.sk-label:hover label.sk-toggleable__label {background-color: #d4ebff;}#sk-container-id-1 div.sk-serial::before {content: \"\";position: absolute;border-left: 1px solid gray;box-sizing: border-box;top: 0;bottom: 0;left: 50%;z-index: 0;}#sk-container-id-1 div.sk-serial {display: flex;flex-direction: column;align-items: center;background-color: white;padding-right: 0.2em;padding-left: 0.2em;position: relative;}#sk-container-id-1 div.sk-item {position: relative;z-index: 1;}#sk-container-id-1 div.sk-parallel {display: flex;align-items: stretch;justify-content: center;background-color: white;position: relative;}#sk-container-id-1 div.sk-item::before, #sk-container-id-1 div.sk-parallel-item::before {content: \"\";position: absolute;border-left: 1px solid gray;box-sizing: border-box;top: 0;bottom: 0;left: 50%;z-index: -1;}#sk-container-id-1 div.sk-parallel-item {display: flex;flex-direction: column;z-index: 1;position: relative;background-color: white;}#sk-container-id-1 div.sk-parallel-item:first-child::after {align-self: flex-end;width: 50%;}#sk-container-id-1 div.sk-parallel-item:last-child::after {align-self: flex-start;width: 50%;}#sk-container-id-1 div.sk-parallel-item:only-child::after {width: 0;}#sk-container-id-1 div.sk-dashed-wrapped {border: 1px dashed gray;margin: 0 0.4em 0.5em 0.4em;box-sizing: border-box;padding-bottom: 0.4em;background-color: white;}#sk-container-id-1 div.sk-label label {font-family: monospace;font-weight: bold;display: inline-block;line-height: 1.2em;}#sk-container-id-1 div.sk-label-container {text-align: center;}#sk-container-id-1 div.sk-container {/* jupyter's `normalize.less` sets `[hidden] { display: none; }` but bootstrap.min.css set `[hidden] { display: none !important; }` so we also need the `!important` here to be able to override the default hidden behavior on the sphinx rendered scikit-learn.org. See: https://github.com/scikit-learn/scikit-learn/issues/21755 */display: inline-block !important;position: relative;}#sk-container-id-1 div.sk-text-repr-fallback {display: none;}</style><div id=\"sk-container-id-1\" class=\"sk-top-container\"><div class=\"sk-text-repr-fallback\"><pre>OneVsRestClassifier(estimator=LogisticRegression(C=0.8, solver=&#x27;liblinear&#x27;))</pre><b>In a Jupyter environment, please rerun this cell to show the HTML representation or trust the notebook. <br />On GitHub, the HTML representation is unable to render, please try loading this page with nbviewer.org.</b></div><div class=\"sk-container\" hidden><div class=\"sk-item sk-dashed-wrapped\"><div class=\"sk-label-container\"><div class=\"sk-label sk-toggleable\"><input class=\"sk-toggleable__control sk-hidden--visually\" id=\"sk-estimator-id-1\" type=\"checkbox\" ><label for=\"sk-estimator-id-1\" class=\"sk-toggleable__label sk-toggleable__label-arrow\">OneVsRestClassifier</label><div class=\"sk-toggleable__content\"><pre>OneVsRestClassifier(estimator=LogisticRegression(C=0.8, solver=&#x27;liblinear&#x27;))</pre></div></div></div><div class=\"sk-parallel\"><div class=\"sk-parallel-item\"><div class=\"sk-item\"><div class=\"sk-label-container\"><div class=\"sk-label sk-toggleable\"><input class=\"sk-toggleable__control sk-hidden--visually\" id=\"sk-estimator-id-2\" type=\"checkbox\" ><label for=\"sk-estimator-id-2\" class=\"sk-toggleable__label sk-toggleable__label-arrow\">estimator: LogisticRegression</label><div class=\"sk-toggleable__content\"><pre>LogisticRegression(C=0.8, solver=&#x27;liblinear&#x27;)</pre></div></div></div><div class=\"sk-serial\"><div class=\"sk-item\"><div class=\"sk-estimator sk-toggleable\"><input class=\"sk-toggleable__control sk-hidden--visually\" id=\"sk-estimator-id-3\" type=\"checkbox\" ><label for=\"sk-estimator-id-3\" class=\"sk-toggleable__label sk-toggleable__label-arrow\">LogisticRegression</label><div class=\"sk-toggleable__content\"><pre>LogisticRegression(C=0.8, solver=&#x27;liblinear&#x27;)</pre></div></div></div></div></div></div></div></div></div></div>"
            ],
            "text/plain": [
              "OneVsRestClassifier(estimator=LogisticRegression(C=0.8, solver='liblinear'))"
            ]
          },
          "execution_count": 153,
          "metadata": {},
          "output_type": "execute_result"
        }
      ],
      "source": [
        "# Crear una instancia del estimador interno LogisticRegression con los mejores parámetros\n",
        "lr = LogisticRegression(solver='liblinear', penalty='l2', C=0.8)\n",
        "\n",
        "# Crear una instancia de OneVsRestClassifier con el estimador interno LogisticRegression\n",
        "clf = OneVsRestClassifier(lr)\n",
        "\n",
        "# Ajustar el modelo a los datos de entrenamiento\n",
        "clf.fit(X_dtm, y_genres)"
      ]
    },
    {
      "cell_type": "code",
      "execution_count": 152,
      "metadata": {},
      "outputs": [
        {
          "data": {
            "text/plain": [
              "(3383, 20000)"
            ]
          },
          "execution_count": 152,
          "metadata": {},
          "output_type": "execute_result"
        }
      ],
      "source": [
        "#X_test_dtm = vect.transform(dataTesting['plot_limpio'])\n",
        "X_test_dtm = vect.transform(dataTesting['plot_lemmatized'])\n",
        "X_test_dtm.shape"
      ]
    },
    {
      "cell_type": "code",
      "execution_count": 154,
      "metadata": {
        "id": "dOstj6hrbu9Y"
      },
      "outputs": [],
      "source": [
        "cols = ['p_Action', 'p_Adventure', 'p_Animation', 'p_Biography', 'p_Comedy', 'p_Crime', 'p_Documentary', 'p_Drama', 'p_Family',\n",
        "        'p_Fantasy', 'p_Film-Noir', 'p_History', 'p_Horror', 'p_Music', 'p_Musical', 'p_Mystery', 'p_News', 'p_Romance',\n",
        "        'p_Sci-Fi', 'p_Short', 'p_Sport', 'p_Thriller', 'p_War', 'p_Western']\n",
        "\n",
        "# Predicción del conjunto de test\n",
        "y_pred_test_genres = clf.predict_proba(X_test_dtm)"
      ]
    },
    {
      "attachments": {},
      "cell_type": "markdown",
      "metadata": {},
      "source": [
        "# Exportando el modelo"
      ]
    },
    {
      "cell_type": "code",
      "execution_count": 155,
      "metadata": {
        "colab": {
          "base_uri": "https://localhost:8080/",
          "height": 317
        },
        "id": "rmsEoIfcbu9Z",
        "outputId": "56701200-3dc1-4b34-853e-2f69fe0bfb18"
      },
      "outputs": [
        {
          "data": {
            "text/html": [
              "<div>\n",
              "<style scoped>\n",
              "    .dataframe tbody tr th:only-of-type {\n",
              "        vertical-align: middle;\n",
              "    }\n",
              "\n",
              "    .dataframe tbody tr th {\n",
              "        vertical-align: top;\n",
              "    }\n",
              "\n",
              "    .dataframe thead th {\n",
              "        text-align: right;\n",
              "    }\n",
              "</style>\n",
              "<table border=\"1\" class=\"dataframe\">\n",
              "  <thead>\n",
              "    <tr style=\"text-align: right;\">\n",
              "      <th></th>\n",
              "      <th>p_Action</th>\n",
              "      <th>p_Adventure</th>\n",
              "      <th>p_Animation</th>\n",
              "      <th>p_Biography</th>\n",
              "      <th>p_Comedy</th>\n",
              "      <th>p_Crime</th>\n",
              "      <th>p_Documentary</th>\n",
              "      <th>p_Drama</th>\n",
              "      <th>p_Family</th>\n",
              "      <th>p_Fantasy</th>\n",
              "      <th>...</th>\n",
              "      <th>p_Musical</th>\n",
              "      <th>p_Mystery</th>\n",
              "      <th>p_News</th>\n",
              "      <th>p_Romance</th>\n",
              "      <th>p_Sci-Fi</th>\n",
              "      <th>p_Short</th>\n",
              "      <th>p_Sport</th>\n",
              "      <th>p_Thriller</th>\n",
              "      <th>p_War</th>\n",
              "      <th>p_Western</th>\n",
              "    </tr>\n",
              "  </thead>\n",
              "  <tbody>\n",
              "    <tr>\n",
              "      <th>1</th>\n",
              "      <td>0.122281</td>\n",
              "      <td>0.088462</td>\n",
              "      <td>0.028923</td>\n",
              "      <td>0.034181</td>\n",
              "      <td>0.339956</td>\n",
              "      <td>0.135950</td>\n",
              "      <td>0.030065</td>\n",
              "      <td>0.571451</td>\n",
              "      <td>0.060433</td>\n",
              "      <td>0.108278</td>\n",
              "      <td>...</td>\n",
              "      <td>0.037604</td>\n",
              "      <td>0.111200</td>\n",
              "      <td>0.001808</td>\n",
              "      <td>0.512250</td>\n",
              "      <td>0.059146</td>\n",
              "      <td>0.011326</td>\n",
              "      <td>0.024430</td>\n",
              "      <td>0.204117</td>\n",
              "      <td>0.025163</td>\n",
              "      <td>0.026235</td>\n",
              "    </tr>\n",
              "    <tr>\n",
              "      <th>4</th>\n",
              "      <td>0.171826</td>\n",
              "      <td>0.047277</td>\n",
              "      <td>0.028991</td>\n",
              "      <td>0.129110</td>\n",
              "      <td>0.267450</td>\n",
              "      <td>0.329722</td>\n",
              "      <td>0.062287</td>\n",
              "      <td>0.805698</td>\n",
              "      <td>0.036777</td>\n",
              "      <td>0.026986</td>\n",
              "      <td>...</td>\n",
              "      <td>0.031065</td>\n",
              "      <td>0.049834</td>\n",
              "      <td>0.002000</td>\n",
              "      <td>0.085678</td>\n",
              "      <td>0.028381</td>\n",
              "      <td>0.012614</td>\n",
              "      <td>0.032898</td>\n",
              "      <td>0.309860</td>\n",
              "      <td>0.046684</td>\n",
              "      <td>0.023869</td>\n",
              "    </tr>\n",
              "    <tr>\n",
              "      <th>5</th>\n",
              "      <td>0.086438</td>\n",
              "      <td>0.034697</td>\n",
              "      <td>0.014236</td>\n",
              "      <td>0.057590</td>\n",
              "      <td>0.104406</td>\n",
              "      <td>0.604352</td>\n",
              "      <td>0.029496</td>\n",
              "      <td>0.791914</td>\n",
              "      <td>0.025425</td>\n",
              "      <td>0.031845</td>\n",
              "      <td>...</td>\n",
              "      <td>0.019575</td>\n",
              "      <td>0.312956</td>\n",
              "      <td>0.001913</td>\n",
              "      <td>0.166940</td>\n",
              "      <td>0.046863</td>\n",
              "      <td>0.008977</td>\n",
              "      <td>0.026116</td>\n",
              "      <td>0.521160</td>\n",
              "      <td>0.030127</td>\n",
              "      <td>0.019387</td>\n",
              "    </tr>\n",
              "    <tr>\n",
              "      <th>6</th>\n",
              "      <td>0.128635</td>\n",
              "      <td>0.093754</td>\n",
              "      <td>0.022148</td>\n",
              "      <td>0.044906</td>\n",
              "      <td>0.143732</td>\n",
              "      <td>0.101719</td>\n",
              "      <td>0.031724</td>\n",
              "      <td>0.693062</td>\n",
              "      <td>0.049718</td>\n",
              "      <td>0.048788</td>\n",
              "      <td>...</td>\n",
              "      <td>0.030424</td>\n",
              "      <td>0.093638</td>\n",
              "      <td>0.001780</td>\n",
              "      <td>0.175802</td>\n",
              "      <td>0.099959</td>\n",
              "      <td>0.009972</td>\n",
              "      <td>0.029445</td>\n",
              "      <td>0.345140</td>\n",
              "      <td>0.075835</td>\n",
              "      <td>0.027668</td>\n",
              "    </tr>\n",
              "    <tr>\n",
              "      <th>7</th>\n",
              "      <td>0.081276</td>\n",
              "      <td>0.085627</td>\n",
              "      <td>0.032613</td>\n",
              "      <td>0.035705</td>\n",
              "      <td>0.231896</td>\n",
              "      <td>0.096095</td>\n",
              "      <td>0.046646</td>\n",
              "      <td>0.247983</td>\n",
              "      <td>0.061777</td>\n",
              "      <td>0.135349</td>\n",
              "      <td>...</td>\n",
              "      <td>0.025513</td>\n",
              "      <td>0.106208</td>\n",
              "      <td>0.001854</td>\n",
              "      <td>0.143096</td>\n",
              "      <td>0.371554</td>\n",
              "      <td>0.012634</td>\n",
              "      <td>0.017301</td>\n",
              "      <td>0.310165</td>\n",
              "      <td>0.020081</td>\n",
              "      <td>0.022642</td>\n",
              "    </tr>\n",
              "  </tbody>\n",
              "</table>\n",
              "<p>5 rows × 24 columns</p>\n",
              "</div>"
            ],
            "text/plain": [
              "   p_Action  p_Adventure  p_Animation  p_Biography  p_Comedy   p_Crime  \\\n",
              "1  0.122281     0.088462     0.028923     0.034181  0.339956  0.135950   \n",
              "4  0.171826     0.047277     0.028991     0.129110  0.267450  0.329722   \n",
              "5  0.086438     0.034697     0.014236     0.057590  0.104406  0.604352   \n",
              "6  0.128635     0.093754     0.022148     0.044906  0.143732  0.101719   \n",
              "7  0.081276     0.085627     0.032613     0.035705  0.231896  0.096095   \n",
              "\n",
              "   p_Documentary   p_Drama  p_Family  p_Fantasy  ...  p_Musical  p_Mystery  \\\n",
              "1       0.030065  0.571451  0.060433   0.108278  ...   0.037604   0.111200   \n",
              "4       0.062287  0.805698  0.036777   0.026986  ...   0.031065   0.049834   \n",
              "5       0.029496  0.791914  0.025425   0.031845  ...   0.019575   0.312956   \n",
              "6       0.031724  0.693062  0.049718   0.048788  ...   0.030424   0.093638   \n",
              "7       0.046646  0.247983  0.061777   0.135349  ...   0.025513   0.106208   \n",
              "\n",
              "     p_News  p_Romance  p_Sci-Fi   p_Short   p_Sport  p_Thriller     p_War  \\\n",
              "1  0.001808   0.512250  0.059146  0.011326  0.024430    0.204117  0.025163   \n",
              "4  0.002000   0.085678  0.028381  0.012614  0.032898    0.309860  0.046684   \n",
              "5  0.001913   0.166940  0.046863  0.008977  0.026116    0.521160  0.030127   \n",
              "6  0.001780   0.175802  0.099959  0.009972  0.029445    0.345140  0.075835   \n",
              "7  0.001854   0.143096  0.371554  0.012634  0.017301    0.310165  0.020081   \n",
              "\n",
              "   p_Western  \n",
              "1   0.026235  \n",
              "4   0.023869  \n",
              "5   0.019387  \n",
              "6   0.027668  \n",
              "7   0.022642  \n",
              "\n",
              "[5 rows x 24 columns]"
            ]
          },
          "execution_count": 155,
          "metadata": {},
          "output_type": "execute_result"
        }
      ],
      "source": [
        "# Guardar predicciones en formato exigido en la competencia de kaggle\n",
        "res = pd.DataFrame(y_pred_test_genres, index=dataTesting.index, columns=cols)\n",
        "res.to_csv('pred_genres_lr_final_f.csv', index_label='ID')\n",
        "res.head()"
      ]
    },
    {
      "attachments": {},
      "cell_type": "markdown",
      "metadata": {},
      "source": [
        "# Para guardar el modelo a utilizar en el API"
      ]
    },
    {
      "cell_type": "code",
      "execution_count": null,
      "metadata": {},
      "outputs": [],
      "source": [
        "import joblib\n",
        "\n",
        "import os\n",
        "os.chdir('..')"
      ]
    },
    {
      "cell_type": "code",
      "execution_count": null,
      "metadata": {},
      "outputs": [],
      "source": [
        "# Se guarda el modelo de vectorización para el despliegue\n",
        "\n",
        "joblib.dump(vect, 'C:/Users/relat/Dropbox/Maestría UNIANDES/4 Ciclo/Machine Learning y Procesamiento del Lenguaje Natural/8 Semana/model_deployment/vecto.pkl', compress=3)"
      ]
    },
    {
      "cell_type": "code",
      "execution_count": null,
      "metadata": {},
      "outputs": [],
      "source": [
        "# Exportar modelo a archivo binario .pkl\n",
        "joblib.dump(clf, 'C:/Users/relat/Dropbox/Maestría UNIANDES/4 Ciclo/Machine Learning y Procesamiento del Lenguaje Natural/8 Semana/model_deployment/model.pkl', compress=3)"
      ]
    }
  ],
  "metadata": {
    "colab": {
      "provenance": []
    },
    "kernelspec": {
      "display_name": "Python 3",
      "language": "python",
      "name": "python3"
    },
    "language_info": {
      "codemirror_mode": {
        "name": "ipython",
        "version": 3
      },
      "file_extension": ".py",
      "mimetype": "text/x-python",
      "name": "python",
      "nbconvert_exporter": "python",
      "pygments_lexer": "ipython3",
      "version": "3.10.4"
    }
  },
  "nbformat": 4,
  "nbformat_minor": 0
}
