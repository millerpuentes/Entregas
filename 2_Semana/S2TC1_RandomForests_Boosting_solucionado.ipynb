{
  "cells": [
    {
      "cell_type": "markdown",
      "metadata": {
        "id": "_JGvgwghfAwg"
      },
      "source": [
        "![image info](https://raw.githubusercontent.com/albahnsen/MIAD_ML_and_NLP/main/images/banner_1.png)"
      ]
    },
    {
      "cell_type": "markdown",
      "metadata": {
        "id": "DDz_-rfkfAwi"
      },
      "source": [
        "# Taller: Construcción e implementación de modelos Bagging, Random Forest y XGBoost\n",
        "\n",
        "En este taller podrán poner en práctica sus conocimientos sobre la construcción e implementación de modelos de Bagging, Random Forest y XGBoost. El taller está constituido por 8 puntos, en los cuales deberan seguir las intrucciones de cada numeral para su desarrollo."
      ]
    },
    {
      "cell_type": "markdown",
      "metadata": {
        "id": "QlQcJUrcfAwj"
      },
      "source": [
        "## Datos predicción precio de automóviles\n",
        "\n",
        "En este taller se usará el conjunto de datos de Car Listings de Kaggle donde cada observación representa el precio de un automóvil teniendo en cuenta distintas variables como año, marca, modelo, entre otras. El objetivo es predecir el precio del automóvil. Para más detalles puede visitar el siguiente enlace: [datos](https://www.kaggle.com/jpayne/852k-used-car-listings)."
      ]
    },
    {
      "cell_type": "code",
      "execution_count": 1,
      "metadata": {
        "id": "-rTluxUcfAwj"
      },
      "outputs": [],
      "source": [
        "import warnings\n",
        "warnings.filterwarnings('ignore')"
      ]
    },
    {
      "cell_type": "code",
      "execution_count": 2,
      "metadata": {
        "colab": {
          "base_uri": "https://localhost:8080/",
          "height": 206
        },
        "id": "qrRXFrovfAwk",
        "outputId": "5244e7c4-e872-4b57-8c7e-09ceeabbb146"
      },
      "outputs": [
        {
          "output_type": "execute_result",
          "data": {
            "text/plain": [
              "     Price  Year  Mileage  M_Camry  M_Camry4dr  M_CamryBase  M_CamryL  \\\n",
              "7    21995  2014     6480        0           0            0         1   \n",
              "11   13995  2014    39972        0           0            0         0   \n",
              "167  17941  2016    18989        0           0            0         0   \n",
              "225  12493  2014    51330        0           0            0         1   \n",
              "270   7994  2007   116065        0           1            0         0   \n",
              "\n",
              "     M_CamryLE  M_CamrySE  M_CamryXLE  \n",
              "7            0          0           0  \n",
              "11           1          0           0  \n",
              "167          0          1           0  \n",
              "225          0          0           0  \n",
              "270          0          0           0  "
            ],
            "text/html": [
              "\n",
              "  <div id=\"df-e667ca76-cada-47b1-9764-6ff521d69673\">\n",
              "    <div class=\"colab-df-container\">\n",
              "      <div>\n",
              "<style scoped>\n",
              "    .dataframe tbody tr th:only-of-type {\n",
              "        vertical-align: middle;\n",
              "    }\n",
              "\n",
              "    .dataframe tbody tr th {\n",
              "        vertical-align: top;\n",
              "    }\n",
              "\n",
              "    .dataframe thead th {\n",
              "        text-align: right;\n",
              "    }\n",
              "</style>\n",
              "<table border=\"1\" class=\"dataframe\">\n",
              "  <thead>\n",
              "    <tr style=\"text-align: right;\">\n",
              "      <th></th>\n",
              "      <th>Price</th>\n",
              "      <th>Year</th>\n",
              "      <th>Mileage</th>\n",
              "      <th>M_Camry</th>\n",
              "      <th>M_Camry4dr</th>\n",
              "      <th>M_CamryBase</th>\n",
              "      <th>M_CamryL</th>\n",
              "      <th>M_CamryLE</th>\n",
              "      <th>M_CamrySE</th>\n",
              "      <th>M_CamryXLE</th>\n",
              "    </tr>\n",
              "  </thead>\n",
              "  <tbody>\n",
              "    <tr>\n",
              "      <th>7</th>\n",
              "      <td>21995</td>\n",
              "      <td>2014</td>\n",
              "      <td>6480</td>\n",
              "      <td>0</td>\n",
              "      <td>0</td>\n",
              "      <td>0</td>\n",
              "      <td>1</td>\n",
              "      <td>0</td>\n",
              "      <td>0</td>\n",
              "      <td>0</td>\n",
              "    </tr>\n",
              "    <tr>\n",
              "      <th>11</th>\n",
              "      <td>13995</td>\n",
              "      <td>2014</td>\n",
              "      <td>39972</td>\n",
              "      <td>0</td>\n",
              "      <td>0</td>\n",
              "      <td>0</td>\n",
              "      <td>0</td>\n",
              "      <td>1</td>\n",
              "      <td>0</td>\n",
              "      <td>0</td>\n",
              "    </tr>\n",
              "    <tr>\n",
              "      <th>167</th>\n",
              "      <td>17941</td>\n",
              "      <td>2016</td>\n",
              "      <td>18989</td>\n",
              "      <td>0</td>\n",
              "      <td>0</td>\n",
              "      <td>0</td>\n",
              "      <td>0</td>\n",
              "      <td>0</td>\n",
              "      <td>1</td>\n",
              "      <td>0</td>\n",
              "    </tr>\n",
              "    <tr>\n",
              "      <th>225</th>\n",
              "      <td>12493</td>\n",
              "      <td>2014</td>\n",
              "      <td>51330</td>\n",
              "      <td>0</td>\n",
              "      <td>0</td>\n",
              "      <td>0</td>\n",
              "      <td>1</td>\n",
              "      <td>0</td>\n",
              "      <td>0</td>\n",
              "      <td>0</td>\n",
              "    </tr>\n",
              "    <tr>\n",
              "      <th>270</th>\n",
              "      <td>7994</td>\n",
              "      <td>2007</td>\n",
              "      <td>116065</td>\n",
              "      <td>0</td>\n",
              "      <td>1</td>\n",
              "      <td>0</td>\n",
              "      <td>0</td>\n",
              "      <td>0</td>\n",
              "      <td>0</td>\n",
              "      <td>0</td>\n",
              "    </tr>\n",
              "  </tbody>\n",
              "</table>\n",
              "</div>\n",
              "      <button class=\"colab-df-convert\" onclick=\"convertToInteractive('df-e667ca76-cada-47b1-9764-6ff521d69673')\"\n",
              "              title=\"Convert this dataframe to an interactive table.\"\n",
              "              style=\"display:none;\">\n",
              "        \n",
              "  <svg xmlns=\"http://www.w3.org/2000/svg\" height=\"24px\"viewBox=\"0 0 24 24\"\n",
              "       width=\"24px\">\n",
              "    <path d=\"M0 0h24v24H0V0z\" fill=\"none\"/>\n",
              "    <path d=\"M18.56 5.44l.94 2.06.94-2.06 2.06-.94-2.06-.94-.94-2.06-.94 2.06-2.06.94zm-11 1L8.5 8.5l.94-2.06 2.06-.94-2.06-.94L8.5 2.5l-.94 2.06-2.06.94zm10 10l.94 2.06.94-2.06 2.06-.94-2.06-.94-.94-2.06-.94 2.06-2.06.94z\"/><path d=\"M17.41 7.96l-1.37-1.37c-.4-.4-.92-.59-1.43-.59-.52 0-1.04.2-1.43.59L10.3 9.45l-7.72 7.72c-.78.78-.78 2.05 0 2.83L4 21.41c.39.39.9.59 1.41.59.51 0 1.02-.2 1.41-.59l7.78-7.78 2.81-2.81c.8-.78.8-2.07 0-2.86zM5.41 20L4 18.59l7.72-7.72 1.47 1.35L5.41 20z\"/>\n",
              "  </svg>\n",
              "      </button>\n",
              "      \n",
              "  <style>\n",
              "    .colab-df-container {\n",
              "      display:flex;\n",
              "      flex-wrap:wrap;\n",
              "      gap: 12px;\n",
              "    }\n",
              "\n",
              "    .colab-df-convert {\n",
              "      background-color: #E8F0FE;\n",
              "      border: none;\n",
              "      border-radius: 50%;\n",
              "      cursor: pointer;\n",
              "      display: none;\n",
              "      fill: #1967D2;\n",
              "      height: 32px;\n",
              "      padding: 0 0 0 0;\n",
              "      width: 32px;\n",
              "    }\n",
              "\n",
              "    .colab-df-convert:hover {\n",
              "      background-color: #E2EBFA;\n",
              "      box-shadow: 0px 1px 2px rgba(60, 64, 67, 0.3), 0px 1px 3px 1px rgba(60, 64, 67, 0.15);\n",
              "      fill: #174EA6;\n",
              "    }\n",
              "\n",
              "    [theme=dark] .colab-df-convert {\n",
              "      background-color: #3B4455;\n",
              "      fill: #D2E3FC;\n",
              "    }\n",
              "\n",
              "    [theme=dark] .colab-df-convert:hover {\n",
              "      background-color: #434B5C;\n",
              "      box-shadow: 0px 1px 3px 1px rgba(0, 0, 0, 0.15);\n",
              "      filter: drop-shadow(0px 1px 2px rgba(0, 0, 0, 0.3));\n",
              "      fill: #FFFFFF;\n",
              "    }\n",
              "  </style>\n",
              "\n",
              "      <script>\n",
              "        const buttonEl =\n",
              "          document.querySelector('#df-e667ca76-cada-47b1-9764-6ff521d69673 button.colab-df-convert');\n",
              "        buttonEl.style.display =\n",
              "          google.colab.kernel.accessAllowed ? 'block' : 'none';\n",
              "\n",
              "        async function convertToInteractive(key) {\n",
              "          const element = document.querySelector('#df-e667ca76-cada-47b1-9764-6ff521d69673');\n",
              "          const dataTable =\n",
              "            await google.colab.kernel.invokeFunction('convertToInteractive',\n",
              "                                                     [key], {});\n",
              "          if (!dataTable) return;\n",
              "\n",
              "          const docLinkHtml = 'Like what you see? Visit the ' +\n",
              "            '<a target=\"_blank\" href=https://colab.research.google.com/notebooks/data_table.ipynb>data table notebook</a>'\n",
              "            + ' to learn more about interactive tables.';\n",
              "          element.innerHTML = '';\n",
              "          dataTable['output_type'] = 'display_data';\n",
              "          await google.colab.output.renderOutput(dataTable, element);\n",
              "          const docLink = document.createElement('div');\n",
              "          docLink.innerHTML = docLinkHtml;\n",
              "          element.appendChild(docLink);\n",
              "        }\n",
              "      </script>\n",
              "    </div>\n",
              "  </div>\n",
              "  "
            ]
          },
          "metadata": {},
          "execution_count": 2
        }
      ],
      "source": [
        "# Importación de librerías\n",
        "%matplotlib inline\n",
        "import pandas as pd\n",
        "\n",
        "# Lectura de la información de archivo .csv\n",
        "data = pd.read_csv('https://raw.githubusercontent.com/albahnsen/MIAD_ML_and_NLP/main/datasets/dataTrain_carListings.zip')\n",
        "\n",
        "# Preprocesamiento de datos para el taller\n",
        "data = data.loc[data['Model'].str.contains('Camry')].drop(['Make', 'State'], axis=1)\n",
        "data = data.join(pd.get_dummies(data['Model'], prefix='M'))\n",
        "data = data.drop(['Model'], axis=1)\n",
        "\n",
        "# Visualización dataset\n",
        "data.head()"
      ]
    },
    {
      "cell_type": "code",
      "source": [
        "# Se identifican observaciones con valores nulos\n",
        "data.isna().sum()"
      ],
      "metadata": {
        "colab": {
          "base_uri": "https://localhost:8080/"
        },
        "id": "RBNch6yipVjv",
        "outputId": "925b9cc6-5068-4902-95f5-ac18ee4ce868"
      },
      "execution_count": 22,
      "outputs": [
        {
          "output_type": "execute_result",
          "data": {
            "text/plain": [
              "Price          0\n",
              "Year           0\n",
              "Mileage        0\n",
              "M_Camry        0\n",
              "M_Camry4dr     0\n",
              "M_CamryBase    0\n",
              "M_CamryL       0\n",
              "M_CamryLE      0\n",
              "M_CamrySE      0\n",
              "M_CamryXLE     0\n",
              "dtype: int64"
            ]
          },
          "metadata": {},
          "execution_count": 22
        }
      ]
    },
    {
      "cell_type": "code",
      "execution_count": 3,
      "metadata": {
        "id": "xNqshLnBfAwk"
      },
      "outputs": [],
      "source": [
        "# Separación de variables predictoras (X) y variable de interés (y)\n",
        "y = data['Price']\n",
        "X = data.drop(['Price'], axis=1)"
      ]
    },
    {
      "cell_type": "code",
      "execution_count": 4,
      "metadata": {
        "id": "AeP7GTGEfAwl"
      },
      "outputs": [],
      "source": [
        "# Separación de datos en set de entrenamiento y test\n",
        "from sklearn.model_selection import train_test_split\n",
        "X_train, X_test, y_train, y_test = train_test_split(X, y, test_size=0.33, random_state=42)"
      ]
    },
    {
      "cell_type": "code",
      "execution_count": 5,
      "metadata": {
        "id": "FU_K9T92fAwl"
      },
      "outputs": [],
      "source": [
        "# Librerías utilizadas en los ejercicios\n",
        "import numpy as np\n",
        "from math import sqrt\n",
        "import matplotlib.pyplot as plt\n",
        "from sklearn.tree import DecisionTreeRegressor\n",
        "from sklearn.metrics import mean_squared_error, mean_absolute_error, r2_score, mean_squared_error\n",
        "from sklearn.model_selection import GridSearchCV,cross_val_score\n",
        "from sklearn import metrics\n",
        "from sklearn.ensemble import RandomForestRegressor,BaggingRegressor\n",
        "import xgboost as xgb"
      ]
    },
    {
      "cell_type": "markdown",
      "metadata": {
        "id": "LRjmlFz-fAwl"
      },
      "source": [
        "### Punto 1 - Árbol de decisión manual\n",
        "\n",
        "En la celda 1 creen un árbol de decisión **manualmente**  que considere los set de entrenamiento y test definidos anteriormente y presenten el RMSE y MAE del modelo en el set de test."
      ]
    },
    {
      "cell_type": "code",
      "execution_count": 6,
      "metadata": {
        "id": "7b43ma4HfAwm",
        "colab": {
          "base_uri": "https://localhost:8080/"
        },
        "outputId": "1e152431-a965-4095-a68e-094fb85ccb63"
      },
      "outputs": [
        {
          "output_type": "stream",
          "name": "stdout",
          "text": [
            "Conjunto de entrenamiento:\n",
            "MSE: 6557926.03624679\n",
            "RMSE: 2560.844789565894\n",
            "MAE: 1947.6931752039877\n",
            "R2: 0.5748336626676838\n",
            "\n",
            "Conjunto de prueba:\n",
            "MSE: 6809705.3146731015\n",
            "RMSE: 2609.54120769784\n",
            "MAE: 2000.8386167631988\n",
            "R2: 0.5548090735320776\n"
          ]
        }
      ],
      "source": [
        "# Celda 1\n",
        "\n",
        "# Definición de parámetros y criterios de parada\n",
        "max_depth = 20\n",
        "\n",
        "# Definimos la clase nodo para representar cada nodo del árbol\n",
        "class Node:\n",
        "    def __init__(self, feature=None, threshold=None, left=None, right=None, value=None):\n",
        "        self.feature = feature\n",
        "        self.threshold = threshold  #Valor límite para la división\n",
        "        self.left = left  # Nodo izquierdo\n",
        "        self.right = right  # Nodo derecho\n",
        "        self.value = value  # Valor del nodo\n",
        "\n",
        "# Definimos la clase DecisionTreeRegressor\n",
        "class arbol_regresion:\n",
        "    def __init__(self, max_depth=None):\n",
        "        self.max_depth = max_depth\n",
        "\n",
        "    def _mse(self, y):\n",
        "        # Calculamos el MSE\n",
        "        return np.mean((y - np.mean(y))**2)\n",
        "\n",
        "    def _best_split(self, X, y):\n",
        "        # Encontramos el mejor punto de corte basado en el que haya generado menor MSE\n",
        "        best_mse = float('inf')\n",
        "        best_feature = None\n",
        "        best_threshold = None\n",
        "\n",
        "        for feature in X.columns:\n",
        "            unique_values = X[feature].unique()\n",
        "            for threshold in unique_values:\n",
        "                left_indices = X[feature] <= threshold\n",
        "                right_indices = ~left_indices\n",
        "\n",
        "                mse_left = self._mse(y[left_indices])\n",
        "                mse_right = self._mse(y[right_indices])\n",
        "\n",
        "                mse = mse_left + mse_right\n",
        "\n",
        "                if mse < best_mse:\n",
        "                    best_mse = mse\n",
        "                    best_feature = feature\n",
        "                    best_threshold = threshold\n",
        "\n",
        "        return best_feature, best_threshold\n",
        "\n",
        "    def _build_tree(self, X, y, depth):\n",
        "        # Crecimiento Recursivo del árbol\n",
        "        if depth == self.max_depth or np.unique(y).size == 1:\n",
        "            # Si se alcanza la máxima profundidad o cualquier parámetro de parada, crea un nodo hoja\n",
        "            return Node(value=np.mean(y))\n",
        "\n",
        "        feature, threshold = self._best_split(X, y)\n",
        "        left_indices = X[feature] <= threshold\n",
        "        right_indices = ~left_indices\n",
        "\n",
        "        left = self._build_tree(X[left_indices], y[left_indices], depth + 1)\n",
        "        right = self._build_tree(X[right_indices], y[right_indices], depth + 1)\n",
        "\n",
        "        return Node(feature=feature, threshold=threshold, left=left, right=right)\n",
        "\n",
        "    def fit(self, X, y):\n",
        "        # Se ajusta el árbol de decisión a los datos de entrenamiento\n",
        "        X = pd.DataFrame(X)\n",
        "        y = pd.Series(y)\n",
        "        self.root = self._build_tree(X, y, 0)\n",
        "\n",
        "    def _predict_single(self, x, node):\n",
        "        # Predecimos un sólo nodo de manera recursiva\n",
        "        if node.value is not None:\n",
        "            return node.value\n",
        "\n",
        "        if x[node.feature] <= node.threshold:\n",
        "            # Nos enfocamos en lado izquierdo\n",
        "            return self._predict_single(x, node.left)\n",
        "        else:\n",
        "            # Nos enfocamos en lado derecho\n",
        "            return self._predict_single(x, node.right)\n",
        "\n",
        "    def predict(self, X):\n",
        "        # Predecimos valores objetivo para cada nodo\n",
        "        X = pd.DataFrame(X)\n",
        "        return np.array([self._predict_single(x, self.root) for _, x in X.iterrows()])\n",
        "\n",
        "# Se crea el objeto\n",
        "dt_regressor = arbol_regresion(max_depth=max_depth)\n",
        "\n",
        "# ajustamos el modelo a los datos de entrenamiento\n",
        "dt_regressor.fit(X_train, y_train)\n",
        "\n",
        "# Para revisar el desempeño del modelo\n",
        "\n",
        "# Se generan las predicciones para el conjunto de entrenamiento y prueba\n",
        "y_train_pred = dt_regressor.predict(X_train)\n",
        "y_test_pred = dt_regressor.predict(X_test)\n",
        "\n",
        "# Se calcula el MSE, RMSE, MAE y R2 para el conjunto de entrenamiento\n",
        "mse_train = mean_squared_error(y_train, y_train_pred)\n",
        "rmse_train = np.sqrt(mse_train)\n",
        "mae_train = mean_absolute_error(y_train, y_train_pred)\n",
        "r2_train = r2_score(y_train, y_train_pred)\n",
        "\n",
        "# Se calcula el MSE, RMSE, MAE y R2 para el conjunto de prueba\n",
        "mse_test = mean_squared_error(y_test, y_test_pred)\n",
        "rmse_test = np.sqrt(mse_test)\n",
        "mae_test = mean_absolute_error(y_test, y_test_pred)\n",
        "r2_test = r2_score(y_test, y_test_pred)\n",
        "\n",
        "# Se imprimen los resultados\n",
        "print(\"Conjunto de entrenamiento:\")\n",
        "print(\"MSE:\", mse_train)\n",
        "print(\"RMSE:\", rmse_train)\n",
        "print(\"MAE:\", mae_train)\n",
        "print(\"R2:\", r2_train)\n",
        "print(\"\")\n",
        "print(\"Conjunto de prueba:\")\n",
        "print(\"MSE:\", mse_test)\n",
        "print(\"RMSE:\", rmse_test)\n",
        "print(\"MAE:\", mae_test)\n",
        "print(\"R2:\", r2_test)"
      ]
    },
    {
      "cell_type": "markdown",
      "source": [
        "El árbol de regresión construido de manera manual presenta un RMSE de 2609.54 y un MAE de 2000.83 para predecir el precio en conjunto de Test.\n",
        "\n",
        "\n",
        "| Punto  | Modelo                                  | RMSE     | MAE      |\n",
        "|--------|-----------------------------------------|----------|----------|\n",
        "|    1   | Arbol de regresión manual               | 2609.54  | 2000.83  |"
      ],
      "metadata": {
        "id": "3u6TM0CQovXV"
      }
    },
    {
      "cell_type": "markdown",
      "metadata": {
        "id": "e9plU_w_fAwm"
      },
      "source": [
        "### Punto 2 - Bagging manual\n",
        "\n",
        "En la celda 2 creen un modelo bagging **manualmente** con 10 árboles de regresión y comenten sobre el desempeño del modelo."
      ]
    },
    {
      "cell_type": "code",
      "execution_count": 7,
      "metadata": {
        "id": "iaj6XI9dfAwm",
        "outputId": "37abb659-1e64-40f6-a3f7-d123f4909cf4",
        "colab": {
          "base_uri": "https://localhost:8080/"
        }
      },
      "outputs": [
        {
          "output_type": "stream",
          "name": "stdout",
          "text": [
            "Arreglo: [ 1  2  3  4  5  6  7  8  9 10 11 12 13 14 15 16 17 18 19 20]\n",
            "Muestreo aleatorio:  [ 6 12 13  9 10 12  6 16  1 17  2 13  8 14  7 19  6 19 12 11]\n",
            "\n",
            "\n",
            "Árbol  0 tiene un error:  2141.613353645869\n",
            "Árbol  1 tiene un error:  2136.3519863123465\n",
            "Árbol  2 tiene un error:  2122.718759132052\n",
            "Árbol  3 tiene un error:  2087.278992468617\n",
            "Árbol  4 tiene un error:  2168.518742842026\n",
            "Árbol  5 tiene un error:  2113.8811455834793\n",
            "Árbol  6 tiene un error:  2127.933470769012\n",
            "Árbol  7 tiene un error:  2184.414847251443\n",
            "Árbol  8 tiene un error:  2138.1071697514985\n",
            "Árbol  9 tiene un error:  2132.097520859104\n"
          ]
        }
      ],
      "source": [
        "# Celda 2\n",
        "\n",
        "# Se crea un arreglo de 1 a 20\n",
        "np.random.seed(1)\n",
        "\n",
        "# Impresión de arreglo y muestreo aleatorio\n",
        "nums = np.arange(1, 21)\n",
        "print('Arreglo:', nums)\n",
        "print('Muestreo aleatorio: ', np.random.choice(a=nums, size=20, replace=True))\n",
        "\n",
        "# Se agrupan los datos en train y test -  respetando la partición inicial\n",
        "y_train_df = pd.DataFrame(y_train)\n",
        "train = pd.concat([X_train, y_train_df], axis=1)\n",
        "\n",
        "y_test_df = pd.DataFrame(y_test)\n",
        "test = pd.concat([X_test, y_test_df], axis=1)\n",
        "\n",
        "# Creación de 10 muestras de bootstrap \n",
        "np.random.seed(123)\n",
        "n_samples = train.shape[0]\n",
        "n_B = 10\n",
        "samples = [np.random.choice(a=n_samples, size=n_samples, replace=True) for _ in range(1, n_B +1 )]\n",
        "\n",
        "# Construcción un árbol de decisión para cada muestra boostrap\n",
        "\n",
        "# Definición del modelo usando DecisionTreeRegressor de sklearn\n",
        "treereg = DecisionTreeRegressor(max_depth=None, random_state=123)\n",
        "\n",
        "# DataFrame para guardar las predicciones de cada árbol\n",
        "y_pred = pd.DataFrame(index=test.index, columns=[list(range(n_B))])\n",
        "\n",
        "# Entrenamiento de un árbol sobre cada muestra boostrap y predicción sobre los datos de test\n",
        "for i, sample in enumerate(samples):\n",
        "    X_train = train.iloc[sample, :-1]\n",
        "    y_train = train.iloc[sample, -1]\n",
        "    treereg.fit(X_train, y_train)\n",
        "    y_pred.iloc[:,i] = treereg.predict(test.iloc[:, :-1])\n",
        "\n",
        "# Desempeño de cada árbol\n",
        "print(\"\\n\")\n",
        "\n",
        "for i in range(n_B):\n",
        "    print('Árbol ', i, 'tiene un error: ', np.sqrt(mean_squared_error(y_pred.iloc[:,i], y_test)))"
      ]
    },
    {
      "cell_type": "code",
      "execution_count": 8,
      "metadata": {
        "id": "cCP-RUIwfAwn",
        "outputId": "889220da-8626-4867-d31f-2b26007731a3",
        "colab": {
          "base_uri": "https://localhost:8080/"
        }
      },
      "outputs": [
        {
          "output_type": "stream",
          "name": "stdout",
          "text": [
            "Resultados en conjunto de test:\n",
            "MSE: 3227180.818\n",
            "RMSE: 1796.436\n",
            "MAE: 1340.016\n",
            "R2: 0.789\n"
          ]
        }
      ],
      "source": [
        "# Cálculo de MSE, RMSE, MAE y R2 para train y test\n",
        "\n",
        "# Cálculo de predicciones promedio para cada observación del set de test\n",
        "y_pred_mean = y_pred.mean(axis=1)\n",
        "\n",
        "# Cálculo del desempeño en el conjunto de test\n",
        "mse_test = mean_squared_error(y_test, y_pred_mean)\n",
        "rmse_test = np.sqrt(mse_test)\n",
        "mae_test = mean_absolute_error(y_test, y_pred_mean)\n",
        "r2_test = r2_score(y_test, y_pred_mean)\n",
        "\n",
        "# Impresión de resultados\n",
        "print('Resultados en conjunto de test:')\n",
        "print('MSE: {:.3f}'.format(mse_test))\n",
        "print('RMSE: {:.3f}'.format(rmse_test))\n",
        "print('MAE: {:.3f}'.format(mae_test))\n",
        "print('R2: {:.3f}'.format(r2_test))"
      ]
    },
    {
      "cell_type": "markdown",
      "source": [
        "El modelo bagging construido de manera manual con 10 árboles de regresión presenta un RMSE de 1796.44 y un MAE de 1340.016 para predecir el precio en el conjunto de Test. Este modelo presenta una mejora importante frente al árbol de decisión de regresión construido en el punto anterior (RMSE de 2609.54 y un MAE de 2000.83).\n",
        "\n",
        "| Punto  | Modelo                                  | RMSE     | MAE      |\n",
        "|--------|-----------------------------------------|----------|----------|\n",
        "|    1   | Arbol de regresión manual               | 2609.54  | 2000.83  |\n",
        "|    2   | Bagging Manual                          | 1796.44  | 1340.01  |"
      ],
      "metadata": {
        "id": "XzFIy2WqciCB"
      }
    },
    {
      "cell_type": "markdown",
      "metadata": {
        "id": "9JE9_kWHfAwn"
      },
      "source": [
        "### Punto 3 - Bagging con librería\n",
        "\n",
        "En la celda 3, con la librería sklearn, entrenen un modelo bagging con 10 árboles de regresión y el parámetro `max_features` igual a `log(n_features)` y comenten sobre el desempeño del modelo."
      ]
    },
    {
      "cell_type": "code",
      "source": [
        "# Definir el modelo\n",
        "n_features = len(X_train.columns)\n",
        "max_features = int(np.log(n_features))\n",
        "bagreg = BaggingRegressor(base_estimator=DecisionTreeRegressor(), n_estimators=10, max_features=max_features, bootstrap=True, oob_score=True, random_state=1)\n",
        "\n",
        "# Entrenemiento del modelo con set de entrenamiento y predicción en el set de test\n",
        "bagreg.fit(X_train, y_train)\n",
        "\n",
        "# Predicciones en train y test\n",
        "y_train_pred = bagreg.predict(X_train)\n",
        "y_test_pred = bagreg.predict(X_test)\n",
        "\n",
        "# Calcular MSE, RMSE, MAE y r2 en train y test\n",
        "# Train\n",
        "train_mse = mean_squared_error(y_train, y_train_pred)\n",
        "train_rmse = np.sqrt(train_mse)\n",
        "train_mae = mean_absolute_error(y_train, y_train_pred)\n",
        "train_r2 = r2_score(y_train, y_train_pred)\n",
        "\n",
        "# Test\n",
        "test_mse = mean_squared_error(y_test, y_test_pred)\n",
        "test_rmse = np.sqrt(test_mse)\n",
        "test_mae = mean_absolute_error(y_test, y_test_pred)\n",
        "test_r2 = r2_score(y_test, y_test_pred)\n",
        "\n",
        "# Imprimir resultados\n",
        "print('\\nResultados en conjunto de train:')\n",
        "print(\"MSE train:\", train_mse)\n",
        "print(\"RMSE train:\", train_rmse)\n",
        "print(\"MAE train:\", train_mae)\n",
        "print(\"r2 train:\", train_r2)\n",
        "\n",
        "print('\\nResultados en conjunto de test:')\n",
        "print(\"MSE test:\", test_mse)\n",
        "print(\"RMSE test:\", test_rmse)\n",
        "print(\"MAE test:\", test_mae)\n",
        "print(\"r2 test:\", test_r2)\n"
      ],
      "metadata": {
        "colab": {
          "base_uri": "https://localhost:8080/"
        },
        "id": "WxfpFj1y2nYC",
        "outputId": "0a10360a-abfc-4c48-bb93-252d7266bbd6"
      },
      "execution_count": 9,
      "outputs": [
        {
          "output_type": "stream",
          "name": "stdout",
          "text": [
            "\n",
            "Resultados en conjunto de train:\n",
            "MSE train: 5746335.100616486\n",
            "RMSE train: 2397.1514555022354\n",
            "MAE train: 1869.0357915895122\n",
            "r2 train: 0.6254426205239844\n",
            "\n",
            "Resultados en conjunto de test:\n",
            "MSE test: 7284044.142810102\n",
            "RMSE test: 2698.896838119253\n",
            "MAE test: 2106.931520947474\n",
            "r2 test: 0.5237987239501358\n"
          ]
        }
      ]
    },
    {
      "cell_type": "markdown",
      "source": [
        "El modelo bagging construido con ayuda de la librería sklearn, contemplando como parámetro 10 árboles de regresión y max_features = log(n_features), presenta un RMSE de 2698.89 y un MAE de 2106.93 para predecir el precio en el conjunto de Test. Este modelo no presenta una mejora importante frente al modelo de Baggin manual construido en el punto anterior (RMSE de 1796.44 y un MAE de 1340.01), lo que permite cuestionar si los parámetros entregados al algoritmo son los optimos para modelar el problema.\n",
        "\n",
        "\n",
        "| Punto  | Modelo                    | RMSE     | MAE      |\n",
        "|--------|---------------------------|----------|----------|\n",
        "|    1   | Arbol de regresión manual | 2609.54  | 2000.83  |\n",
        "|    2   | Bagging Manual            | 1796.44  | 1340.01  |\n",
        "|    3   | Bagging con librería      | 2698.89  | 2106.93  |\n",
        "\n"
      ],
      "metadata": {
        "id": "fyrrocv7d698"
      }
    },
    {
      "cell_type": "markdown",
      "metadata": {
        "id": "tJKj_8cJfAwo"
      },
      "source": [
        "### Punto 4 - Random forest con librería\n",
        "\n",
        "En la celda 4, usando la librería sklearn entrenen un modelo de Randon Forest para regresión  y comenten sobre el desempeño del modelo."
      ]
    },
    {
      "cell_type": "code",
      "execution_count": 10,
      "metadata": {
        "id": "vUW9COMXfAwo",
        "outputId": "3e1e8987-e339-44cc-80e9-dc62126f56ac",
        "colab": {
          "base_uri": "https://localhost:8080/"
        }
      },
      "outputs": [
        {
          "output_type": "stream",
          "name": "stdout",
          "text": [
            "\n",
            "Resultados en conjunto de train:\n",
            "MSE: 199069.58637264927\n",
            "RMSE: 446.1721488087858\n",
            "MAE: 270.79190057678534\n",
            "r2 score: 0.9870242543639485\n",
            "\n",
            "Resultados en conjunto de test:\n",
            "MSE: 3388844.4223823007\n",
            "RMSE: 1840.881425399882\n",
            "MAE: 1369.8477520770102\n",
            "r2 score: 0.7784510902688816\n"
          ]
        }
      ],
      "source": [
        "# Celda 4\n",
        "\n",
        "# Definir el modelo RandomForestRegressor\n",
        "rf = RandomForestRegressor()\n",
        "\n",
        "# Entrenar el modelo con los datos de entrenamiento\n",
        "rf.fit(X_train, y_train)\n",
        "\n",
        "# Realizar predicciones con los datos de entrenamiento y testeo\n",
        "y_pred_test = rf.predict(X_test)\n",
        "y_pred_train = rf.predict(X_train)\n",
        "\n",
        "# Calcular el MSE, RMSE, MAE y r2 para el set de entrenamiento\n",
        "mse_train = mean_squared_error(y_train, y_pred_train)\n",
        "rmse_train = np.sqrt(mse_train)\n",
        "mae_train = mean_absolute_error(y_train, y_pred_train)\n",
        "r2_train = r2_score(y_train, y_pred_train)\n",
        "\n",
        "# Calcular el MSE, RMSE, MAE y r2 para el set de prueba\n",
        "mse_test = mean_squared_error(y_test, y_pred_test)\n",
        "rmse_test = np.sqrt(mse_test)\n",
        "mae_test = mean_absolute_error(y_test, y_pred_test)\n",
        "r2_test = r2_score(y_test, y_pred_test)\n",
        "\n",
        "# Imprimir los resultados\n",
        "print('\\nResultados en conjunto de train:')\n",
        "print(\"MSE:\", mse_train)\n",
        "print(\"RMSE:\", rmse_train)\n",
        "print(\"MAE:\", mae_train)\n",
        "print(\"r2 score:\", r2_train)\n",
        "\n",
        "print('\\nResultados en conjunto de test:')\n",
        "print(\"MSE:\", mse_test)\n",
        "print(\"RMSE:\", rmse_test)\n",
        "print(\"MAE:\", mae_test)\n",
        "print(\"r2 score:\", r2_test)"
      ]
    },
    {
      "cell_type": "markdown",
      "source": [
        "El modelo Random Forest construido con ayuda de la librería sklearn, contemplando los parámetros por defecto presenta un RMSE de 1840.88 y un MAE de 1369.85 para predecir el precio en el conjunto de Test. Este modelo presenta una mejora importante frente al modelo de Baggin con librería construido en el punto anterior (RMSE de 2698.89  y un MAE de 2106.93). Sin embargo, como se puede ver en la tabla resumen, sigue teniendo mejor desempeño el modelo del Baggin Manual lo que permite pensar en encontrar los parámetros adecuados para el Random Forest que mejores un poco más su desempeño.\n",
        "\n",
        "\n",
        "| Punto  | Modelo                    | RMSE     | MAE      |\n",
        "|--------|---------------------------|----------|----------|\n",
        "|    1   | Arbol de regresión manual | 2609.54  | 2000.83  |\n",
        "|    2   | Bagging Manual            | 1796.44  | 1340.01  |\n",
        "|    3   | Bagging con librería      | 2698.89  | 2106.93  |\n",
        "|    4   | Random Forest con librería| 1840.88  | 1369.84  |"
      ],
      "metadata": {
        "id": "gR46bRl4gI1-"
      }
    },
    {
      "cell_type": "markdown",
      "metadata": {
        "id": "MBmrBgWqfAwo"
      },
      "source": [
        "### Punto 5 - Calibración de parámetros Random forest\n",
        "\n",
        "En la celda 5, calibren los parámetros max_depth, max_features y n_estimators del modelo de Randon Forest para regresión, comenten sobre el desempeño del modelo y describan cómo cada parámetro afecta el desempeño del modelo."
      ]
    },
    {
      "cell_type": "code",
      "execution_count": 11,
      "metadata": {
        "id": "NRh7S_GefAwo",
        "outputId": "cf1b1623-b55a-4f41-82bd-58079c291c2c",
        "colab": {
          "base_uri": "https://localhost:8080/",
          "height": 469
        }
      },
      "outputs": [
        {
          "output_type": "execute_result",
          "data": {
            "text/plain": [
              "Text(0, 0.5, 'RMSE en Train')"
            ]
          },
          "metadata": {},
          "execution_count": 11
        },
        {
          "output_type": "display_data",
          "data": {
            "text/plain": [
              "<Figure size 640x480 with 1 Axes>"
            ],
            "image/png": "[encoded data removed]"
          },
          "metadata": {}
        }
      ],
      "source": [
        "# Celda 5\n",
        "\n",
        "###################################################   Definición de n_estimators ##########################################################\n",
        "\n",
        "# Creación de lista de valores para iterar sobre diferentes valores de n_estimators\n",
        "estimator_range = range(10, 310, 10)\n",
        "\n",
        "# Definición de lista para almacenar el RMSE promedio para cada valor de n_estimators\n",
        "rmse_scores = []\n",
        "\n",
        "# Uso de un 5-fold cross-validation para cada valor de n_estimators\n",
        "for estimator in estimator_range:\n",
        "    rfr = RandomForestRegressor(n_estimators=estimator, random_state=1, n_jobs=-1)\n",
        "    rmse_scores.append(np.sqrt(-cross_val_score(rfr, X_train, y_train, cv=10, scoring='neg_mean_squared_error')).mean())\n",
        "\n",
        "# Gráfica del desempeño del modelo vs la cantidad de n_estimators\n",
        "plt.plot(estimator_range, rmse_scores)\n",
        "plt.xlabel('n_estimators')\n",
        "plt.ylabel('RMSE en Train')"
      ]
    },
    {
      "cell_type": "markdown",
      "metadata": {
        "id": "ffGQERRLfAwp"
      },
      "source": [
        "La idea es tener el menor RMSE con el menor número de árboles, para ello se evidencia que n_estimators = 150 con los datos de entrenamiento, a partir de allí parece estabilizarce."
      ]
    },
    {
      "cell_type": "code",
      "execution_count": 12,
      "metadata": {
        "id": "_2VjdsbRfAwp",
        "outputId": "84235c87-364e-4dd4-bf8a-6990bd1b9a2c",
        "colab": {
          "base_uri": "https://localhost:8080/",
          "height": 467
        }
      },
      "outputs": [
        {
          "output_type": "execute_result",
          "data": {
            "text/plain": [
              "Text(0, 0.5, 'RMSE en Train')"
            ]
          },
          "metadata": {},
          "execution_count": 12
        },
        {
          "output_type": "display_data",
          "data": {
            "text/plain": [
              "<Figure size 640x480 with 1 Axes>"
            ],
            "image/png": "[encoded data removed]"
          },
          "metadata": {}
        }
      ],
      "source": [
        "###################################################   Definición de max_features ##########################################################\n",
        "\n",
        "# Creación de lista de valores para iterar sobre diferentes valores de max_features\n",
        "feature_cols = X_train.columns\n",
        "feature_range = range(1, len(feature_cols)+1)\n",
        "\n",
        "# Definición de lista para almacenar la exactitud (accuracy) promedio para cada valor de max_features\n",
        "rmse_scores = []\n",
        "\n",
        "# Uso de un 10-fold cross-validation para cada valor de max_features\n",
        "for feature in feature_range:\n",
        "    rfr = RandomForestRegressor(n_estimators=150, max_features=feature, random_state=1, n_jobs=-1)\n",
        "    rmse_scores.append(np.sqrt(-cross_val_score(rfr, X_train, y_train, cv=10, scoring='neg_mean_squared_error')).mean())\n",
        "\n",
        "# Gráfica del desempeño del modelo vs la cantidad de max_features\n",
        "plt.plot(feature_range, rmse_scores)\n",
        "plt.xlabel('max_features')\n",
        "plt.ylabel('RMSE en Train')\n"
      ]
    },
    {
      "cell_type": "markdown",
      "metadata": {
        "id": "aqHx-u_tfAwp"
      },
      "source": [
        "El mejor performance es cuando está alrededor de 9, es decir con todas las variables. Como el max_feature es igual al número de variables que se tiene para el mejor RMSE, se pierde poder predictivo del Random Forest puesto que los árboles que se contruyen internamente ya no tendrían aleatoriedad puesto que serían iguales."
      ]
    },
    {
      "cell_type": "code",
      "execution_count": 13,
      "metadata": {
        "id": "xGXjIJ-ofAwp",
        "outputId": "de3b7423-dc25-4d82-f31e-fbb1ce129c3c",
        "colab": {
          "base_uri": "https://localhost:8080/",
          "height": 541
        }
      },
      "outputs": [
        {
          "output_type": "stream",
          "name": "stdout",
          "text": [
            "RMSE promedio en el conjunto de entrenamiento por validación cruzada:\n",
            "1280.7966689720797\n"
          ]
        },
        {
          "output_type": "display_data",
          "data": {
            "text/plain": [
              "<Figure size 640x480 with 1 Axes>"
            ],
            "image/png": "[encoded data removed]"
          },
          "metadata": {}
        },
        {
          "output_type": "stream",
          "name": "stdout",
          "text": [
            "RMSE en el conjunto de prueba:\n",
            "1813.289185579478\n"
          ]
        }
      ],
      "source": [
        "###################################################   Definición de max_depth ##########################################################\n",
        "\n",
        "# Definir los posibles valores de max_depth a evaluar\n",
        "max_depth_range = range(0, 35, 5)\n",
        "\n",
        "# Crear un diccionario con los hiperparámetros a optimizar\n",
        "param_grid = {'max_depth': max_depth_range}\n",
        "\n",
        "# Definir el modelo de Random Forest Regressor\n",
        "rf = RandomForestRegressor(n_estimators=150, random_state=1)\n",
        "\n",
        "# Realizar la búsqueda grid utilizando validación cruzada de 5 folds y RMSE como métrica de evaluación\n",
        "grid = GridSearchCV(rf, param_grid, cv=5, scoring='neg_mean_squared_error')\n",
        "grid.fit(X_train, y_train)\n",
        "\n",
        "# Imprimir los resultados de la búsqueda grid\n",
        "print(\"RMSE promedio en el conjunto de entrenamiento por validación cruzada:\")\n",
        "print(sqrt(-grid.best_score_))\n",
        "\n",
        "# Graficar los valores de max_depth_range vs. RMSE\n",
        "max_depth_values = []\n",
        "rmse_values = []\n",
        "\n",
        "for i in range(len(grid.cv_results_['params'])):\n",
        "    max_depth_values.append(grid.cv_results_['params'][i]['max_depth'])\n",
        "    rmse_values.append(sqrt(-grid.cv_results_['mean_test_score'][i]))\n",
        "\n",
        "plt.plot(max_depth_values, rmse_values)\n",
        "plt.xlabel('max_depth')\n",
        "plt.ylabel('RMSE')\n",
        "plt.title('Relación entre max_depth y RMSE')\n",
        "plt.show()\n",
        "\n",
        "# Evaluar el modelo con los mejores hiperparámetros en el conjunto de prueba\n",
        "y_pred = grid.predict(X_test)\n",
        "print(\"RMSE en el conjunto de prueba:\")\n",
        "print(sqrt(mean_squared_error(y_test, y_pred)))\n"
      ]
    },
    {
      "cell_type": "markdown",
      "metadata": {
        "id": "oz-lNsM6fAwp"
      },
      "source": [
        "Se observa que el max_depth = 15,  hace el RMSE mínimo y ya no presenta cambios significativos para los siguientes valores. "
      ]
    },
    {
      "cell_type": "code",
      "execution_count": 14,
      "metadata": {
        "id": "IYZ2PnfhfAwp",
        "outputId": "871805a0-29d6-441b-d47f-994921ca830a",
        "colab": {
          "base_uri": "https://localhost:8080/"
        }
      },
      "outputs": [
        {
          "output_type": "stream",
          "name": "stdout",
          "text": [
            "\n",
            "Resultados en conjunto de train:\n",
            "MSE: 481366.7321304794\n",
            "RMSE: 693.8059758538258\n",
            "MAE: 480.99535956759166\n",
            "r2 score: 0.9686235733564542\n",
            "\n",
            "Resultados en conjunto de test:\n",
            "MSE: 3044079.3973507225\n",
            "RMSE: 1744.7290326439584\n",
            "MAE: 1288.2929576649638\n",
            "r2 score: 0.8009904299047426\n"
          ]
        }
      ],
      "source": [
        "# Definición del modelo con los parámetros max_features=9 y n_estimators=150 \n",
        "rf_f = RandomForestRegressor(n_estimators=150, max_features=9, max_depth=15)\n",
        "rf_f.fit(X_train, y_train)\n",
        "\n",
        "# Realizar predicciones con los datos de entrenamiento y testeo\n",
        "y_pred_train_f = rf_f.predict(X_train)\n",
        "y_pred_test_f = rf_f.predict(X_test)\n",
        "\n",
        "# Calcular el MSE, RMSE, MAE y r2 para el set de entrenamiento\n",
        "mse_train_f = mean_squared_error(y_train, y_pred_train_f)\n",
        "rmse_train_f = np.sqrt(mse_train_f)\n",
        "mae_train_f = mean_absolute_error(y_train, y_pred_train_f)\n",
        "r2_train_f = r2_score(y_train, y_pred_train_f)\n",
        "\n",
        "# Calcular el MSE, RMSE, MAE y r2 para el set de prueba\n",
        "mse_test_f = mean_squared_error(y_test, y_pred_test_f)\n",
        "rmse_test_f = np.sqrt(mse_test_f)\n",
        "mae_test_f = mean_absolute_error(y_test, y_pred_test_f)\n",
        "r2_test_f = r2_score(y_test, y_pred_test_f)\n",
        "\n",
        "# Imprimir los resultados\n",
        "print('\\nResultados en conjunto de train:')\n",
        "print(\"MSE:\", mse_train_f)\n",
        "print(\"RMSE:\", rmse_train_f)\n",
        "print(\"MAE:\", mae_train_f)\n",
        "print(\"r2 score:\", r2_train_f)\n",
        "\n",
        "print('\\nResultados en conjunto de test:')\n",
        "print(\"MSE:\", mse_test_f)\n",
        "print(\"RMSE:\", rmse_test_f)\n",
        "print(\"MAE:\", mae_test_f)\n",
        "print(\"r2 score:\", r2_test_f)"
      ]
    },
    {
      "cell_type": "markdown",
      "source": [
        "El modelo Random Forest construido con ayuda de la librería sklearn, contemplando los mejores parámetros para su implementación presenta un RMSE de 1744.73 y un MAE de 1288.19 para predecir el precio en el conjunto de Test. Este modelo presenta una mejora importante frente a todos los modelos evaluados hasta este punto como se evidencia en la tabla a continuación, lo que permite resaltar la importancia de encontrar los mejores hiperparámetros para cada modelo.\n",
        "\n",
        "\n",
        "| Punto  | Modelo                                 | RMSE     | MAE      |\n",
        "|--------|----------------------------------------|----------|----------|\n",
        "|    1   | Arbol de regresión manual              | 2609.54  | 2000.83  |\n",
        "|    2   | Bagging Manual                         | 1796.44  | 1340.01  |\n",
        "|    3   | Bagging con librería                   | 2698.89  | 2106.93  |\n",
        "|    4   | Random Forest con librería             | 1840.88  | 1369.84  |\n",
        "|    5   | Random Forest con librería (optimizado)| 1744.73  | 1288.19  |"
      ],
      "metadata": {
        "id": "26xqt7dGhbjb"
      }
    },
    {
      "cell_type": "markdown",
      "metadata": {
        "id": "q8IHT9U1fAwp"
      },
      "source": [
        "### Punto 6 - XGBoost con librería\n",
        "\n",
        "En la celda 6 implementen un modelo XGBoost de regresión con la librería sklearn y comenten sobre el desempeño del modelo."
      ]
    },
    {
      "cell_type": "code",
      "execution_count": 15,
      "metadata": {
        "id": "Xm-j3cx7fAwq",
        "outputId": "05fe19af-2a06-44fd-9204-844024df7c8c",
        "colab": {
          "base_uri": "https://localhost:8080/"
        }
      },
      "outputs": [
        {
          "output_type": "stream",
          "name": "stdout",
          "text": [
            "\n",
            "Resultados en conjunto de train:\n",
            "MSE: 948264.8795126276\n",
            "RMSE: 973.7889296519178\n",
            "MAE: 723.0396615490773\n",
            "r2 score: 0.9381902374121404\n",
            "\n",
            "Resultados en conjunto de test:\n",
            "MSE: 2744933.378390514\n",
            "RMSE: 1656.784046999039\n",
            "MAE: 1208.7883110486882\n",
            "r2 score: 0.8205473838661901\n"
          ]
        }
      ],
      "source": [
        "# Celda 6\n",
        "\n",
        "# Se crea la instancia del modelo XGBRegressor\n",
        "xgb_reg = xgb.XGBRegressor()\n",
        "\n",
        "# Se ajusta el modelo con los datos de entrenamiento \n",
        "xgb_reg.fit(X_train, y_train)\n",
        "\n",
        "# Realizar predicciones con los datos de entrenamiento y testeo\n",
        "y_pred_train_xgb = xgb_reg.predict(X_train)\n",
        "y_pred_test_xgb = xgb_reg.predict(X_test)\n",
        "\n",
        "# Calcular el MSE, RMSE, MAE y r2 para el set de entrenamiento\n",
        "mse_train_xgb = mean_squared_error(y_train, y_pred_train_xgb)\n",
        "rmse_train_xgb = np.sqrt(mse_train_xgb)\n",
        "mae_train_xgb = mean_absolute_error(y_train, y_pred_train_xgb)\n",
        "r2_train_xgb = r2_score(y_train, y_pred_train_xgb)\n",
        "\n",
        "# Calcular el MSE, RMSE, MAE y r2 para el set de prueba\n",
        "mse_test_xgb = mean_squared_error(y_test, y_pred_test_xgb)\n",
        "rmse_test_xgb = np.sqrt(mse_test_xgb)\n",
        "mae_test_xgb = mean_absolute_error(y_test, y_pred_test_xgb)\n",
        "r2_test_xgb = r2_score(y_test, y_pred_test_xgb)\n",
        "\n",
        "# Imprimir los resultados\n",
        "print('\\nResultados en conjunto de train:')\n",
        "print(\"MSE:\", mse_train_xgb)\n",
        "print(\"RMSE:\", rmse_train_xgb)\n",
        "print(\"MAE:\", mae_train_xgb)\n",
        "print(\"r2 score:\", r2_train_xgb)\n",
        "\n",
        "print('\\nResultados en conjunto de test:')\n",
        "print(\"MSE:\", mse_test_xgb)\n",
        "print(\"RMSE:\", rmse_test_xgb)\n",
        "print(\"MAE:\", mae_test_xgb)\n",
        "print(\"r2 score:\", r2_test_xgb)"
      ]
    },
    {
      "cell_type": "markdown",
      "source": [
        "El modelo XGBoost de regresión construido con ayuda de la librería XGBoost, contemplando los hiperparámetros por defecto presenta un RMSE de 1656.78 y un MAE de 1208.79 para predecir el precio en el conjunto de Test. Este modelo presenta una mejora importante frente a todos los modelos evaluados hasta este punto como se evidencia en la tabla a continuación, lo que hace evidente la capacidad predictiva de estos modelos incluso mejor de lo que muestra el random forest con sus mejores hiperparámetros.\n",
        "\n",
        "\n",
        "| Punto  | Modelo                                  | RMSE     | MAE      |\n",
        "|--------|-----------------------------------------|----------|----------|\n",
        "|    1   | Arbol de regresión manual               | 2609.54  | 2000.83  |\n",
        "|    2   | Bagging Manual                          | 1796.44  | 1340.01  |\n",
        "|    3   | Bagging con librería                    | 2698.89  | 2106.93  |\n",
        "|    4   | Random Forest con librería (por defecto)| 1840.88  | 1369.84  |\n",
        "|    5   | Random Forest con librería (optimizado) | 1744.73  | 1288.19  |\n",
        "|    6   | XGBoost con librería (por defecto)      | 1656.78  | 1208.79  |"
      ],
      "metadata": {
        "id": "zTj1vFlMiiX1"
      }
    },
    {
      "cell_type": "markdown",
      "metadata": {
        "id": "3oulsv3gfAwq"
      },
      "source": [
        "### Punto 7 - Calibración de parámetros XGBoost\n",
        "\n",
        "En la celda 7 calibren los parámetros learning rate, gamma y colsample_bytree del modelo XGBoost para regresión, comenten sobre el desempeño del modelo y describan cómo cada parámetro afecta el desempeño del modelo."
      ]
    },
    {
      "cell_type": "code",
      "execution_count": 16,
      "metadata": {
        "id": "fwAxys3mfAwq",
        "outputId": "8fd30290-1852-46b2-adde-ad2a849ad50f",
        "colab": {
          "base_uri": "https://localhost:8080/"
        }
      },
      "outputs": [
        {
          "output_type": "stream",
          "name": "stdout",
          "text": [
            "Mejores parámetros:  {'colsample_bytree': 1, 'gamma': 0, 'learning_rate': 0.15}\n",
            "Score:  0.876866159647798\n"
          ]
        }
      ],
      "source": [
        "# Definimos los posibles valores de los parámetros a calibrar\n",
        "params = {\n",
        "    'learning_rate': [0.05, 0.1, 0.15],\n",
        "    'gamma': [0, 0.1, 0.2],\n",
        "    'colsample_bytree': [0.5, 0.7, 1]\n",
        "}\n",
        "\n",
        "# Creamos una instancia del modelo XGBRegressor\n",
        "reg = xgb.XGBRegressor()\n",
        "\n",
        "# Aplicamos Grid Search con validación cruzada de 5 pliegues para encontrar la mejor combinación de parámetros\n",
        "grid_search = GridSearchCV(reg, param_grid=params, cv=5)\n",
        "grid_search.fit(X_train, y_train)\n",
        "\n",
        "# Imprimimos los valores óptimos de los parámetros y el score del modelo\n",
        "print(\"Mejores parámetros: \", grid_search.best_params_)\n",
        "print(\"Score: \", grid_search.best_score_)"
      ]
    },
    {
      "cell_type": "markdown",
      "source": [
        "* **learning_rate** es la tasa de aprendizaje del modelo. Controla la magnitud de los ajustes que se realizan en los pesos del modelo con cada iteración. Si se establece un valor demasiado bajo, el modelo puede tardar mucho en converger, mientras que un valor demasiado alto puede causar que el modelo no converja en absoluto. En este caso, el valor óptimo encontrado fue de 0.15.\n",
        "\n",
        "* **gamma** es un parámetro de regularización que controla la complejidad del modelo. A medida que aumenta gamma, se reduce la complejidad del modelo y se evita el sobreajuste. En este caso, el valor óptimo encontrado fue de 0, lo que significa que no se aplicó regularización gamma.\n",
        "\n",
        "* **colsample_bytree** es el porcentaje de características que se utilizarán para cada árbol. Si se establece un valor demasiado bajo, se pueden perder características importantes y el modelo puede subajustar. Por otro lado, si se establece un valor demasiado alto, el modelo puede sobreajustar. En este caso, el valor óptimo encontrado fue de 1, lo que significa que se utilizaron todas las características para cada árbol lo cual está en coherencia con lo encontrado en el punto 5 donde se pedía optimizar el parámetro 'max_features' y este era igual al número de variables.\n",
        "\n",
        "El score del modelo encontrado fue de 0.8768, lo que indica un buen desempeño en la tarea de regresión. Con los mejores parámetros para el modelo XGBoost se implementa a continuación:"
      ],
      "metadata": {
        "id": "ttJclI37BPta"
      }
    },
    {
      "cell_type": "code",
      "execution_count": 17,
      "metadata": {
        "id": "e19cF1kWfAwq",
        "outputId": "5f78f1f0-7ea5-4034-ab8b-55fc137affc0",
        "colab": {
          "base_uri": "https://localhost:8080/"
        }
      },
      "outputs": [
        {
          "output_type": "stream",
          "name": "stdout",
          "text": [
            "\n",
            "Resultados en conjunto de train:\n",
            "MSE: 1314088.0850609252\n",
            "RMSE: 1146.336811352111\n",
            "MAE: 853.8817584347444\n",
            "r2 score: 0.914345164191996\n",
            "\n",
            "Resultados en conjunto de test:\n",
            "MSE: 2528313.318451748\n",
            "RMSE: 1590.0670798591323\n",
            "MAE: 1169.3449246096006\n",
            "r2 score: 0.8347091251926289\n"
          ]
        }
      ],
      "source": [
        "# Definir los parámetros del modelo\n",
        "params = {'colsample_bytree': 1, 'gamma': 0, 'learning_rate': 0.15, 'objective': 'reg:squarederror'}\n",
        "\n",
        "# Instanciar el modelo\n",
        "xgb_reg_f = xgb.XGBRegressor(**params)\n",
        "\n",
        "# Entrenar el modelo\n",
        "xgb_reg_f.fit(X_train, y_train)\n",
        "\n",
        "# Realizar predicciones con los datos de entrenamiento y testeo\n",
        "y_pred_train_xgb_f = xgb_reg_f.predict(X_train)\n",
        "y_pred_test_xgb_f = xgb_reg_f.predict(X_test)\n",
        "\n",
        "# Calcular el MSE, RMSE, MAE y r2 para el set de entrenamiento\n",
        "mse_train_xgb_f = mean_squared_error(y_train, y_pred_train_xgb_f)\n",
        "rmse_train_xgb_f = np.sqrt(mse_train_xgb_f)\n",
        "mae_train_xgb_f = mean_absolute_error(y_train, y_pred_train_xgb_f)\n",
        "r2_train_xgb_f = r2_score(y_train, y_pred_train_xgb_f)\n",
        "\n",
        "# Calcular el MSE, RMSE, MAE y r2 para el set de prueba\n",
        "mse_test_xgb_f = mean_squared_error(y_test, y_pred_test_xgb_f)\n",
        "rmse_test_xgb_f = np.sqrt(mse_test_xgb_f)\n",
        "mae_test_xgb_f = mean_absolute_error(y_test, y_pred_test_xgb_f)\n",
        "r2_test_xgb_f = r2_score(y_test, y_pred_test_xgb_f)\n",
        "\n",
        "# Imprimir los resultados\n",
        "print('\\nResultados en conjunto de train:')\n",
        "print(\"MSE:\", mse_train_xgb_f)\n",
        "print(\"RMSE:\", rmse_train_xgb_f)\n",
        "print(\"MAE:\", mae_train_xgb_f)\n",
        "print(\"r2 score:\", r2_train_xgb_f)\n",
        "\n",
        "print('\\nResultados en conjunto de test:')\n",
        "print(\"MSE:\", mse_test_xgb_f)\n",
        "print(\"RMSE:\", rmse_test_xgb_f)\n",
        "print(\"MAE:\", mae_test_xgb_f)\n",
        "print(\"r2 score:\", r2_test_xgb_f)"
      ]
    },
    {
      "cell_type": "markdown",
      "source": [
        "El modelo XGBoost de regresión construido con ayuda de la librería XGBoost, contemplando los mejores hiperparámetros encontrados con la definición de GridSearchCV de la librería Sklearn presenta un RMSE de 1590.07 y un MAE de 1169.34 para predecir el precio en el conjunto de Test. Este modelo presenta el mejor desempeño de todos los modelos evaluados a lo largo del taller. Nuevamente pone en evidencia la capacidad predictiva de estos modelos y lo relevante que es encontrar sus hiperparámetros para potenciarlos aún más.\n",
        "\n",
        "\n",
        "| Punto  | Modelo                                  | RMSE     | MAE      |\n",
        "|--------|-----------------------------------------|----------|----------|\n",
        "|    1   | Arbol de regresión manual               | 2609.54  | 2000.83  |\n",
        "|    2   | Bagging Manual                          | 1796.44  | 1340.01  |\n",
        "|    3   | Bagging con librería                    | 2698.89  | 2106.93  |\n",
        "|    4   | Random Forest con librería (por defecto)| 1840.88  | 1369.84  |\n",
        "|    5   | Random Forest con librería (optimizado) | 1744.73  | 1288.19  |\n",
        "|    6   | XGBoost con librería (por defecto)      | 1656.78  | 1208.79  |\n",
        "|    7   | XGBoost con librería (optimizado)       | 1590.07  | 1169.34  |"
      ],
      "metadata": {
        "id": "_UrYSWbGj8cz"
      }
    },
    {
      "cell_type": "markdown",
      "metadata": {
        "id": "OW7GG-SLfAwq"
      },
      "source": [
        "### Punto 8 - Comparación y análisis de resultados\n",
        "En la celda 8 comparen los resultados obtenidos de los diferentes modelos (random forest y XGBoost) y comenten las ventajas del mejor modelo y las desventajas del modelo con el menor desempeño."
      ]
    },
    {
      "cell_type": "code",
      "execution_count": 18,
      "metadata": {
        "id": "wrbK54eofAwq",
        "colab": {
          "base_uri": "https://localhost:8080/",
          "height": 563
        },
        "outputId": "b8ba13d3-c090-4d32-bd1f-875cd0e6ea44"
      },
      "outputs": [
        {
          "output_type": "display_data",
          "data": {
            "text/plain": [
              "<Figure size 640x480 with 1 Axes>"
            ],
            "image/png": "[encoded data removed]"
          },
          "metadata": {}
        }
      ],
      "source": [
        "# Celda 8\n",
        "colors = ['tab:blue', 'tab:blue', 'tab:blue', 'tab:green']\n",
        "\n",
        "# Gráfica de barras\n",
        "fig = plt.figure()\n",
        "ax = fig.add_axes([0,0,1,1])\n",
        "ax.set_title(\"MSE de modelos evaluados\")\n",
        "ejeX = ['MSE RF', 'MSE RF Final', 'MSE XGB', 'MSE XGB Final']\n",
        "ejeY = [mse_test, mse_test_f, mse_test_xgb, mse_test_xgb_f]\n",
        "ax.bar(ejeX, ejeY, color=colors)\n",
        "\n",
        "# Formato etiquetas\n",
        "def addlabels(x,y,plotP):\n",
        "    for i in range(len(x)):\n",
        "        plotP.text(i, y[i]+0.005, str(round(y[i], 3)), ha='center')\n",
        "addlabels(ejeX, ejeY, plt)\n",
        "\n",
        "plt.show()"
      ]
    },
    {
      "cell_type": "code",
      "source": [
        "colors = ['tab:blue', 'tab:blue', 'tab:blue', 'tab:green']\n",
        "\n",
        "# Gráfica de barras\n",
        "fig = plt.figure()\n",
        "ax = fig.add_axes([0,0,1,1])\n",
        "ax.set_title(\"RMSE de modelos evaluados\")\n",
        "ejeX = ['RMSE RF', 'RMSE RF Final', 'RMSE XGB', 'RMSE XGB Final']\n",
        "ejeY = [rmse_test, rmse_test_f, rmse_test_xgb, rmse_test_xgb_f]\n",
        "ax.bar(ejeX, ejeY, color=colors)\n",
        "\n",
        "# Formato etiquetas\n",
        "def addlabels(x,y,plotP):\n",
        "    for i in range(len(x)):\n",
        "        plotP.text(i, y[i]+0.005, str(round(y[i], 3)), ha='center')\n",
        "addlabels(ejeX, ejeY, plt)\n",
        "\n",
        "plt.show()"
      ],
      "metadata": {
        "colab": {
          "base_uri": "https://localhost:8080/",
          "height": 563
        },
        "id": "_CxHyYMADpvZ",
        "outputId": "a6aee768-93dd-4ce2-deb3-ea961342ec94"
      },
      "execution_count": 19,
      "outputs": [
        {
          "output_type": "display_data",
          "data": {
            "text/plain": [
              "<Figure size 640x480 with 1 Axes>"
            ],
            "image/png": "[encoded data removed]"
          },
          "metadata": {}
        }
      ]
    },
    {
      "cell_type": "code",
      "source": [
        "colors = ['tab:blue', 'tab:blue', 'tab:blue', 'tab:green']\n",
        "\n",
        "# Gráfica de barras\n",
        "fig = plt.figure()\n",
        "ax = fig.add_axes([0,0,1,1])\n",
        "ax.set_title(\"R2 de modelos evaluados\")\n",
        "ejeX = ['R2 RF', 'R2 RF Final', 'R2 XGB', 'R2 XGB Final']\n",
        "ejeY = [r2_test, r2_test_f, r2_test_xgb, r2_test_xgb_f]\n",
        "ax.bar(ejeX, ejeY, color=colors)\n",
        "\n",
        "# Formato etiquetas\n",
        "def addlabels(x,y,plotP):\n",
        "    for i in range(len(x)):\n",
        "        plotP.text(i, y[i]+0.005, str(round(y[i], 3)), ha='center')\n",
        "addlabels(ejeX, ejeY, plt)\n",
        "\n",
        "plt.show()"
      ],
      "metadata": {
        "colab": {
          "base_uri": "https://localhost:8080/",
          "height": 563
        },
        "id": "wJWAImJIDPj4",
        "outputId": "59aadef4-134c-4fdc-8f97-2442e0d54dff"
      },
      "execution_count": 20,
      "outputs": [
        {
          "output_type": "display_data",
          "data": {
            "text/plain": [
              "<Figure size 640x480 with 1 Axes>"
            ],
            "image/png": "[encoded data removed]"
          },
          "metadata": {}
        }
      ]
    },
    {
      "cell_type": "code",
      "source": [
        "colors = ['tab:blue', 'tab:blue', 'tab:blue', 'tab:green']\n",
        "\n",
        "# Gráfica de barras\n",
        "fig = plt.figure()\n",
        "ax = fig.add_axes([0,0,1,1])\n",
        "ax.set_title(\"MAE de modelos evaluados\")\n",
        "ejeX = ['MAE RF', 'MAE RF Final', 'MAE XGB', 'MAE XGB Final']\n",
        "ejeY = [mae_test, mae_test_f, mae_test_xgb, mae_test_xgb_f]\n",
        "ax.bar(ejeX, ejeY, color=colors)\n",
        "\n",
        "# Formato etiquetas\n",
        "def addlabels(x,y,plotP):\n",
        "    for i in range(len(x)):\n",
        "        plotP.text(i, y[i]+0.005, str(round(y[i], 3)), ha='center')\n",
        "addlabels(ejeX, ejeY, plt)\n",
        "\n",
        "plt.show()"
      ],
      "metadata": {
        "colab": {
          "base_uri": "https://localhost:8080/",
          "height": 563
        },
        "id": "RqT3yrWCDd6U",
        "outputId": "e7646a59-5968-444c-e4ac-934c069db95b"
      },
      "execution_count": 21,
      "outputs": [
        {
          "output_type": "display_data",
          "data": {
            "text/plain": [
              "<Figure size 640x480 with 1 Axes>"
            ],
            "image/png": "[encoded data removed]"
          },
          "metadata": {}
        }
      ]
    },
    {
      "cell_type": "markdown",
      "source": [
        "En términos generales, tanto Random Forest como XGBoost son técnicas de ensamble que utilizan múltiples árboles de decisión para mejorar la precisión de la predicción en un problema de regresión. Sin embargo, hay algunas diferencias clave entre ambos modelos.\n",
        "\n",
        "En cuanto a los resultados obtenidos, el modelo de Random Forest optimizado (modelo 5) tiene un RMSE de 1744.73 y un MAE de 1288.19, mientras que el modelo de XGBoost optimizado (modelo 7) tiene un RMSE de 1590.07 y un MAE de 1169.34. El modelo de XGBoost optimizado tiene un mejor rendimiento en ambos indicadores en comparación con el modelo de Random Forest optimizado.\n",
        "\n",
        "Las ventajas del modelo de XGBoost incluyen:\n",
        "\n",
        "* Mayor precisión en la predicción en comparación con otros modelos evaluados.\n",
        "* Funciona bien en conjuntos de datos grandes y complejos, ya que puede manejar una gran cantidad de variables predictoras y tiene una alta capacidad de generalización.\n",
        "* Puede manejar tanto variables numéricas como categóricas, lo que lo hace más flexible que otros modelos.\n",
        "\n",
        "Las desventajas del modelo con el menor desempeño, es decir, el modelo de Random Forest con la librería (modelo 4), incluyen:\n",
        "\n",
        "* No aprovecha al máximo los datos, ya que utiliza el mismo conjunto de datos para entrenar cada árbol de decisión.\n",
        "* Puede ser propenso al sobreajuste, especialmente si se utilizan muchos árboles de decisión en el modelo.\n",
        "* No es tan eficiente como otros modelos en términos de tiempo de entrenamiento y predicción, especialmente en conjuntos de datos muy grandes.\n",
        "\n",
        "En resumen, el modelo de XGBoost optimizado tiene un mejor rendimiento en términos de precisión de predicción y flexibilidad en comparación con el modelo de Random Forest con la librería como se ha ido discutiendo a lo largo del taller. Además, la optimización de hiperparámetros puede mejorar significativamente el rendimiento del modelo. En particular, el modelo de XGBoost optimizado tuvo el mejor desempeño en términos de RMSE, MSE, MAE y R2  como se evidencia en las gráficas presentadas."
      ],
      "metadata": {
        "id": "fV54q8xjmuIk"
      }
    }
  ],
  "metadata": {
    "kernelspec": {
      "display_name": "Python 3 (ipykernel)",
      "language": "python",
      "name": "python3"
    },
    "language_info": {
      "codemirror_mode": {
        "name": "ipython",
        "version": 3
      },
      "file_extension": ".py",
      "mimetype": "text/x-python",
      "name": "python",
      "nbconvert_exporter": "python",
      "pygments_lexer": "ipython3",
      "version": "3.10.4"
    },
    "colab": {
      "provenance": []
    }
  },
  "nbformat": 4,
  "nbformat_minor": 0
}